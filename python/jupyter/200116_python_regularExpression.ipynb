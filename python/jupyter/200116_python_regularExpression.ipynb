{
 "cells": [
  {
   "cell_type": "code",
   "execution_count": 10,
   "metadata": {},
   "outputs": [
    {
     "name": "stdout",
     "output_type": "stream",
     "text": [
      "no\n"
     ]
    }
   ],
   "source": [
    "import re\n",
    "pat = re.compile('[a,b,c]')\n",
    "text = 'hello'\n",
    "if pat.search(text) :\n",
    "    print(text)\n",
    "else:\n",
    "    print('no')"
   ]
  },
  {
   "cell_type": "code",
   "execution_count": 26,
   "metadata": {},
   "outputs": [
    {
     "name": "stdout",
     "output_type": "stream",
     "text": [
      "a5z\n"
     ]
    }
   ],
   "source": [
    "import re\n",
    "pat = re.compile('^a.+[xz]$')\n",
    "text = 'a5z'\n",
    "if pat.search(text) :\n",
    "    print(text)\n",
    "else:\n",
    "    print('no')"
   ]
  },
  {
   "cell_type": "code",
   "execution_count": 34,
   "metadata": {},
   "outputs": [
    {
     "name": "stdout",
     "output_type": "stream",
     "text": [
      "abcccccccccccccccc\n"
     ]
    }
   ],
   "source": [
    "import re\n",
    "pat = re.compile('^abc*$')\n",
    "text = 'abcccccccccccccccc'\n",
    "if pat.search(text) :\n",
    "    print(text)\n",
    "else:\n",
    "    print('no')"
   ]
  },
  {
   "cell_type": "code",
   "execution_count": 39,
   "metadata": {},
   "outputs": [
    {
     "name": "stdout",
     "output_type": "stream",
     "text": [
      "<re.Match object; span=(0, 14), match='791111-1234567'>\n"
     ]
    }
   ],
   "source": [
    "import re\n",
    "text = '791111-1234567'\n",
    "regex = '\\d{6}-[1~4]{1}\\d{6}'\n",
    "pattern = re.compile(regex)\n",
    "res = pattern.match(text)\n",
    "print(res)"
   ]
  },
  {
   "cell_type": "code",
   "execution_count": 2,
   "metadata": {},
   "outputs": [
    {
     "name": "stdout",
     "output_type": "stream",
     "text": [
      "<re.Match object; span=(0, 13), match='123-12-123456'>\n",
      "123-12-123456\n",
      "123-12-123456\n"
     ]
    }
   ],
   "source": [
    "import re\n",
    "text = '123-12-123456'\n",
    "regex = '1\\d{2}-(1\\d{1})-(\\d{6})'\n",
    "pattern = re.compile(regex)\n",
    "res = pattern.match(text)\n",
    "print(res)\n",
    "print(res.group())\n",
    "print(res.group(0))"
   ]
  },
  {
   "cell_type": "code",
   "execution_count": 5,
   "metadata": {},
   "outputs": [
    {
     "name": "stdout",
     "output_type": "stream",
     "text": [
      "<re.Match object; span=(0, 41), match='안녕하세요. 저는 OOO에서 태어났고... 열심히 하겠습니다. 감사합니다.'>\n"
     ]
    }
   ],
   "source": [
    "import re\n",
    "\n",
    "text = '안녕하세요. 저는 OOO에서 태어났고... 열심히 하겠습니다. 감사합니다.'\n",
    "regex1 = '안녕하세요.*[열심히].*감사합니다.'\n",
    "regex2 = '안녕하세요.*[열심히].*감사합니다[.]'\n",
    "regex = '안녕하세요.*[열심히].*감사합니다[.]$'\n",
    "pattern = re.compile(regex)\n",
    "res = pattern.match(text)\n",
    "print(res)\n",
    "\n",
    "# 이경우엔 .이 온점이 아니라 뭐든 되는 1글자 의미였기에 감사합니다 하고 . 아닌 딴 거 써도 됨 > regex2\n",
    "# regex2 : 감사합니다. 까지 온점은 해야하는데 그 뒤에 뭘 써도 됨 > regex\n",
    "# regex : 끝 문자 $까지 써서 무조건 감사합니다. 로 끝나야함"
   ]
  },
  {
   "cell_type": "code",
   "execution_count": 4,
   "metadata": {},
   "outputs": [
    {
     "name": "stdout",
     "output_type": "stream",
     "text": [
      "꼬렙\n",
      "1234\n"
     ]
    }
   ],
   "source": [
    "import re\n",
    "text = '이름:꼬렙, 전화번호:1234'\n",
    "regex1 = '이름:(\\w+), 전화번호:(\\d{4})'\n",
    "regex2 = '이름:(.+), 전화번호:([0-9]{4})'\n",
    "pattern = re.compile(regex1)\n",
    "res = pattern.match(text)\n",
    "print(res.group(1))\n",
    "print(res.group(2))\n",
    "\n",
    "# regex1 : 공백이 들어오면 안됨\n",
    "# regex1 : 공백이 들어와도 됨"
   ]
  },
  {
   "cell_type": "code",
   "execution_count": 16,
   "metadata": {},
   "outputs": [
    {
     "name": "stdout",
     "output_type": "stream",
     "text": [
      "<re.Match object; span=(0, 8), match='12ab1234'>\n"
     ]
    }
   ],
   "source": [
    "import re\n",
    "text = '12ab1234'\n",
    "regex = '\\d{2}[a-z]{2}\\d{4}$'\n",
    "pattern = re.compile(regex)\n",
    "res = pattern.match(text)\n",
    "print(res)"
   ]
  },
  {
   "cell_type": "code",
   "execution_count": 30,
   "metadata": {},
   "outputs": [
    {
     "name": "stdout",
     "output_type": "stream",
     "text": [
      "<re.Match object; span=(0, 1), match='1'>\n"
     ]
    }
   ],
   "source": [
    "import re\n",
    "text = '1'\n",
    "regex = '^[a-zA-Z0-9]+$'\n",
    "pattern = re.compile(regex)\n",
    "res = pattern.match(text)\n",
    "print(res)"
   ]
  },
  {
   "cell_type": "code",
   "execution_count": 28,
   "metadata": {},
   "outputs": [
    {
     "name": "stdout",
     "output_type": "stream",
     "text": [
      "<re.Match object; span=(0, 1), match=']'>\n"
     ]
    }
   ],
   "source": [
    "import re\n",
    "text = ']'\n",
    "regex = '[\\[\\]]'\n",
    "pattern = re.compile(regex)\n",
    "res = pattern.match(text)\n",
    "print(res)"
   ]
  },
  {
   "cell_type": "code",
   "execution_count": 36,
   "metadata": {},
   "outputs": [
    {
     "name": "stdout",
     "output_type": "stream",
     "text": [
      "[('12', 'ab')]\n"
     ]
    }
   ],
   "source": [
    "import re\n",
    "text = '12ab1234'\n",
    "regex = '(\\d{2})([a-z]{2})\\d{4}$'\n",
    "pattern = re.compile(regex)\n",
    "res = pattern.findall(text)\n",
    "print(res)"
   ]
  },
  {
   "cell_type": "code",
   "execution_count": 42,
   "metadata": {},
   "outputs": [
    {
     "name": "stdout",
     "output_type": "stream",
     "text": [
      "100-99-23242324\n"
     ]
    }
   ],
   "source": [
    "import re\n",
    "text = '대표자 : 꼬렙 사업자등록번호 : 100-99-23242324 대표전화 : 051-1234-5678'\n",
    "regex = '\\d{3}-\\d{2}-\\d{8}'\n",
    "pattern = re.compile(regex)\n",
    "res = pattern.search(text)\n",
    "print(res.group())"
   ]
  },
  {
   "cell_type": "code",
   "execution_count": 41,
   "metadata": {},
   "outputs": [
    {
     "name": "stdout",
     "output_type": "stream",
     "text": [
      "051-1234-5678\n"
     ]
    }
   ],
   "source": [
    "import re\n",
    "text = '대표자 : 꼬렙 사업자등록번호 : 100-99-23242324 대표전화 : 051-1234-5678'\n",
    "regex = '\\d{2,3}-\\d{4}-\\d{4}'\n",
    "pattern = re.compile(regex)\n",
    "res = pattern.search(text)\n",
    "print(res.group())"
   ]
  },
  {
   "cell_type": "code",
   "execution_count": 18,
   "metadata": {},
   "outputs": [
    {
     "name": "stdout",
     "output_type": "stream",
     "text": [
      "['서울', '강남', '맛집', '주꾸미']\n"
     ]
    }
   ],
   "source": [
    "import re\n",
    "text = '#서울, #강남, #맛집, #주꾸미'\n",
    "regex = '#(\\w+),*\\s*'\n",
    "pattern = re.compile(regex)\n",
    "res = pattern.findall(text)\n",
    "print(res)"
   ]
  },
  {
   "cell_type": "code",
   "execution_count": 73,
   "metadata": {
    "scrolled": true
   },
   "outputs": [
    {
     "name": "stdout",
     "output_type": "stream",
     "text": [
      "['com', 'net']\n",
      "<re.Match object; span=(3, 10), match='a@a.com'>\n",
      "<re.Match object; span=(25, 32), match='c@c.net'>\n"
     ]
    }
   ],
   "source": [
    "import re\n",
    "text = '1번 a@a.com 2번 b@b.org 3번 c@c.net'\n",
    "regex = '\\w@\\w[.](com|net)'\n",
    "pattern = re.compile(regex)\n",
    "res1 = pattern.findall(text)\n",
    "res2 = pattern.finditer(text)\n",
    "print(res1)\n",
    "for it in res2:\n",
    "    print(it)"
   ]
  },
  {
   "cell_type": "code",
   "execution_count": 82,
   "metadata": {},
   "outputs": [
    {
     "name": "stdout",
     "output_type": "stream",
     "text": [
      "a@a.com\n",
      "c@c.net\n"
     ]
    }
   ],
   "source": [
    "import re\n",
    "text = '1번 a@a.com 2번 b@b.org 3번 c@c.net'\n",
    "regex = '\\w@\\w[.].{3}'\n",
    "pattern = re.compile(regex)\n",
    "res = pattern.findall(text)\n",
    "for it in res:\n",
    "    if it[-3:] == 'com' or it[-3:] == 'net':\n",
    "        print(it)"
   ]
  },
  {
   "cell_type": "code",
   "execution_count": 84,
   "metadata": {},
   "outputs": [
    {
     "name": "stdout",
     "output_type": "stream",
     "text": [
      "010-****-8181\n"
     ]
    }
   ],
   "source": [
    "import re\n",
    "text = '010-8478-8181'\n",
    "regex = '(\\d{3})-\\d{3,4}-(\\d{4})'\n",
    "pattern = re.compile(regex)\n",
    "change = '\\g<1>-****-\\g<2>'\n",
    "res = pattern.sub(change, text)\n",
    "print(res)"
   ]
  },
  {
   "cell_type": "code",
   "execution_count": 95,
   "metadata": {},
   "outputs": [
    {
     "name": "stdout",
     "output_type": "stream",
     "text": [
      "ggoreb@*****.com\n",
      "seorab@*****.com\n",
      "human@*****.com\n"
     ]
    }
   ],
   "source": [
    "import re\n",
    "user_list = ['ggoreb@naver.com', 'seorab@gmail.com', 'human@ggoreb.com']\n",
    "regex = '(\\w@).+([.].+)'\n",
    "pattern = re.compile(regex)\n",
    "change = '\\g<1>*****\\g<2>'\n",
    "for user in user_list:\n",
    "    res = pattern.sub(change, user)\n",
    "    print(res)"
   ]
  },
  {
   "cell_type": "code",
   "execution_count": 96,
   "metadata": {},
   "outputs": [],
   "source": [
    "import requests\n",
    "result = requests.get('https://www.dhlottery.co.kr/gameResult.do?method=byWin&wiselog=H_C_1_1')\n",
    "result.encoding = None"
   ]
  },
  {
   "cell_type": "code",
   "execution_count": 97,
   "metadata": {},
   "outputs": [
    {
     "name": "stdout",
     "output_type": "stream",
     "text": [
      "['1', '15', '17', '23', '25', '41', '10']\n"
     ]
    }
   ],
   "source": [
    "import re\n",
    "pat = re.compile('lrg\\s+ball.+>(\\d+)</span>')\n",
    "regax = pat.findall(result.text)\n",
    "print(regax)"
   ]
  },
  {
   "cell_type": "code",
   "execution_count": 96,
   "metadata": {},
   "outputs": [
    {
     "name": "stdout",
     "output_type": "stream",
     "text": [
      "None\n"
     ]
    }
   ],
   "source": [
    "import re \n",
    "text = 'asdf123A'\n",
    "regex = '[0-9]*[a-z]+[^A-Za-z]*$'\n",
    "pattern = re.compile(regex) \n",
    "res = pattern.search(text) \n",
    "print(res)"
   ]
  },
  {
   "cell_type": "code",
   "execution_count": 94,
   "metadata": {},
   "outputs": [
    {
     "name": "stdout",
     "output_type": "stream",
     "text": [
      "<re.Match object; span=(0, 18), match='ef8456안녕@ZAsd5384.'>\n"
     ]
    }
   ],
   "source": [
    "import re\n",
    "pattern = re.compile('^[a-z]{2}\\d{4}.*[.]$')\n",
    "print(pattern.match('ef8456안녕@ZAsd5384.'))"
   ]
  }
 ],
 "metadata": {
  "kernelspec": {
   "display_name": "Python 3",
   "language": "python",
   "name": "python3"
  },
  "language_info": {
   "codemirror_mode": {
    "name": "ipython",
    "version": 3
   },
   "file_extension": ".py",
   "mimetype": "text/x-python",
   "name": "python",
   "nbconvert_exporter": "python",
   "pygments_lexer": "ipython3",
   "version": "3.7.4"
  }
 },
 "nbformat": 4,
 "nbformat_minor": 2
}
