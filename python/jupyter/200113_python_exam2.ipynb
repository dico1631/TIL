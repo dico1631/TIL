{
 "cells": [
  {
   "cell_type": "code",
   "execution_count": 2,
   "metadata": {},
   "outputs": [
    {
     "name": "stdout",
     "output_type": "stream",
     "text": [
      "졸업\n"
     ]
    }
   ],
   "source": [
    "subjectList = ['운영체제', '데이터베이스', '객체지향언어'] # 수강한 과목 리스트\n",
    "average = 60 # 평점\n",
    "# 코드 작성\n",
    "# 리스트 요소의 개수를 확인할 때 len() 함수 사용.\n",
    "if len(subjectList) >= 3 and average >= 70:\n",
    "    print(\"학위 취득\")\n",
    "elif len(subjectList) >= 3 or average >= 70:\n",
    "    print(\"졸업\")\n",
    "else: print(\"재수강\")"
   ]
  },
  {
   "cell_type": "code",
   "execution_count": 3,
   "metadata": {},
   "outputs": [
    {
     "name": "stdout",
     "output_type": "stream",
     "text": [
      "이수완료\n"
     ]
    }
   ],
   "source": [
    "subject = {'자료구조' : 80, '알고리즘' : 60, '네트워크' : 90}\n",
    "# 코드 작성\n",
    "if '자료구조' in subject:\n",
    "    s = subject['자료구조']\n",
    "    if s >= 60:\n",
    "        print('이수완료')"
   ]
  },
  {
   "cell_type": "code",
   "execution_count": 1,
   "metadata": {},
   "outputs": [
    {
     "name": "stdout",
     "output_type": "stream",
     "text": [
      "짝수\n"
     ]
    }
   ],
   "source": [
    "num = 122\n",
    "# 코드 작성, % 연산자\n",
    "if num % 2 == 0:\n",
    "    print(\"짝수\")\n",
    "else: print(\"홀수\")"
   ]
  },
  {
   "cell_type": "code",
   "execution_count": 2,
   "metadata": {},
   "outputs": [
    {
     "name": "stdout",
     "output_type": "stream",
     "text": [
      "1\n",
      "1\n",
      "1\n",
      "3\n",
      "1\n",
      "2\n"
     ]
    }
   ],
   "source": [
    "import random\n",
    "\n",
    "while True:\n",
    "    num = random.randint(1,3)\n",
    "    print(\"%d\" %num)\n",
    "    if num == 2: break"
   ]
  },
  {
   "cell_type": "code",
   "execution_count": 3,
   "metadata": {},
   "outputs": [
    {
     "name": "stdout",
     "output_type": "stream",
     "text": [
      "500500\n"
     ]
    }
   ],
   "source": [
    "num = 1\n",
    "total = 0\n",
    "# 코드 작성\n",
    "while num <= 1000:\n",
    "    total += num\n",
    "    num += 1\n",
    "print(total)"
   ]
  },
  {
   "cell_type": "code",
   "execution_count": 5,
   "metadata": {},
   "outputs": [
    {
     "name": "stdout",
     "output_type": "stream",
     "text": [
      "166833\n"
     ]
    }
   ],
   "source": [
    "num = 1\n",
    "total = 0\n",
    "# 코드 작성\n",
    "while num <= 1000:\n",
    "    if num % 3 == 0:\n",
    "        total += num\n",
    "    num += 1\n",
    "print(total)"
   ]
  },
  {
   "cell_type": "code",
   "execution_count": 10,
   "metadata": {},
   "outputs": [
    {
     "name": "stdout",
     "output_type": "stream",
     "text": [
      "481\n"
     ]
    }
   ],
   "source": [
    "scoreList = [20, 55, 67, 82, 45, 33, 90, 87, 100, 25]\n",
    "total = 0\n",
    "# 코드 작성 - List pop() 함수 이용\n",
    "while scoreList:\n",
    "    num = scoreList.pop()\n",
    "    if num >= 50:\n",
    "        total += num\n",
    "print(total)\n"
   ]
  },
  {
   "cell_type": "code",
   "execution_count": 52,
   "metadata": {},
   "outputs": [
    {
     "name": "stdout",
     "output_type": "stream",
     "text": [
      "359\n"
     ]
    }
   ],
   "source": [
    "studentInfo = {\n",
    " 'a':33, 'b':55, 'c':67, 'd':82, 'e':45,\n",
    " 'f':33, 'g':90, 'h':87, 'i': 100, 'j':25\n",
    "}\n",
    "total = 0\n",
    "# 코드 작성 - Dictionary values(), List pop() 등 이용\n",
    "studentScore = list(studentInfo)\n",
    "while studentScore:\n",
    "    student = studentScore.pop()\n",
    "    score = studentInfo.get(student)\n",
    "    if score >= 80:\n",
    "        total += score\n",
    "print(total)"
   ]
  },
  {
   "cell_type": "code",
   "execution_count": 54,
   "metadata": {},
   "outputs": [
    {
     "name": "stdout",
     "output_type": "stream",
     "text": [
      "359\n"
     ]
    }
   ],
   "source": [
    "studentInfo = {\n",
    " 'a':33, 'b':55, 'c':67, 'd':82, 'e':45,\n",
    " 'f':33, 'g':90, 'h':87, 'i': 100, 'j':25\n",
    "}\n",
    "total = 0\n",
    "# 코드 작성 - Dictionary values(), List pop() 등 이용\n",
    "studentScore = list(studentInfo.values())\n",
    "while studentScore:\n",
    "    score = studentScore.pop()\n",
    "    if score >= 80:\n",
    "        total += score\n",
    "print(total)"
   ]
  },
  {
   "cell_type": "code",
   "execution_count": 51,
   "metadata": {
    "scrolled": true
   },
   "outputs": [
    {
     "name": "stdout",
     "output_type": "stream",
     "text": [
      "3 / 1\n",
      "1 / 1\n",
      "두 눈이 같으므로 종료\n"
     ]
    }
   ],
   "source": [
    "import random # random 모듈 import\n",
    "# 코드 작성\n",
    "# random.randint(1, 6) 함수 이용\n",
    "while True:\n",
    "    first = random.randint(1,6)\n",
    "    second = random.randint(1,6)\n",
    "    print(\"%d / %d\" %(first, second))\n",
    "    # 두 눈이 같을 때 break\n",
    "    if first == second:\n",
    "        print(\"두 눈이 같으므로 종료\")\n",
    "        break"
   ]
  },
  {
   "cell_type": "code",
   "execution_count": 56,
   "metadata": {},
   "outputs": [
    {
     "name": "stdout",
     "output_type": "stream",
     "text": [
      "{34, 6, 40, 45, 13, 16}\n"
     ]
    }
   ],
   "source": [
    "import random\n",
    "lottoList = set() # 빈 List 생성\n",
    "# 코드 작성\n",
    "# 반복문 조건으로 len() 함수 이용\n",
    "while len(lottoList) < 6:\n",
    "    # random.randint(1, 45) 함수 이용\n",
    "    lottoNum = random.randint(1,45)\n",
    "    lottoList.add(lottoNum)\n",
    "print(lottoList)"
   ]
  },
  {
   "cell_type": "code",
   "execution_count": 57,
   "metadata": {},
   "outputs": [
    {
     "name": "stdout",
     "output_type": "stream",
     "text": [
      "*\n",
      "**\n",
      "***\n",
      "****\n",
      "*****\n"
     ]
    }
   ],
   "source": [
    "i = 1 # '*' 개수\n",
    "# 코드 작성\n",
    "    # 문자열 * 숫자 기능 이용\n",
    "while i <= 5:\n",
    "    print('*' * i)\n",
    "    i += 1"
   ]
  },
  {
   "cell_type": "code",
   "execution_count": 58,
   "metadata": {},
   "outputs": [
    {
     "name": "stdout",
     "output_type": "stream",
     "text": [
      "    *\n",
      "   **\n",
      "  ***\n",
      " ****\n",
      "*****\n"
     ]
    }
   ],
   "source": [
    "i = 1 # '*' 개수\n",
    "space = 4 # 여백의 크기\n",
    "# 코드 작성\n",
    "while i <= 5:\n",
    "    # print() 후 줄바꿈 하지 않음 → print('내용', end='')\n",
    "    # 문자열 * 숫자 기능 이용\n",
    "    print(' ' * space, end = '')\n",
    "    print('*' * i)\n",
    "    space -= 1\n",
    "    i += 1"
   ]
  },
  {
   "cell_type": "code",
   "execution_count": 50,
   "metadata": {},
   "outputs": [
    {
     "name": "stdout",
     "output_type": "stream",
     "text": [
      "    *\n",
      "   **\n",
      "  ***\n",
      " ****\n",
      "*****\n"
     ]
    }
   ],
   "source": [
    "i = 1 # '*' 개수\n",
    "space = 4 # 여백의 크기\n",
    "# 코드 작성\n",
    "while i <= 5:\n",
    "    # print() 후 줄바꿈 하지 않음 → print('내용', end='')\n",
    "    # 문자열 * 숫자 기능 이용\n",
    "    star = '*' * i\n",
    "    print(' ' * space, end = '')\n",
    "    print(star)\n",
    "    space -= 1\n",
    "    i += 1"
   ]
  },
  {
   "cell_type": "code",
   "execution_count": 63,
   "metadata": {},
   "outputs": [
    {
     "name": "stdout",
     "output_type": "stream",
     "text": [
      "5 6 7 8 9 "
     ]
    }
   ],
   "source": [
    "for i in range (5,10):\n",
    "    print(i, end = \" \")"
   ]
  },
  {
   "cell_type": "code",
   "execution_count": 61,
   "metadata": {},
   "outputs": [
    {
     "name": "stdout",
     "output_type": "stream",
     "text": [
      "0 2 4 6 8 "
     ]
    }
   ],
   "source": [
    "for i in range (0,10,2):\n",
    "    print(i, end = \" \")"
   ]
  },
  {
   "cell_type": "code",
   "execution_count": 62,
   "metadata": {},
   "outputs": [
    {
     "name": "stdout",
     "output_type": "stream",
     "text": [
      "0 1 2 3 4 5 6 7 8 9 "
     ]
    }
   ],
   "source": [
    "for i in range (10):\n",
    "    print(i, end = \" \")"
   ]
  },
  {
   "cell_type": "code",
   "execution_count": 65,
   "metadata": {},
   "outputs": [
    {
     "name": "stdout",
     "output_type": "stream",
     "text": [
      "10 8 6 4 2 "
     ]
    }
   ],
   "source": [
    "for i in range (10,0,-2):\n",
    "    print(i, end = \" \")"
   ]
  },
  {
   "cell_type": "code",
   "execution_count": 66,
   "metadata": {},
   "outputs": [
    {
     "name": "stdout",
     "output_type": "stream",
     "text": [
      "[17, 34, 51, 68, 85]\n"
     ]
    }
   ],
   "source": [
    "data = list(range(1,101))\n",
    "result = []\n",
    "result = [ i for i in data if i % 17 == 0]\n",
    "print(result)"
   ]
  },
  {
   "cell_type": "code",
   "execution_count": 71,
   "metadata": {},
   "outputs": [
    {
     "name": "stdout",
     "output_type": "stream",
     "text": [
      "2 * 2 = 2\n",
      "2 * 2 = 4\n",
      "2 * 2 = 6\n",
      "2 * 2 = 8\n",
      "2 * 2 = 10\n",
      "2 * 2 = 12\n",
      "2 * 2 = 14\n",
      "2 * 2 = 16\n",
      "2 * 2 = 18\n"
     ]
    }
   ],
   "source": [
    "result = []\n",
    "result = [print(\"2 * %d = %d\"%(i,i * j)) for i in range(2,3) for j in range(1,10)]"
   ]
  },
  {
   "cell_type": "code",
   "execution_count": 80,
   "metadata": {},
   "outputs": [
    {
     "name": "stdout",
     "output_type": "stream",
     "text": [
      "3\n",
      "13\n",
      "23\n",
      "30\n",
      "31\n",
      "32\n",
      "33\n",
      "34\n",
      "35\n",
      "36\n",
      "37\n",
      "38\n",
      "39\n",
      "43\n",
      "53\n",
      "63\n",
      "73\n",
      "83\n",
      "93\n"
     ]
    }
   ],
   "source": [
    "count = 0\n",
    "# 코드 작성\n",
    "for num in range(100):\n",
    "    num += 1\n",
    "    # 숫자를 문자열로 바꾸기 str(숫자) 함수 이용\n",
    "    num = str(num)\n",
    "    # 자료의 내부 값 확인 in 연산자 이용\n",
    "    for i in num:\n",
    "        if i == '3':\n",
    "            print(num)\n",
    "            break"
   ]
  },
  {
   "cell_type": "code",
   "execution_count": 9,
   "metadata": {
    "scrolled": true
   },
   "outputs": [
    {
     "name": "stdout",
     "output_type": "stream",
     "text": [
      "[10, 20, 40, 50, 70]\n"
     ]
    }
   ],
   "source": [
    "list1 = [10, 20, 30, 40, 50, 60, 70]\n",
    "# 코드 작성\n",
    "# remove() 함수를 사용하지 말고 pop() 함수를 이용하여 작성\n",
    "for i in reversed(range(len(list1))):\n",
    "    if list1[i] % 3 == 0:\n",
    "        list1.pop(i)\n",
    "print(list1)"
   ]
  },
  {
   "cell_type": "code",
   "execution_count": 2,
   "metadata": {},
   "outputs": [],
   "source": [
    "def sorting(target, students, last):\n",
    "    temp = target[1]\n",
    "    while students[last][1] > temp:\n",
    "        students[last + 1] = students[last]\n",
    "        last -= 1\n",
    "        if last == -1: break\n",
    "    students[last + 1] = target"
   ]
  },
  {
   "cell_type": "code",
   "execution_count": 11,
   "metadata": {
    "scrolled": true
   },
   "outputs": [
    {
     "name": "stdout",
     "output_type": "stream",
     "text": [
      "6\n",
      "a\n",
      "37.21\n",
      "s\n",
      "37.21\n",
      "e\n",
      "37.2\n",
      "w\n",
      "41\n",
      "q\n",
      "39\n",
      "y\n",
      "37.21\n",
      "[['e', 37.2], ['a', 37.21], ['s', 37.21], ['y', 37.21], ['q', 39.0], ['w', 41.0]]\n",
      "['e', 37.2]\n",
      "print1 :  a\n",
      "print2 :  s\n",
      "print2 :  y\n"
     ]
    }
   ],
   "source": [
    "n = int(input())\n",
    "students = []\n",
    "for i in range(n):\n",
    "    name = input()\n",
    "    score = float(input())\n",
    "    students.append([name, score])\n",
    "# print(students)\n",
    "\n",
    "for i in range(1, len(students)):\n",
    "    target = students[i]\n",
    "    sorting(target, students, i-1)\n",
    "    \n",
    "print(students)\n",
    "\n",
    "first = students[0]\n",
    "print(first)\n",
    "for i in range(1, len(students)):\n",
    "    if first[1] != students[i][1]:\n",
    "        print(\"print1 : \", students[i][0])\n",
    "        while students[i][1] == students[i+1][1]:\n",
    "            print(\"print2 : \", students[i+1][0])\n",
    "            i += 1\n",
    "        break"
   ]
  },
  {
   "cell_type": "code",
   "execution_count": 12,
   "metadata": {},
   "outputs": [
    {
     "name": "stdout",
     "output_type": "stream",
     "text": [
      "Test3\n",
      "Test2\n"
     ]
    }
   ],
   "source": [
    "students = [['Test1', 52], ['Test2', 53], ['Test3', 53]]\n",
    "scores = set([ eachOne[1] for eachOne in students])\n",
    "scores = list(scores)\n",
    "scores.sort(reverse=True)\n",
    "scores.pop()\n",
    "second_score = scores.pop()\n",
    "for eachOne in reversed(students):\n",
    "    if(eachOne[1] == second_score):\n",
    "        print(eachOne[0])"
   ]
  },
  {
   "cell_type": "code",
   "execution_count": 14,
   "metadata": {},
   "outputs": [
    {
     "name": "stdout",
     "output_type": "stream",
     "text": [
      "True\n"
     ]
    }
   ],
   "source": [
    "def isOdd(num):\n",
    "    return num % 2 != 0\n",
    "\n",
    "print(isOdd(3))"
   ]
  },
  {
   "cell_type": "code",
   "execution_count": 1,
   "metadata": {},
   "outputs": [
    {
     "name": "stdout",
     "output_type": "stream",
     "text": [
      "8\n",
      "2\n"
     ]
    }
   ],
   "source": [
    "def plus(num1, num2):\n",
    "    return num1 + num2\n",
    "\n",
    "def minus(num1, num2):\n",
    "    if num1 < num2:\n",
    "        num1, num2 = num2, num1\n",
    "    return num1 - num2\n",
    "\n",
    "result1 = plus(5, 3)\n",
    "result2 = minus(5, 3)\n",
    "\n",
    "print(result1)\n",
    "print(result2)"
   ]
  },
  {
   "cell_type": "code",
   "execution_count": 17,
   "metadata": {},
   "outputs": [
    {
     "name": "stdout",
     "output_type": "stream",
     "text": [
      "15\n"
     ]
    }
   ],
   "source": [
    "def totalSum(num):\n",
    "    result = 0\n",
    "    for i in range(1, num+1):\n",
    "        result += i\n",
    "    return result\n",
    "        \n",
    "tsum = totalSum(5)\n",
    "print(tsum)"
   ]
  },
  {
   "cell_type": "code",
   "execution_count": 2,
   "metadata": {},
   "outputs": [
    {
     "name": "stdout",
     "output_type": "stream",
     "text": [
      "(30, 7.5)\n"
     ]
    }
   ],
   "source": [
    "def calculator(nums):\n",
    "    total = 0\n",
    "    for num in nums:\n",
    "        total += num\n",
    "    return total, total/len(nums)\n",
    "    \n",
    "    \n",
    "result = calculator([3, 7, 9, 11])\n",
    "print(result)"
   ]
  },
  {
   "cell_type": "code",
   "execution_count": 5,
   "metadata": {},
   "outputs": [
    {
     "name": "stdout",
     "output_type": "stream",
     "text": [
      "[20, 40, 60, 80]\n"
     ]
    }
   ],
   "source": [
    "list1 = [10, 20, 30, 40]\n",
    "func = lambda num : num * 2\n",
    "func(list1[2])\n",
    "list2 = [ func(i) for i in list1]\n",
    "print(list2)"
   ]
  },
  {
   "cell_type": "code",
   "execution_count": 7,
   "metadata": {},
   "outputs": [
    {
     "name": "stdout",
     "output_type": "stream",
     "text": [
      "[<function <listcomp>.<lambda> at 0x000001E1BBCF4438>, <function <listcomp>.<lambda> at 0x000001E1BBCF44C8>, <function <listcomp>.<lambda> at 0x000001E1BBCF4558>, <function <listcomp>.<lambda> at 0x000001E1BBCF45E8>]\n"
     ]
    }
   ],
   "source": [
    "list1 = [10, 20, 30, 40]\n",
    "list2 = [ lambda num : num * 2 for i in list1]\n",
    "print(list2)"
   ]
  },
  {
   "cell_type": "code",
   "execution_count": 10,
   "metadata": {},
   "outputs": [
    {
     "name": "stdout",
     "output_type": "stream",
     "text": [
      "6\n",
      "38\n",
      "26\n",
      "0\n"
     ]
    }
   ],
   "source": [
    "def diff_sum(a, b, c):\n",
    "    list1 = [a, b, c]\n",
    "    list2 = []\n",
    "    for i in list1:\n",
    "        list2.append(i**2)\n",
    "    print(sum(list2) - sum(list1))\n",
    "\n",
    "diff_sum(2, 2, 2)\n",
    "diff_sum(3, 4, 5)\n",
    "diff_sum(5, 3, 1)\n",
    "diff_sum(1, 1, 1)"
   ]
  },
  {
   "cell_type": "code",
   "execution_count": 32,
   "metadata": {},
   "outputs": [
    {
     "name": "stdout",
     "output_type": "stream",
     "text": [
      "10\n"
     ]
    }
   ],
   "source": [
    "def get_sequence(n):\n",
    "    term = 0\n",
    "    for i in range(1, n+1):\n",
    "        for j in range(1, i+1):\n",
    "            term += j\n",
    "    print(term)\n",
    "        \n",
    "get_sequence(3)"
   ]
  },
  {
   "cell_type": "code",
   "execution_count": 39,
   "metadata": {},
   "outputs": [
    {
     "name": "stdout",
     "output_type": "stream",
     "text": [
      "t\n",
      "th\n"
     ]
    }
   ],
   "source": [
    "def  get_mid_char(word):\n",
    "    half = len(word)//2\n",
    "    if len(word) % 2 == 0:\n",
    "        print(word[half-1:half+1])\n",
    "    else:\n",
    "        print(word[half])\n",
    "\n",
    "get_mid_char('functions')\n",
    "get_mid_char('python')"
   ]
  },
  {
   "cell_type": "code",
   "execution_count": 48,
   "metadata": {},
   "outputs": [
    {
     "name": "stdout",
     "output_type": "stream",
     "text": [
      "안녕하세요\n",
      "15\n",
      "안녕하세요안녕하세요안녕하세요"
     ]
    }
   ],
   "source": [
    "def print_str(word, num):\n",
    "    for repeat in range(num):\n",
    "        print(word[repeat % len(word)], end = \"\")\n",
    "\n",
    "word = input()\n",
    "num = int(input())\n",
    "print_str(word, num)"
   ]
  },
  {
   "cell_type": "code",
   "execution_count": 51,
   "metadata": {},
   "outputs": [
    {
     "name": "stdout",
     "output_type": "stream",
     "text": [
      "11\n"
     ]
    }
   ],
   "source": [
    "def get_total(num):\n",
    "    num = str(num)\n",
    "    total = 0\n",
    "    for i in num:\n",
    "        total += int(i)\n",
    "    print(total)\n",
    "    \n",
    "get_total(10505)"
   ]
  },
  {
   "cell_type": "code",
   "execution_count": 14,
   "metadata": {},
   "outputs": [
    {
     "name": "stdout",
     "output_type": "stream",
     "text": [
      "1234\n",
      "python\n"
     ]
    }
   ],
   "source": [
    "text = ''\n",
    "# 코드 작성\n",
    "# 함수명 str_adder (가변 입력)\n",
    "def str_adder(*args):\n",
    "    global text\n",
    "    for i in args:\n",
    "        text += i\n",
    "    print(text)\n",
    "    text = ''\n",
    "\n",
    "\n",
    "str_adder('1', '2', '3', '4') # → 1234\n",
    "str_adder('p', 'y', 't', 'h', 'o', 'n') # → python"
   ]
  },
  {
   "cell_type": "code",
   "execution_count": 19,
   "metadata": {},
   "outputs": [
    {
     "name": "stdout",
     "output_type": "stream",
     "text": [
      "[6, 7, 8]\n"
     ]
    }
   ],
   "source": [
    "# def myfunc(numbers):\n",
    "#     result = []\n",
    "#     for number in numbers:\n",
    "#         if number > 5:\n",
    "#             result.append(number)\n",
    "#     return result\n",
    "\n",
    "myfunc = lambda numbers : [number for number in numbers if number > 5]\n",
    "result = myfunc([2, 3, 4, 5, 6, 7, 8])\n",
    "\n",
    "print(result)"
   ]
  },
  {
   "cell_type": "code",
   "execution_count": 31,
   "metadata": {},
   "outputs": [
    {
     "name": "stdout",
     "output_type": "stream",
     "text": [
      "this is text 1★\n",
      "여긴 t1! ☆\n"
     ]
    }
   ],
   "source": [
    "f = open('c:/dev/text.txt', 'rt', encoding='utf-8')\n",
    "print(f.read())"
   ]
  },
  {
   "cell_type": "code",
   "execution_count": 40,
   "metadata": {},
   "outputs": [
    {
     "name": "stdout",
     "output_type": "stream",
     "text": [
      "숫자 합 141\n"
     ]
    }
   ],
   "source": [
    "f = open('c:/dev/number.txt', 'rt')\n",
    "num_text = f.read()\n",
    "numbers = num_text.split()\n",
    "total = 0\n",
    "for num in numbers:\n",
    "    total += int(num)\n",
    "print(\"숫자 합\", total)"
   ]
  },
  {
   "cell_type": "code",
   "execution_count": 34,
   "metadata": {},
   "outputs": [
    {
     "name": "stdout",
     "output_type": "stream",
     "text": [
      "python\n",
      "kotlin\n",
      "fortran\n"
     ]
    }
   ],
   "source": [
    "f = open('c:/dev/text.txt', 'rt', encoding='utf-8')\n",
    "text = f.read()\n",
    "text_list = text.split()\n",
    "for word in text_list:\n",
    "    for i in word:\n",
    "        if i == 't':\n",
    "            print(word)\n",
    "            break;"
   ]
  }
 ],
 "metadata": {
  "kernelspec": {
   "display_name": "Python 3",
   "language": "python",
   "name": "python3"
  },
  "language_info": {
   "codemirror_mode": {
    "name": "ipython",
    "version": 3
   },
   "file_extension": ".py",
   "mimetype": "text/x-python",
   "name": "python",
   "nbconvert_exporter": "python",
   "pygments_lexer": "ipython3",
   "version": "3.7.4"
  }
 },
 "nbformat": 4,
 "nbformat_minor": 2
}
