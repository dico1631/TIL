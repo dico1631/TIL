{
 "cells": [
  {
   "cell_type": "markdown",
   "metadata": {},
   "source": [
    "# selenium 기본설정\n",
    "\n",
    "1. 파이썬 라이브러리 셀레니움 설치\n",
    "    : conda install selenium\n",
    "2. 사용할 브라우저의 드라이버 설치 (selenium은 브라우저를 움직이는데, 이를 돕는 프로그램)\n",
    "    : https://selenium.dev/selenium/docs/api/py/index.html 에서 chrome에 맞는 것 설치"
   ]
  },
  {
   "cell_type": "code",
   "execution_count": 3,
   "metadata": {},
   "outputs": [
    {
     "name": "stdout",
     "output_type": "stream",
     "text": [
      "0\n"
     ]
    }
   ],
   "source": [
    "#script로 작성되어서 소스코드 자체를 가져오는 requests로는 못 가져옴\n",
    "import requests\n",
    "from bs4 import BeautifulSoup\n",
    "result = requests.get('http://ggoreb.com/http/wait.jsp')\n",
    "soup = BeautifulSoup(result.text, 'html.parser')\n",
    "print(len(soup.find_all('p'))) # → 0"
   ]
  },
  {
   "cell_type": "code",
   "execution_count": 4,
   "metadata": {},
   "outputs": [
    {
     "data": {
      "text/plain": [
       "'\\n\\n<!DOCTYPE html>\\n<html>\\n<head>\\n<meta charset=\"utf-8\">\\n<title>Insert title here</title>\\n</head>\\n<body>\\t\\n\\t<script>\\n\\t\\tdocument.body.innerHTML += \\'<p>내용</p>\\';\\n\\n\\t\\tsetTimeout(function() {\\n\\t\\t\\tdocument.body.innerHTML += \\'<p>5초 뒤 추가 내용</p>\\';\\n\\t\\t}, 5000);\\n\\n\\t\\tsetTimeout(function() {\\n\\t\\t\\tdocument.body.innerHTML += \\'<p>10초 뒤 추가 내용</p>\\';\\n\\t\\t}, 10000);\\n\\t</script>\\n</body>\\n</html>'"
      ]
     },
     "execution_count": 4,
     "metadata": {},
     "output_type": "execute_result"
    }
   ],
   "source": [
    "result.text"
   ]
  },
  {
   "cell_type": "markdown",
   "metadata": {},
   "source": [
    "# selenium 사용법"
   ]
  },
  {
   "cell_type": "markdown",
   "metadata": {},
   "source": [
    "### data 가져오기"
   ]
  },
  {
   "cell_type": "code",
   "execution_count": 16,
   "metadata": {},
   "outputs": [],
   "source": [
    "from selenium import webdriver as wd\n",
    "driver = wd.Chrome(executable_path='chromedriver.exe')\n",
    "\n",
    "driver.get('http://ggoreb.com/http/wait.jsp')\n",
    "\n",
    "# driver.find_element_by_css_selector('p:nth-child(2)')\n",
    "\n",
    "# print(driver.find_elements_by_tag_name('p')[1].text)"
   ]
  },
  {
   "cell_type": "code",
   "execution_count": 17,
   "metadata": {},
   "outputs": [
    {
     "name": "stdout",
     "output_type": "stream",
     "text": [
      "5초 뒤 추가 내용\n"
     ]
    }
   ],
   "source": [
    "driver.find_element_by_css_selector('p:nth-child(2)')\n",
    "\n",
    "print(driver.find_elements_by_tag_name('p')[1].text)"
   ]
  },
  {
   "cell_type": "markdown",
   "metadata": {},
   "source": [
    "### wait\n",
    "\n",
    "1. 명시적 wait : 대기할 시간을 정확히 쓰기"
   ]
  },
  {
   "cell_type": "code",
   "execution_count": 18,
   "metadata": {},
   "outputs": [
    {
     "name": "stdout",
     "output_type": "stream",
     "text": [
      "5초 뒤 추가 내용\n"
     ]
    }
   ],
   "source": [
    "from selenium.webdriver.common.by import By\n",
    "from selenium.webdriver.support.ui import WebDriverWait\n",
    "from selenium.webdriver.support import expected_conditions as EC\n",
    "\n",
    "from selenium import webdriver as wd\n",
    "driver = wd.Chrome(executable_path='chromedriver.exe')\n",
    "\n",
    "driver.get('http://ggoreb.com/http/wait.jsp')\n",
    "\n",
    "try :\n",
    "    #10초 대기\n",
    "    element = WebDriverWait(driver, 10).until(\n",
    "    EC.presence_of_element_located((By.CSS_SELECTOR, 'p:nth-of-type(2)'))\n",
    "    )\n",
    "    print(driver.find_elements_by_tag_name('p')[1].text)\n",
    "except Exception as e:\n",
    "    print('오류 발생', e)"
   ]
  },
  {
   "cell_type": "markdown",
   "metadata": {},
   "source": [
    "2. 암시적 wait (이 사이트에선 안됨)\n",
    "    : 서버에서 받을 data를 다 받아올 때까지 기다림. script로 5초, 10초 뒤에 작동하게 만든 것까진 안됨"
   ]
  },
  {
   "cell_type": "code",
   "execution_count": null,
   "metadata": {},
   "outputs": [],
   "source": [
    "from selenium import webdriver as wd\n",
    "driver = wd.Chrome(executable_path='chromedriver.exe')\n",
    "from selenium.webdriver.common.by import By\n",
    "from selenium.webdriver.support.ui import WebDriverWait\n",
    "from selenium.webdriver.support import expected_conditions as EC\n",
    "driver.get('http://ggoreb.com/http/wait.jsp')\n",
    "driver.implicitly_wait(10)\n",
    "print(driver.find_elements_by_tag_name('p')[1].text)"
   ]
  },
  {
   "cell_type": "markdown",
   "metadata": {},
   "source": [
    "### javascript 작동시키기"
   ]
  },
  {
   "cell_type": "code",
   "execution_count": 19,
   "metadata": {},
   "outputs": [],
   "source": [
    "from selenium.webdriver.common.by import By\n",
    "from selenium.webdriver.support.ui import WebDriverWait\n",
    "from selenium.webdriver.support import expected_conditions as EC\n",
    "\n",
    "from selenium import webdriver as wd\n",
    "driver = wd.Chrome(executable_path='chromedriver.exe')\n",
    "\n",
    "driver.get('http://ggoreb.com/http/control.jsp')\n",
    "driver.implicitly_wait(10)\n",
    "\n",
    "driver.find_element_by_tag_name('input').send_keys('2시간 남았다')\n",
    "\n",
    "driver.find_element_by_tag_name('button').click()"
   ]
  },
  {
   "cell_type": "code",
   "execution_count": 24,
   "metadata": {},
   "outputs": [],
   "source": [
    "driver.execute_script('alert(\"hello\")')"
   ]
  },
  {
   "cell_type": "code",
   "execution_count": 52,
   "metadata": {},
   "outputs": [],
   "source": [
    "from selenium.webdriver.common.by import By\n",
    "from selenium.webdriver.support.ui import WebDriverWait\n",
    "from selenium.webdriver.support import expected_conditions as EC\n",
    "\n",
    "from selenium import webdriver as wd\n",
    "driver = wd.Chrome(executable_path='chromedriver.exe')\n",
    "\n",
    "driver.get('http://ggoreb.com/http/control2.jsp')\n",
    "driver.implicitly_wait(10)\n",
    "\n",
    "driver.find_element_by_name('no').send_keys('부산')"
   ]
  },
  {
   "cell_type": "code",
   "execution_count": 54,
   "metadata": {},
   "outputs": [
    {
     "name": "stdout",
     "output_type": "stream",
     "text": [
      " 선택\n",
      " 서울\n",
      " 부산\n",
      " 제주\n",
      "  서울\n"
     ]
    }
   ],
   "source": [
    "from selenium.webdriver.common.by import By\n",
    "from selenium.webdriver.support.ui import WebDriverWait\n",
    "from selenium.webdriver.support import expected_conditions as EC\n",
    "\n",
    "from selenium import webdriver as wd\n",
    "driver = wd.Chrome(executable_path='chromedriver.exe')\n",
    "\n",
    "driver.get('http://ggoreb.com/http/control2.jsp')\n",
    "driver.implicitly_wait(10)\n",
    "\n",
    "option = driver.find_element_by_name('no').text\n",
    "select = input(option)\n",
    "driver.find_element_by_name('no').send_keys('%s' %select)"
   ]
  },
  {
   "cell_type": "markdown",
   "metadata": {},
   "source": [
    "##### 문제풀이1\n",
    "> 네이버 증권 서비스에서 '멀티캠퍼스' 검색 후 정보 가져오기"
   ]
  },
  {
   "cell_type": "code",
   "execution_count": 48,
   "metadata": {},
   "outputs": [
    {
     "name": "stdout",
     "output_type": "stream",
     "text": [
      "2,033 억원\n",
      "코스닥 288위\n",
      "5,926,779\n",
      "500원 l 1주\n"
     ]
    }
   ],
   "source": [
    "from selenium.webdriver.common.by import By\n",
    "from selenium.webdriver.support.ui import WebDriverWait\n",
    "from selenium.webdriver.support import expected_conditions as EC\n",
    "\n",
    "from selenium import webdriver as wd\n",
    "driver = wd.Chrome(executable_path='chromedriver.exe')\n",
    "\n",
    "driver.get('https://finance.naver.com')\n",
    "driver.implicitly_wait(10)\n",
    "driver.find_element_by_css_selector('#stock_items').send_keys('멀티캠퍼스')\n",
    "driver.find_element_by_css_selector('#header > div.snb_area > div > div.sta > form > fieldset > div > button').click()\n",
    "\n",
    "driver.implicitly_wait(10)\n",
    "table = driver.find_element_by_css_selector('.first > table > tbody')\n",
    "total = table.find_element_by_css_selector('tr:nth-child(1) > td')\n",
    "total_rank = table.find_element_by_css_selector('tr:nth-child(2) > td')\n",
    "stock = table.find_element_by_css_selector('tr:nth-child(3) > td')\n",
    "stock_price = table.find_element_by_css_selector('tr:nth-child(4) > td')\n",
    "print(total.text)\n",
    "print(total_rank.text)\n",
    "print(stock.text)\n",
    "print(stock_price.text)"
   ]
  },
  {
   "cell_type": "markdown",
   "metadata": {},
   "source": [
    "## phantonjs\n",
    "> 실제 화면이 나오지 않는 유령 브라우저 / \n",
    "chrome으로 할 땐 headless 라는 옵션을 넣는 코드를 추가하면 되는데 chrome이 phantonjs 보다 용량이 큼"
   ]
  },
  {
   "cell_type": "code",
   "execution_count": 51,
   "metadata": {
    "scrolled": true
   },
   "outputs": [
    {
     "name": "stdout",
     "output_type": "stream",
     "text": [
      "2,033 억원\n",
      "코스닥 288위\n",
      "5,926,779\n",
      "500원 l 1주\n"
     ]
    }
   ],
   "source": [
    "from selenium.webdriver.common.by import By\n",
    "from selenium.webdriver.support.ui import WebDriverWait\n",
    "from selenium.webdriver.support import expected_conditions as EC\n",
    "\n",
    "from selenium import webdriver as wd\n",
    "driver = wd.PhantomJS(executable_path = 'phantomjs.exe')\n",
    "\n",
    "driver.get('https://finance.naver.com')\n",
    "driver.implicitly_wait(10)\n",
    "driver.find_element_by_css_selector('#stock_items').send_keys('멀티캠퍼스')\n",
    "driver.find_element_by_css_selector('#header > div.snb_area > div > div.sta > form > fieldset > div > button').click()\n",
    "\n",
    "driver.implicitly_wait(10)\n",
    "table = driver.find_element_by_css_selector('.first > table > tbody')\n",
    "total = table.find_element_by_css_selector('tr:nth-child(1) > td')\n",
    "total_rank = table.find_element_by_css_selector('tr:nth-child(2) > td')\n",
    "stock = table.find_element_by_css_selector('tr:nth-child(3) > td')\n",
    "stock_price = table.find_element_by_css_selector('tr:nth-child(4) > td')\n",
    "print(total.text)\n",
    "print(total_rank.text)\n",
    "print(stock.text)\n",
    "print(stock_price.text)\n",
    "\n",
    "driver.close()"
   ]
  },
  {
   "cell_type": "markdown",
   "metadata": {},
   "source": [
    "##### 문제풀이 2\n",
    "> 인터파크 투어 해외여행 상품에서 '달랏'을 조회 후 정보 가져오기"
   ]
  },
  {
   "cell_type": "code",
   "execution_count": 138,
   "metadata": {
    "scrolled": true
   },
   "outputs": [],
   "source": [
    "from selenium.webdriver.common.by import By\n",
    "from selenium.webdriver.support.ui import WebDriverWait\n",
    "from selenium.webdriver.support import expected_conditions as EC\n",
    "\n",
    "from selenium import webdriver as wd\n",
    "driver = wd.Chrome(executable_path='chromedriver.exe')\n",
    "\n",
    "driver.get('http://tour.interpark.com')\n",
    "driver.implicitly_wait(10)\n",
    "driver.find_element_by_css_selector('#SearchGNBText').send_keys('달랏')\n",
    "driver.find_element_by_css_selector('#dHead > div.tour-header > div.search-area > form > fieldset > button.search-btn').click()\n",
    "driver.implicitly_wait(10)\n",
    "driver.find_element_by_css_selector('body > div.container > div > div > div.panelZone > div.oTravelBox > ul > li.moreBtnWrap > button').click()"
   ]
  },
  {
   "cell_type": "code",
   "execution_count": 140,
   "metadata": {},
   "outputs": [
    {
     "ename": "NoSuchElementException",
     "evalue": "Message: no such element: Unable to locate element: {\"method\":\"css selector\",\"selector\":\"pageNumBox > button.nextBtn\"}\n  (Session info: chrome=79.0.3945.117)\n",
     "output_type": "error",
     "traceback": [
      "\u001b[1;31m---------------------------------------------------------------------------\u001b[0m",
      "\u001b[1;31mNoSuchElementException\u001b[0m                    Traceback (most recent call last)",
      "\u001b[1;32m<ipython-input-140-8db153dd9403>\u001b[0m in \u001b[0;36m<module>\u001b[1;34m\u001b[0m\n\u001b[0;32m      2\u001b[0m \u001b[1;31m# page = 2\u001b[0m\u001b[1;33m\u001b[0m\u001b[1;33m\u001b[0m\u001b[1;33m\u001b[0m\u001b[0m\n\u001b[0;32m      3\u001b[0m \u001b[1;31m# driver.execute_script('alert(\"hello\")')\u001b[0m\u001b[1;33m\u001b[0m\u001b[1;33m\u001b[0m\u001b[1;33m\u001b[0m\u001b[0m\n\u001b[1;32m----> 4\u001b[1;33m \u001b[0mbuttons\u001b[0m \u001b[1;33m=\u001b[0m \u001b[0mdriver\u001b[0m\u001b[1;33m.\u001b[0m\u001b[0mfind_element_by_css_selector\u001b[0m\u001b[1;33m(\u001b[0m\u001b[1;34m'pageNumBox > button.nextBtn'\u001b[0m\u001b[1;33m)\u001b[0m\u001b[1;33m.\u001b[0m\u001b[0mget_attribute\u001b[0m\u001b[1;33m(\u001b[0m\u001b[1;34m'onclick'\u001b[0m\u001b[1;33m)\u001b[0m\u001b[1;33m\u001b[0m\u001b[1;33m\u001b[0m\u001b[0m\n\u001b[0m\u001b[0;32m      5\u001b[0m \u001b[0mprint\u001b[0m\u001b[1;33m(\u001b[0m\u001b[0mbuttons\u001b[0m\u001b[1;33m)\u001b[0m\u001b[1;33m\u001b[0m\u001b[1;33m\u001b[0m\u001b[0m\n\u001b[0;32m      6\u001b[0m \u001b[1;31m# page += 1\u001b[0m\u001b[1;33m\u001b[0m\u001b[1;33m\u001b[0m\u001b[1;33m\u001b[0m\u001b[0m\n",
      "\u001b[1;32m~\\Miniconda3\\lib\\site-packages\\selenium\\webdriver\\remote\\webdriver.py\u001b[0m in \u001b[0;36mfind_element_by_css_selector\u001b[1;34m(self, css_selector)\u001b[0m\n\u001b[0;32m    596\u001b[0m             \u001b[0melement\u001b[0m \u001b[1;33m=\u001b[0m \u001b[0mdriver\u001b[0m\u001b[1;33m.\u001b[0m\u001b[0mfind_element_by_css_selector\u001b[0m\u001b[1;33m(\u001b[0m\u001b[1;34m'#foo'\u001b[0m\u001b[1;33m)\u001b[0m\u001b[1;33m\u001b[0m\u001b[1;33m\u001b[0m\u001b[0m\n\u001b[0;32m    597\u001b[0m         \"\"\"\n\u001b[1;32m--> 598\u001b[1;33m         \u001b[1;32mreturn\u001b[0m \u001b[0mself\u001b[0m\u001b[1;33m.\u001b[0m\u001b[0mfind_element\u001b[0m\u001b[1;33m(\u001b[0m\u001b[0mby\u001b[0m\u001b[1;33m=\u001b[0m\u001b[0mBy\u001b[0m\u001b[1;33m.\u001b[0m\u001b[0mCSS_SELECTOR\u001b[0m\u001b[1;33m,\u001b[0m \u001b[0mvalue\u001b[0m\u001b[1;33m=\u001b[0m\u001b[0mcss_selector\u001b[0m\u001b[1;33m)\u001b[0m\u001b[1;33m\u001b[0m\u001b[1;33m\u001b[0m\u001b[0m\n\u001b[0m\u001b[0;32m    599\u001b[0m \u001b[1;33m\u001b[0m\u001b[0m\n\u001b[0;32m    600\u001b[0m     \u001b[1;32mdef\u001b[0m \u001b[0mfind_elements_by_css_selector\u001b[0m\u001b[1;33m(\u001b[0m\u001b[0mself\u001b[0m\u001b[1;33m,\u001b[0m \u001b[0mcss_selector\u001b[0m\u001b[1;33m)\u001b[0m\u001b[1;33m:\u001b[0m\u001b[1;33m\u001b[0m\u001b[1;33m\u001b[0m\u001b[0m\n",
      "\u001b[1;32m~\\Miniconda3\\lib\\site-packages\\selenium\\webdriver\\remote\\webdriver.py\u001b[0m in \u001b[0;36mfind_element\u001b[1;34m(self, by, value)\u001b[0m\n\u001b[0;32m    976\u001b[0m         return self.execute(Command.FIND_ELEMENT, {\n\u001b[0;32m    977\u001b[0m             \u001b[1;34m'using'\u001b[0m\u001b[1;33m:\u001b[0m \u001b[0mby\u001b[0m\u001b[1;33m,\u001b[0m\u001b[1;33m\u001b[0m\u001b[1;33m\u001b[0m\u001b[0m\n\u001b[1;32m--> 978\u001b[1;33m             'value': value})['value']\n\u001b[0m\u001b[0;32m    979\u001b[0m \u001b[1;33m\u001b[0m\u001b[0m\n\u001b[0;32m    980\u001b[0m     \u001b[1;32mdef\u001b[0m \u001b[0mfind_elements\u001b[0m\u001b[1;33m(\u001b[0m\u001b[0mself\u001b[0m\u001b[1;33m,\u001b[0m \u001b[0mby\u001b[0m\u001b[1;33m=\u001b[0m\u001b[0mBy\u001b[0m\u001b[1;33m.\u001b[0m\u001b[0mID\u001b[0m\u001b[1;33m,\u001b[0m \u001b[0mvalue\u001b[0m\u001b[1;33m=\u001b[0m\u001b[1;32mNone\u001b[0m\u001b[1;33m)\u001b[0m\u001b[1;33m:\u001b[0m\u001b[1;33m\u001b[0m\u001b[1;33m\u001b[0m\u001b[0m\n",
      "\u001b[1;32m~\\Miniconda3\\lib\\site-packages\\selenium\\webdriver\\remote\\webdriver.py\u001b[0m in \u001b[0;36mexecute\u001b[1;34m(self, driver_command, params)\u001b[0m\n\u001b[0;32m    319\u001b[0m         \u001b[0mresponse\u001b[0m \u001b[1;33m=\u001b[0m \u001b[0mself\u001b[0m\u001b[1;33m.\u001b[0m\u001b[0mcommand_executor\u001b[0m\u001b[1;33m.\u001b[0m\u001b[0mexecute\u001b[0m\u001b[1;33m(\u001b[0m\u001b[0mdriver_command\u001b[0m\u001b[1;33m,\u001b[0m \u001b[0mparams\u001b[0m\u001b[1;33m)\u001b[0m\u001b[1;33m\u001b[0m\u001b[1;33m\u001b[0m\u001b[0m\n\u001b[0;32m    320\u001b[0m         \u001b[1;32mif\u001b[0m \u001b[0mresponse\u001b[0m\u001b[1;33m:\u001b[0m\u001b[1;33m\u001b[0m\u001b[1;33m\u001b[0m\u001b[0m\n\u001b[1;32m--> 321\u001b[1;33m             \u001b[0mself\u001b[0m\u001b[1;33m.\u001b[0m\u001b[0merror_handler\u001b[0m\u001b[1;33m.\u001b[0m\u001b[0mcheck_response\u001b[0m\u001b[1;33m(\u001b[0m\u001b[0mresponse\u001b[0m\u001b[1;33m)\u001b[0m\u001b[1;33m\u001b[0m\u001b[1;33m\u001b[0m\u001b[0m\n\u001b[0m\u001b[0;32m    322\u001b[0m             response['value'] = self._unwrap_value(\n\u001b[0;32m    323\u001b[0m                 response.get('value', None))\n",
      "\u001b[1;32m~\\Miniconda3\\lib\\site-packages\\selenium\\webdriver\\remote\\errorhandler.py\u001b[0m in \u001b[0;36mcheck_response\u001b[1;34m(self, response)\u001b[0m\n\u001b[0;32m    240\u001b[0m                 \u001b[0malert_text\u001b[0m \u001b[1;33m=\u001b[0m \u001b[0mvalue\u001b[0m\u001b[1;33m[\u001b[0m\u001b[1;34m'alert'\u001b[0m\u001b[1;33m]\u001b[0m\u001b[1;33m.\u001b[0m\u001b[0mget\u001b[0m\u001b[1;33m(\u001b[0m\u001b[1;34m'text'\u001b[0m\u001b[1;33m)\u001b[0m\u001b[1;33m\u001b[0m\u001b[1;33m\u001b[0m\u001b[0m\n\u001b[0;32m    241\u001b[0m             \u001b[1;32mraise\u001b[0m \u001b[0mexception_class\u001b[0m\u001b[1;33m(\u001b[0m\u001b[0mmessage\u001b[0m\u001b[1;33m,\u001b[0m \u001b[0mscreen\u001b[0m\u001b[1;33m,\u001b[0m \u001b[0mstacktrace\u001b[0m\u001b[1;33m,\u001b[0m \u001b[0malert_text\u001b[0m\u001b[1;33m)\u001b[0m\u001b[1;33m\u001b[0m\u001b[1;33m\u001b[0m\u001b[0m\n\u001b[1;32m--> 242\u001b[1;33m         \u001b[1;32mraise\u001b[0m \u001b[0mexception_class\u001b[0m\u001b[1;33m(\u001b[0m\u001b[0mmessage\u001b[0m\u001b[1;33m,\u001b[0m \u001b[0mscreen\u001b[0m\u001b[1;33m,\u001b[0m \u001b[0mstacktrace\u001b[0m\u001b[1;33m)\u001b[0m\u001b[1;33m\u001b[0m\u001b[1;33m\u001b[0m\u001b[0m\n\u001b[0m\u001b[0;32m    243\u001b[0m \u001b[1;33m\u001b[0m\u001b[0m\n\u001b[0;32m    244\u001b[0m     \u001b[1;32mdef\u001b[0m \u001b[0m_value_or_default\u001b[0m\u001b[1;33m(\u001b[0m\u001b[0mself\u001b[0m\u001b[1;33m,\u001b[0m \u001b[0mobj\u001b[0m\u001b[1;33m,\u001b[0m \u001b[0mkey\u001b[0m\u001b[1;33m,\u001b[0m \u001b[0mdefault\u001b[0m\u001b[1;33m)\u001b[0m\u001b[1;33m:\u001b[0m\u001b[1;33m\u001b[0m\u001b[1;33m\u001b[0m\u001b[0m\n",
      "\u001b[1;31mNoSuchElementException\u001b[0m: Message: no such element: Unable to locate element: {\"method\":\"css selector\",\"selector\":\"pageNumBox > button.nextBtn\"}\n  (Session info: chrome=79.0.3945.117)\n"
     ]
    }
   ],
   "source": [
    "driver.implicitly_wait(10)\n",
    "# page = 2\n",
    "# driver.execute_script('alert(\"hello\")')\n",
    "buttons = driver.find_element_by_css_selector('pageNumBox > button.nextBtn').get_attribute('onclick')\n",
    "print(buttons)\n",
    "# page += 1\n"
   ]
  },
  {
   "cell_type": "code",
   "execution_count": 141,
   "metadata": {},
   "outputs": [
    {
     "name": "stdout",
     "output_type": "stream",
     "text": [
      "http://tourimage.interpark.com/product/tour/00161/A10/280/A1031420_1_027.jpg\n",
      "상품명 :  [달랏4일] 낭만도시 달랏 직항+랑비앙 포함 3박4일\n",
      "가격 :  385,000 원~\n",
      "추가설명 :  ★직항 취항 기념 초특가★\n",
      "여행기간 :  여행 기간 : 3박4일\n",
      "출발 가능 기간 :  출발 가능 기간 : 2020.01.16~2020.03.29\n",
      "평점 :  평점 0\n",
      "상품평 :  0개의 상품평\n",
      "==================\n",
      "http://tourimage.interpark.com/product/tour/00161/A10/280/A1031420_1_027.jpg\n",
      "상품명 :  [달랏4일] 낭만도시 달랏 직항+랑비앙 포함 3박4일\n",
      "가격 :  385,000 원~\n",
      "추가설명 :  ★직항 취항 기념 초특가★\n",
      "여행기간 :  여행 기간 : 3박4일\n",
      "출발 가능 기간 :  출발 가능 기간 : 2020.01.16~2020.03.29\n",
      "평점 :  평점 0.0\n",
      "상품평 :  0개의 상품평\n",
      "==================\n",
      "http://tourimage.interpark.com/product/tour/00161/A10/280/A1024924_1_620.jpg\n",
      "상품명 :  [나트랑/달랏5일] 시원한 낭만도시 랑비앙관광 5일\n",
      "가격 :  445,000 원~\n",
      "추가설명 :  ★떠오르는 베트남 인생여행지★\n",
      "여행기간 :  여행 기간 : 3박5일\n",
      "출발 가능 기간 :  출발 가능 기간 : 2020.01.16~2020.06.30\n",
      "평점 :  평점 10.0\n",
      "상품평 :  1개의 상품평\n",
      "==================\n",
      "http://tourimage.interpark.com/product/tour/00161/A10/280/A1025044_3_337.jpg\n",
      "상품명 :  [대구출발_나트랑5일] 지금 핫한 그곳! 아름다운 나트랑/달랏 관광\n",
      "가격 :  499,000 원~\n",
      "추가설명 :  머드온천&나트랑 시내관광 포함-동양의 나폴리 나트랑&달랏여행♥\n",
      "여행기간 :  여행 기간 : 3박5일\n",
      "출발 가능 기간 :  출발 가능 기간 : 2020.01.16~2020.03.28\n",
      "평점 :  평점 0.0\n",
      "상품평 :  0개의 상품평\n",
      "==================\n",
      "http://tourimage.interpark.com/product/tour/00161/A10/280/A1031349_1_470.jpg\n",
      "상품명 :  [나트랑 5일★연합] 나트랑 1박/ 달랏 2박 꽉찬 관광일정\n",
      "가격 :  349,000 원~\n",
      "추가설명 :  신규취항★뱀부항공/기내식제공/수하물20KG\n",
      "여행기간 :  여행 기간 : 3박5일\n",
      "출발 가능 기간 :  출발 가능 기간 : 2020.01.16~2020.03.28\n",
      "평점 :  평점 0.0\n",
      "상품평 :  0개의 상품평\n",
      "==================\n",
      "http://img.modetour.com/eagle/photoimg/42164/bfile/636724338253061415.JPG\n",
      "상품명 :  *출발확정*[관광형] 나트랑x달랏 3박5일 [4성(1박)+달랏(2박)]\n",
      "가격 :  400,600 원~\n",
      "추가설명 :  최대 7만원 쿠폰할인 (출발일 2020.01.01~2020.03.31)\n",
      "여행기간 :  여행 기간 : 3박5일\n",
      "출발 가능 기간 :  출발 가능 기간 : 2020.01.16~2020.07.18\n",
      "평점 :  평점 6.3\n",
      "상품평 :  2개의 상품평\n",
      "==================\n",
      "http://img.modetour.com/eagle/photoimg/42164/bfile/636724338254712656.JPG\n",
      "상품명 :  *출발확정*[관광형] 나트랑x달랏 3박5일 [5성(1박)+달랏(2박)]\n",
      "가격 :  453,600 원~\n",
      "추가설명 :  최대 7만원 쿠폰할인 (출발일 2020.01.01~2020.03.31)\n",
      "여행기간 :  여행 기간 : 3박5일\n",
      "출발 가능 기간 :  출발 가능 기간 : 2020.01.16~2020.07.18\n",
      "평점 :  평점 0.0\n",
      "상품평 :  0개의 상품평\n",
      "==================\n",
      "http://tourimage.interpark.com/product/tour/00161/A10/280/A1025396_7_460.jpg\n",
      "상품명 :  [부산출발_나트랑5일] 떠오르는 여행지 나트랑 + 봄의 도시 달랏을 동시에!! 실속 관광형\n",
      "가격 :  399,000 원~\n",
      "추가설명 :  전 일전 준특급호텔 + 아름다운 나트랑 달랏 관광♡\n",
      "여행기간 :  여행 기간 : 3박5일\n",
      "출발 가능 기간 :  출발 가능 기간 : 2020.01.18~2020.03.31\n",
      "평점 :  평점 4.0\n",
      "상품평 :  1개의 상품평\n",
      "==================\n",
      "http://img.modetour.com/eagle/photoimg/42171/bfile/636724338128370854.JPG\n",
      "상품명 :  □패키지+[35만원 상당 특전포함/봄의도시,달랏/노옵션/5성호텔] 나트랑 달랏 4박5일\n",
      "가격 :  949,000 원~\n",
      "추가설명 :  \n",
      "여행기간 :  여행 기간 : 4박5일\n",
      "출발 가능 기간 :  출발 가능 기간 : 2020.01.18~2020.06.27\n",
      "평점 :  평점 0.0\n",
      "상품평 :  0개의 상품평\n",
      "==================\n",
      "http://img.modetour.com/eagle/photoimg/42171/bfile/636724338177366577.JPG\n",
      "상품명 :  *출발확정*[증편기][관광형] 나트랑x달랏 3박5일 [5성(1박)+달랏(2박)]\n",
      "가격 :  416,000 원~\n",
      "추가설명 :  \n",
      "여행기간 :  여행 기간 : 3박4일\n",
      "출발 가능 기간 :  출발 가능 기간 : 2020.01.16~2020.07.18\n",
      "평점 :  평점 10.0\n",
      "상품평 :  1개의 상품평\n",
      "==================\n",
      "http://img.modetour.com/eagle/photoimg/56584/bfile/636453195339574051.JPG\n",
      "상품명 :  ●연중 봄의 도시, 달랏● [5성호텔] 달랏 3색 골프(54홀) + 관광 4박 5일\n",
      "가격 :  1,250,000 원~\n",
      "추가설명 :  \n",
      "여행기간 :  여행 기간 : 3박5일\n",
      "출발 가능 기간 :  출발 가능 기간 : 2020.01.18~2020.06.27\n",
      "평점 :  평점 0.0\n",
      "상품평 :  0개의 상품평\n",
      "==================\n"
     ]
    },
    {
     "ename": "StaleElementReferenceException",
     "evalue": "Message: stale element reference: element is not attached to the page document\n  (Session info: chrome=79.0.3945.117)\n",
     "output_type": "error",
     "traceback": [
      "\u001b[1;31m---------------------------------------------------------------------------\u001b[0m",
      "\u001b[1;31mStaleElementReferenceException\u001b[0m            Traceback (most recent call last)",
      "\u001b[1;32m<ipython-input-141-8d08be00583d>\u001b[0m in \u001b[0;36m<module>\u001b[1;34m\u001b[0m\n\u001b[0;32m      5\u001b[0m         \u001b[0mimg\u001b[0m \u001b[1;33m=\u001b[0m \u001b[0mtravel\u001b[0m\u001b[1;33m.\u001b[0m\u001b[0mfind_element_by_css_selector\u001b[0m\u001b[1;33m(\u001b[0m\u001b[1;34m'a > img'\u001b[0m\u001b[1;33m)\u001b[0m\u001b[1;33m.\u001b[0m\u001b[0mget_attribute\u001b[0m\u001b[1;33m(\u001b[0m\u001b[1;34m'src'\u001b[0m\u001b[1;33m)\u001b[0m\u001b[1;33m\u001b[0m\u001b[1;33m\u001b[0m\u001b[0m\n\u001b[0;32m      6\u001b[0m         \u001b[0mtitle\u001b[0m \u001b[1;33m=\u001b[0m \u001b[0mtravel\u001b[0m\u001b[1;33m.\u001b[0m\u001b[0mfind_element_by_css_selector\u001b[0m\u001b[1;33m(\u001b[0m\u001b[1;34m'.boxTables > .title-row > div > h5'\u001b[0m\u001b[1;33m)\u001b[0m\u001b[1;33m.\u001b[0m\u001b[0mtext\u001b[0m\u001b[1;33m\u001b[0m\u001b[1;33m\u001b[0m\u001b[0m\n\u001b[1;32m----> 7\u001b[1;33m         \u001b[0mprice\u001b[0m \u001b[1;33m=\u001b[0m \u001b[0mtravel\u001b[0m\u001b[1;33m.\u001b[0m\u001b[0mfind_element_by_css_selector\u001b[0m\u001b[1;33m(\u001b[0m\u001b[1;34m'strong.proPrice'\u001b[0m\u001b[1;33m)\u001b[0m\u001b[1;33m.\u001b[0m\u001b[0mtext\u001b[0m\u001b[1;33m\u001b[0m\u001b[1;33m\u001b[0m\u001b[0m\n\u001b[0m\u001b[0;32m      8\u001b[0m         \u001b[0mdetail\u001b[0m \u001b[1;33m=\u001b[0m \u001b[0mtravel\u001b[0m\u001b[1;33m.\u001b[0m\u001b[0mfind_element_by_css_selector\u001b[0m\u001b[1;33m(\u001b[0m\u001b[1;34m'.boxTables > .title-row > div > p'\u001b[0m\u001b[1;33m)\u001b[0m\u001b[1;33m.\u001b[0m\u001b[0mtext\u001b[0m\u001b[1;33m\u001b[0m\u001b[1;33m\u001b[0m\u001b[0m\n\u001b[0;32m      9\u001b[0m         \u001b[0mperiod\u001b[0m \u001b[1;33m=\u001b[0m \u001b[0mtravel\u001b[0m\u001b[1;33m.\u001b[0m\u001b[0mfind_element_by_css_selector\u001b[0m\u001b[1;33m(\u001b[0m\u001b[1;34m'.info-row > div:nth-child(1) > p:nth-child(1)'\u001b[0m\u001b[1;33m)\u001b[0m\u001b[1;33m.\u001b[0m\u001b[0mtext\u001b[0m\u001b[1;33m\u001b[0m\u001b[1;33m\u001b[0m\u001b[0m\n",
      "\u001b[1;32m~\\Miniconda3\\lib\\site-packages\\selenium\\webdriver\\remote\\webelement.py\u001b[0m in \u001b[0;36mtext\u001b[1;34m(self)\u001b[0m\n\u001b[0;32m     74\u001b[0m     \u001b[1;32mdef\u001b[0m \u001b[0mtext\u001b[0m\u001b[1;33m(\u001b[0m\u001b[0mself\u001b[0m\u001b[1;33m)\u001b[0m\u001b[1;33m:\u001b[0m\u001b[1;33m\u001b[0m\u001b[1;33m\u001b[0m\u001b[0m\n\u001b[0;32m     75\u001b[0m         \u001b[1;34m\"\"\"The text of the element.\"\"\"\u001b[0m\u001b[1;33m\u001b[0m\u001b[1;33m\u001b[0m\u001b[0m\n\u001b[1;32m---> 76\u001b[1;33m         \u001b[1;32mreturn\u001b[0m \u001b[0mself\u001b[0m\u001b[1;33m.\u001b[0m\u001b[0m_execute\u001b[0m\u001b[1;33m(\u001b[0m\u001b[0mCommand\u001b[0m\u001b[1;33m.\u001b[0m\u001b[0mGET_ELEMENT_TEXT\u001b[0m\u001b[1;33m)\u001b[0m\u001b[1;33m[\u001b[0m\u001b[1;34m'value'\u001b[0m\u001b[1;33m]\u001b[0m\u001b[1;33m\u001b[0m\u001b[1;33m\u001b[0m\u001b[0m\n\u001b[0m\u001b[0;32m     77\u001b[0m \u001b[1;33m\u001b[0m\u001b[0m\n\u001b[0;32m     78\u001b[0m     \u001b[1;32mdef\u001b[0m \u001b[0mclick\u001b[0m\u001b[1;33m(\u001b[0m\u001b[0mself\u001b[0m\u001b[1;33m)\u001b[0m\u001b[1;33m:\u001b[0m\u001b[1;33m\u001b[0m\u001b[1;33m\u001b[0m\u001b[0m\n",
      "\u001b[1;32m~\\Miniconda3\\lib\\site-packages\\selenium\\webdriver\\remote\\webelement.py\u001b[0m in \u001b[0;36m_execute\u001b[1;34m(self, command, params)\u001b[0m\n\u001b[0;32m    631\u001b[0m             \u001b[0mparams\u001b[0m \u001b[1;33m=\u001b[0m \u001b[1;33m{\u001b[0m\u001b[1;33m}\u001b[0m\u001b[1;33m\u001b[0m\u001b[1;33m\u001b[0m\u001b[0m\n\u001b[0;32m    632\u001b[0m         \u001b[0mparams\u001b[0m\u001b[1;33m[\u001b[0m\u001b[1;34m'id'\u001b[0m\u001b[1;33m]\u001b[0m \u001b[1;33m=\u001b[0m \u001b[0mself\u001b[0m\u001b[1;33m.\u001b[0m\u001b[0m_id\u001b[0m\u001b[1;33m\u001b[0m\u001b[1;33m\u001b[0m\u001b[0m\n\u001b[1;32m--> 633\u001b[1;33m         \u001b[1;32mreturn\u001b[0m \u001b[0mself\u001b[0m\u001b[1;33m.\u001b[0m\u001b[0m_parent\u001b[0m\u001b[1;33m.\u001b[0m\u001b[0mexecute\u001b[0m\u001b[1;33m(\u001b[0m\u001b[0mcommand\u001b[0m\u001b[1;33m,\u001b[0m \u001b[0mparams\u001b[0m\u001b[1;33m)\u001b[0m\u001b[1;33m\u001b[0m\u001b[1;33m\u001b[0m\u001b[0m\n\u001b[0m\u001b[0;32m    634\u001b[0m \u001b[1;33m\u001b[0m\u001b[0m\n\u001b[0;32m    635\u001b[0m     \u001b[1;32mdef\u001b[0m \u001b[0mfind_element\u001b[0m\u001b[1;33m(\u001b[0m\u001b[0mself\u001b[0m\u001b[1;33m,\u001b[0m \u001b[0mby\u001b[0m\u001b[1;33m=\u001b[0m\u001b[0mBy\u001b[0m\u001b[1;33m.\u001b[0m\u001b[0mID\u001b[0m\u001b[1;33m,\u001b[0m \u001b[0mvalue\u001b[0m\u001b[1;33m=\u001b[0m\u001b[1;32mNone\u001b[0m\u001b[1;33m)\u001b[0m\u001b[1;33m:\u001b[0m\u001b[1;33m\u001b[0m\u001b[1;33m\u001b[0m\u001b[0m\n",
      "\u001b[1;32m~\\Miniconda3\\lib\\site-packages\\selenium\\webdriver\\remote\\webdriver.py\u001b[0m in \u001b[0;36mexecute\u001b[1;34m(self, driver_command, params)\u001b[0m\n\u001b[0;32m    319\u001b[0m         \u001b[0mresponse\u001b[0m \u001b[1;33m=\u001b[0m \u001b[0mself\u001b[0m\u001b[1;33m.\u001b[0m\u001b[0mcommand_executor\u001b[0m\u001b[1;33m.\u001b[0m\u001b[0mexecute\u001b[0m\u001b[1;33m(\u001b[0m\u001b[0mdriver_command\u001b[0m\u001b[1;33m,\u001b[0m \u001b[0mparams\u001b[0m\u001b[1;33m)\u001b[0m\u001b[1;33m\u001b[0m\u001b[1;33m\u001b[0m\u001b[0m\n\u001b[0;32m    320\u001b[0m         \u001b[1;32mif\u001b[0m \u001b[0mresponse\u001b[0m\u001b[1;33m:\u001b[0m\u001b[1;33m\u001b[0m\u001b[1;33m\u001b[0m\u001b[0m\n\u001b[1;32m--> 321\u001b[1;33m             \u001b[0mself\u001b[0m\u001b[1;33m.\u001b[0m\u001b[0merror_handler\u001b[0m\u001b[1;33m.\u001b[0m\u001b[0mcheck_response\u001b[0m\u001b[1;33m(\u001b[0m\u001b[0mresponse\u001b[0m\u001b[1;33m)\u001b[0m\u001b[1;33m\u001b[0m\u001b[1;33m\u001b[0m\u001b[0m\n\u001b[0m\u001b[0;32m    322\u001b[0m             response['value'] = self._unwrap_value(\n\u001b[0;32m    323\u001b[0m                 response.get('value', None))\n",
      "\u001b[1;32m~\\Miniconda3\\lib\\site-packages\\selenium\\webdriver\\remote\\errorhandler.py\u001b[0m in \u001b[0;36mcheck_response\u001b[1;34m(self, response)\u001b[0m\n\u001b[0;32m    240\u001b[0m                 \u001b[0malert_text\u001b[0m \u001b[1;33m=\u001b[0m \u001b[0mvalue\u001b[0m\u001b[1;33m[\u001b[0m\u001b[1;34m'alert'\u001b[0m\u001b[1;33m]\u001b[0m\u001b[1;33m.\u001b[0m\u001b[0mget\u001b[0m\u001b[1;33m(\u001b[0m\u001b[1;34m'text'\u001b[0m\u001b[1;33m)\u001b[0m\u001b[1;33m\u001b[0m\u001b[1;33m\u001b[0m\u001b[0m\n\u001b[0;32m    241\u001b[0m             \u001b[1;32mraise\u001b[0m \u001b[0mexception_class\u001b[0m\u001b[1;33m(\u001b[0m\u001b[0mmessage\u001b[0m\u001b[1;33m,\u001b[0m \u001b[0mscreen\u001b[0m\u001b[1;33m,\u001b[0m \u001b[0mstacktrace\u001b[0m\u001b[1;33m,\u001b[0m \u001b[0malert_text\u001b[0m\u001b[1;33m)\u001b[0m\u001b[1;33m\u001b[0m\u001b[1;33m\u001b[0m\u001b[0m\n\u001b[1;32m--> 242\u001b[1;33m         \u001b[1;32mraise\u001b[0m \u001b[0mexception_class\u001b[0m\u001b[1;33m(\u001b[0m\u001b[0mmessage\u001b[0m\u001b[1;33m,\u001b[0m \u001b[0mscreen\u001b[0m\u001b[1;33m,\u001b[0m \u001b[0mstacktrace\u001b[0m\u001b[1;33m)\u001b[0m\u001b[1;33m\u001b[0m\u001b[1;33m\u001b[0m\u001b[0m\n\u001b[0m\u001b[0;32m    243\u001b[0m \u001b[1;33m\u001b[0m\u001b[0m\n\u001b[0;32m    244\u001b[0m     \u001b[1;32mdef\u001b[0m \u001b[0m_value_or_default\u001b[0m\u001b[1;33m(\u001b[0m\u001b[0mself\u001b[0m\u001b[1;33m,\u001b[0m \u001b[0mobj\u001b[0m\u001b[1;33m,\u001b[0m \u001b[0mkey\u001b[0m\u001b[1;33m,\u001b[0m \u001b[0mdefault\u001b[0m\u001b[1;33m)\u001b[0m\u001b[1;33m:\u001b[0m\u001b[1;33m\u001b[0m\u001b[1;33m\u001b[0m\u001b[0m\n",
      "\u001b[1;31mStaleElementReferenceException\u001b[0m: Message: stale element reference: element is not attached to the page document\n  (Session info: chrome=79.0.3945.117)\n"
     ]
    }
   ],
   "source": [
    "driver.implicitly_wait(10)\n",
    "travel_list = driver.find_elements_by_css_selector('li.boxItem')\n",
    "while True:\n",
    "    for travel in travel_list:\n",
    "        img = travel.find_element_by_css_selector('a > img').get_attribute('src')\n",
    "        title = travel.find_element_by_css_selector('.boxTables > .title-row > div > h5').text\n",
    "        price = travel.find_element_by_css_selector('strong.proPrice').text\n",
    "        detail = travel.find_element_by_css_selector('.boxTables > .title-row > div > p').text\n",
    "        period = travel.find_element_by_css_selector('.info-row > div:nth-child(1) > p:nth-child(1)').text\n",
    "        startdate = travel.find_element_by_css_selector('.info-row > div:nth-child(1) > p:nth-child(2)').text\n",
    "        rate = travel.find_element_by_css_selector('div.info-row > div:nth-child(2) > p:nth-child(2)').text\n",
    "        evaluate = travel.find_element_by_css_selector('div.info-row > div:nth-child(2) > p:nth-child(3)').text\n",
    "\n",
    "        print(img)\n",
    "        print('상품명 : ', title)\n",
    "        print('가격 : ', price)\n",
    "        print('추가설명 : ', detail)\n",
    "        print('여행기간 : ', period)\n",
    "        print('출발 가능 기간 : ', startdate)\n",
    "        print('평점 : ', rate)\n",
    "        print('상품평 : ', evaluate)\n",
    "        print('==================')\n",
    "    driver.find_element_by_css_selector('div.pageNumBox > button.nextBtn').click()\n",
    "    \n",
    "driver.close()"
   ]
  },
  {
   "cell_type": "code",
   "execution_count": null,
   "metadata": {},
   "outputs": [],
   "source": [
    "for travel in travel_list:\n",
    "    img = travel.find_element_by_css_selector('a > img').get_attribute('src')\n",
    "    title = travel.find_element_by_css_selector('.boxTables > .title-row > div > h5').text\n",
    "    price = travel.find_element_by_css_selector('strong.proPrice').text\n",
    "    detail = travel.find_element_by_css_selector('.boxTables > .title-row > div > p').text\n",
    "    period = travel.find_element_by_css_selector('.info-row > div:nth-child(1) > p:nth-child(1)').text\n",
    "    startdate = travel.find_element_by_css_selector('.info-row > div:nth-child(1) > p:nth-child(2)').text\n",
    "    rate = travel.find_element_by_css_selector('div.info-row > div:nth-child(2) > p:nth-child(2)').text\n",
    "    evaluate = travel.find_element_by_css_selector('div.info-row > div:nth-child(2) > p:nth-child(3)').text\n",
    "    \n",
    "    print(img)\n",
    "    print('상품명 : ', title)\n",
    "    print('가격 : ', price)\n",
    "    print('추가설명 : ', detail)\n",
    "    print('여행기간 : ', period)\n",
    "    print('출발 가능 기간 : ', startdate)\n",
    "    print('평점 : ', rate)\n",
    "    print('상품평 : ', evaluate)\n",
    "    print('==================')"
   ]
  }
 ],
 "metadata": {
  "kernelspec": {
   "display_name": "Python 3",
   "language": "python",
   "name": "python3"
  },
  "language_info": {
   "codemirror_mode": {
    "name": "ipython",
    "version": 3
   },
   "file_extension": ".py",
   "mimetype": "text/x-python",
   "name": "python",
   "nbconvert_exporter": "python",
   "pygments_lexer": "ipython3",
   "version": "3.7.4"
  }
 },
 "nbformat": 4,
 "nbformat_minor": 2
}
