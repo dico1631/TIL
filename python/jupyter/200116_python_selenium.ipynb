{
 "cells": [
  {
   "cell_type": "markdown",
   "metadata": {},
   "source": [
    "# selenium 기본설정\n",
    "\n",
    "1. 파이썬 라이브러리 셀레니움 설치\n",
    "    : conda install selenium\n",
    "2. 사용할 브라우저의 드라이버 설치 (selenium은 브라우저를 움직이는데, 이를 돕는 프로그램)\n",
    "    : https://selenium.dev/selenium/docs/api/py/index.html 에서 chrome에 맞는 것 설치"
   ]
  },
  {
   "cell_type": "code",
   "execution_count": 3,
   "metadata": {},
   "outputs": [
    {
     "name": "stdout",
     "output_type": "stream",
     "text": [
      "0\n"
     ]
    }
   ],
   "source": [
    "#script로 작성되어서 소스코드 자체를 가져오는 requests로는 못 가져옴\n",
    "import requests\n",
    "from bs4 import BeautifulSoup\n",
    "result = requests.get('http://ggoreb.com/http/wait.jsp')\n",
    "soup = BeautifulSoup(result.text, 'html.parser')\n",
    "print(len(soup.find_all('p'))) # → 0"
   ]
  },
  {
   "cell_type": "code",
   "execution_count": 4,
   "metadata": {},
   "outputs": [
    {
     "data": {
      "text/plain": [
       "'\\n\\n<!DOCTYPE html>\\n<html>\\n<head>\\n<meta charset=\"utf-8\">\\n<title>Insert title here</title>\\n</head>\\n<body>\\t\\n\\t<script>\\n\\t\\tdocument.body.innerHTML += \\'<p>내용</p>\\';\\n\\n\\t\\tsetTimeout(function() {\\n\\t\\t\\tdocument.body.innerHTML += \\'<p>5초 뒤 추가 내용</p>\\';\\n\\t\\t}, 5000);\\n\\n\\t\\tsetTimeout(function() {\\n\\t\\t\\tdocument.body.innerHTML += \\'<p>10초 뒤 추가 내용</p>\\';\\n\\t\\t}, 10000);\\n\\t</script>\\n</body>\\n</html>'"
      ]
     },
     "execution_count": 4,
     "metadata": {},
     "output_type": "execute_result"
    }
   ],
   "source": [
    "result.text"
   ]
  },
  {
   "cell_type": "markdown",
   "metadata": {},
   "source": [
    "# selenium 사용법"
   ]
  },
  {
   "cell_type": "markdown",
   "metadata": {},
   "source": [
    "### data 가져오기"
   ]
  },
  {
   "cell_type": "code",
   "execution_count": 16,
   "metadata": {},
   "outputs": [],
   "source": [
    "from selenium import webdriver as wd\n",
    "driver = wd.Chrome(executable_path='chromedriver.exe')\n",
    "\n",
    "driver.get('http://ggoreb.com/http/wait.jsp')\n",
    "\n",
    "# driver.find_element_by_css_selector('p:nth-child(2)')\n",
    "\n",
    "# print(driver.find_elements_by_tag_name('p')[1].text)"
   ]
  },
  {
   "cell_type": "code",
   "execution_count": 17,
   "metadata": {},
   "outputs": [
    {
     "name": "stdout",
     "output_type": "stream",
     "text": [
      "5초 뒤 추가 내용\n"
     ]
    }
   ],
   "source": [
    "driver.find_element_by_css_selector('p:nth-child(2)')\n",
    "\n",
    "print(driver.find_elements_by_tag_name('p')[1].text)"
   ]
  },
  {
   "cell_type": "markdown",
   "metadata": {},
   "source": [
    "### wait\n",
    "\n",
    "1. 명시적 wait : 대기할 시간을 정확히 쓰기"
   ]
  },
  {
   "cell_type": "code",
   "execution_count": 18,
   "metadata": {},
   "outputs": [
    {
     "name": "stdout",
     "output_type": "stream",
     "text": [
      "5초 뒤 추가 내용\n"
     ]
    }
   ],
   "source": [
    "from selenium.webdriver.common.by import By\n",
    "from selenium.webdriver.support.ui import WebDriverWait\n",
    "from selenium.webdriver.support import expected_conditions as EC\n",
    "\n",
    "from selenium import webdriver as wd\n",
    "driver = wd.Chrome(executable_path='chromedriver.exe')\n",
    "\n",
    "driver.get('http://ggoreb.com/http/wait.jsp')\n",
    "\n",
    "try :\n",
    "    #10초 대기\n",
    "    element = WebDriverWait(driver, 10).until(\n",
    "    EC.presence_of_element_located((By.CSS_SELECTOR, 'p:nth-of-type(2)'))\n",
    "    )\n",
    "    print(driver.find_elements_by_tag_name('p')[1].text)\n",
    "except Exception as e:\n",
    "    print('오류 발생', e)"
   ]
  },
  {
   "cell_type": "markdown",
   "metadata": {},
   "source": [
    "2. 암시적 wait (이 사이트에선 안됨)\n",
    "    : 서버에서 받을 data를 다 받아올 때까지 기다림. script로 5초, 10초 뒤에 작동하게 만든 것까진 안됨"
   ]
  },
  {
   "cell_type": "code",
   "execution_count": null,
   "metadata": {},
   "outputs": [],
   "source": [
    "from selenium import webdriver as wd\n",
    "driver = wd.Chrome(executable_path='chromedriver.exe')\n",
    "from selenium.webdriver.common.by import By\n",
    "from selenium.webdriver.support.ui import WebDriverWait\n",
    "from selenium.webdriver.support import expected_conditions as EC\n",
    "driver.get('http://ggoreb.com/http/wait.jsp')\n",
    "driver.implicitly_wait(10)\n",
    "print(driver.find_elements_by_tag_name('p')[1].text)"
   ]
  },
  {
   "cell_type": "markdown",
   "metadata": {},
   "source": [
    "### javascript 작동시키기"
   ]
  },
  {
   "cell_type": "code",
   "execution_count": 19,
   "metadata": {},
   "outputs": [],
   "source": [
    "from selenium.webdriver.common.by import By\n",
    "from selenium.webdriver.support.ui import WebDriverWait\n",
    "from selenium.webdriver.support import expected_conditions as EC\n",
    "\n",
    "from selenium import webdriver as wd\n",
    "driver = wd.Chrome(executable_path='chromedriver.exe')\n",
    "\n",
    "driver.get('http://ggoreb.com/http/control.jsp')\n",
    "driver.implicitly_wait(10)\n",
    "\n",
    "driver.find_element_by_tag_name('input').send_keys('2시간 남았다')\n",
    "\n",
    "driver.find_element_by_tag_name('button').click()"
   ]
  },
  {
   "cell_type": "code",
   "execution_count": 24,
   "metadata": {},
   "outputs": [],
   "source": [
    "driver.execute_script('alert(\"hello\")')"
   ]
  },
  {
   "cell_type": "code",
   "execution_count": 52,
   "metadata": {},
   "outputs": [],
   "source": [
    "from selenium.webdriver.common.by import By\n",
    "from selenium.webdriver.support.ui import WebDriverWait\n",
    "from selenium.webdriver.support import expected_conditions as EC\n",
    "\n",
    "from selenium import webdriver as wd\n",
    "driver = wd.Chrome(executable_path='chromedriver.exe')\n",
    "\n",
    "driver.get('http://ggoreb.com/http/control2.jsp')\n",
    "driver.implicitly_wait(10)\n",
    "\n",
    "driver.find_element_by_name('no').send_keys('부산')"
   ]
  },
  {
   "cell_type": "code",
   "execution_count": 54,
   "metadata": {},
   "outputs": [
    {
     "name": "stdout",
     "output_type": "stream",
     "text": [
      " 선택\n",
      " 서울\n",
      " 부산\n",
      " 제주\n",
      "  서울\n"
     ]
    }
   ],
   "source": [
    "from selenium.webdriver.common.by import By\n",
    "from selenium.webdriver.support.ui import WebDriverWait\n",
    "from selenium.webdriver.support import expected_conditions as EC\n",
    "\n",
    "from selenium import webdriver as wd\n",
    "driver = wd.Chrome(executable_path='chromedriver.exe')\n",
    "\n",
    "driver.get('http://ggoreb.com/http/control2.jsp')\n",
    "driver.implicitly_wait(10)\n",
    "\n",
    "option = driver.find_element_by_name('no').text\n",
    "select = input(option)\n",
    "driver.find_element_by_name('no').send_keys('%s' %select)"
   ]
  },
  {
   "cell_type": "markdown",
   "metadata": {},
   "source": [
    "##### 문제풀이1\n",
    "> 네이버 증권 서비스에서 '멀티캠퍼스' 검색 후 정보 가져오기"
   ]
  },
  {
   "cell_type": "code",
   "execution_count": 48,
   "metadata": {},
   "outputs": [
    {
     "name": "stdout",
     "output_type": "stream",
     "text": [
      "2,033 억원\n",
      "코스닥 288위\n",
      "5,926,779\n",
      "500원 l 1주\n"
     ]
    }
   ],
   "source": [
    "from selenium.webdriver.common.by import By\n",
    "from selenium.webdriver.support.ui import WebDriverWait\n",
    "from selenium.webdriver.support import expected_conditions as EC\n",
    "\n",
    "from selenium import webdriver as wd\n",
    "driver = wd.Chrome(executable_path='chromedriver.exe')\n",
    "\n",
    "driver.get('https://finance.naver.com')\n",
    "driver.implicitly_wait(10)\n",
    "driver.find_element_by_css_selector('#stock_items').send_keys('멀티캠퍼스')\n",
    "driver.find_element_by_css_selector('#header > div.snb_area > div > div.sta > form > fieldset > div > button').click()\n",
    "\n",
    "driver.implicitly_wait(10)\n",
    "table = driver.find_element_by_css_selector('.first > table > tbody')\n",
    "total = table.find_element_by_css_selector('tr:nth-child(1) > td')\n",
    "total_rank = table.find_element_by_css_selector('tr:nth-child(2) > td')\n",
    "stock = table.find_element_by_css_selector('tr:nth-child(3) > td')\n",
    "stock_price = table.find_element_by_css_selector('tr:nth-child(4) > td')\n",
    "print(total.text)\n",
    "print(total_rank.text)\n",
    "print(stock.text)\n",
    "print(stock_price.text)"
   ]
  },
  {
   "cell_type": "markdown",
   "metadata": {},
   "source": [
    "## phantonjs\n",
    "> 실제 화면이 나오지 않는 유령 브라우저 / \n",
    "chrome으로 할 땐 headless 라는 옵션을 넣는 코드를 추가하면 되는데 chrome이 phantonjs 보다 용량이 큼"
   ]
  },
  {
   "cell_type": "code",
   "execution_count": 51,
   "metadata": {
    "scrolled": true
   },
   "outputs": [
    {
     "name": "stdout",
     "output_type": "stream",
     "text": [
      "2,033 억원\n",
      "코스닥 288위\n",
      "5,926,779\n",
      "500원 l 1주\n"
     ]
    }
   ],
   "source": [
    "from selenium.webdriver.common.by import By\n",
    "from selenium.webdriver.support.ui import WebDriverWait\n",
    "from selenium.webdriver.support import expected_conditions as EC\n",
    "\n",
    "from selenium import webdriver as wd\n",
    "driver = wd.PhantomJS(executable_path = 'phantomjs.exe')\n",
    "\n",
    "driver.get('https://finance.naver.com')\n",
    "driver.implicitly_wait(10)\n",
    "driver.find_element_by_css_selector('#stock_items').send_keys('멀티캠퍼스')\n",
    "driver.find_element_by_css_selector('#header > div.snb_area > div > div.sta > form > fieldset > div > button').click()\n",
    "\n",
    "driver.implicitly_wait(10)\n",
    "table = driver.find_element_by_css_selector('.first > table > tbody')\n",
    "total = table.find_element_by_css_selector('tr:nth-child(1) > td')\n",
    "total_rank = table.find_element_by_css_selector('tr:nth-child(2) > td')\n",
    "stock = table.find_element_by_css_selector('tr:nth-child(3) > td')\n",
    "stock_price = table.find_element_by_css_selector('tr:nth-child(4) > td')\n",
    "print(total.text)\n",
    "print(total_rank.text)\n",
    "print(stock.text)\n",
    "print(stock_price.text)\n",
    "\n",
    "driver.close()"
   ]
  },
  {
   "cell_type": "markdown",
   "metadata": {},
   "source": [
    "##### 문제풀이 2\n",
    "> 인터파크 투어 해외여행 상품에서 '달랏'을 조회 후 정보 가져오기"
   ]
  },
  {
   "cell_type": "markdown",
   "metadata": {},
   "source": [
    " 1. selenium으로 검색 및 해외여행 더보기 버튼 누르기"
   ]
  },
  {
   "cell_type": "code",
   "execution_count": 6,
   "metadata": {
    "scrolled": true
   },
   "outputs": [],
   "source": [
    "from selenium.webdriver.common.by import By\n",
    "from selenium.webdriver.support.ui import WebDriverWait\n",
    "from selenium.webdriver.support import expected_conditions as EC\n",
    "\n",
    "from selenium import webdriver as wd\n",
    "driver = wd.Chrome(executable_path='chromedriver.exe')\n",
    "\n",
    "driver.get('http://tour.interpark.com')\n",
    "driver.implicitly_wait(10)\n",
    "driver.find_element_by_css_selector('#SearchGNBText').send_keys('달랏')\n",
    "driver.find_element_by_css_selector('#dHead > div.tour-header > div.search-area > form > fieldset > button.search-btn').click()\n",
    "driver.implicitly_wait(10)\n",
    "driver.find_element_by_css_selector('body > div.container > div > div > div.panelZone > div.oTravelBox > ul > li.moreBtnWrap > button').click()"
   ]
  },
  {
   "cell_type": "markdown",
   "metadata": {},
   "source": [
    " 2. 1 페이지에서 원하는 정보 크롤링"
   ]
  },
  {
   "cell_type": "code",
   "execution_count": 23,
   "metadata": {},
   "outputs": [
    {
     "name": "stdout",
     "output_type": "stream",
     "text": [
      "6\n"
     ]
    }
   ],
   "source": [
    "import time\n",
    "\n",
    "time.sleep(3)\n",
    "# 1. 해외여행 패키지 개수 확인\n",
    "totalCnt = driver.find_element_by_id('totalAllCnt').text\n",
    "totalCnt = int(totalCnt)\n",
    "\n",
    "# 2. 전체 페이지 수를 확인\n",
    "totalPage = totalCnt // 10 + 1\n",
    "if totalCnt % 10 == 0:\n",
    "    totalPage -= 1\n",
    "print(totalPage)"
   ]
  },
  {
   "cell_type": "code",
   "execution_count": 27,
   "metadata": {},
   "outputs": [
    {
     "ename": "JavascriptException",
     "evalue": "Message: javascript error: searchModule is not defined\n  (Session info: chrome=79.0.3945.117)\n",
     "output_type": "error",
     "traceback": [
      "\u001b[1;31m---------------------------------------------------------------------------\u001b[0m",
      "\u001b[1;31mJavascriptException\u001b[0m                       Traceback (most recent call last)",
      "\u001b[1;32m<ipython-input-27-a3df983f5f21>\u001b[0m in \u001b[0;36m<module>\u001b[1;34m\u001b[0m\n\u001b[0;32m      1\u001b[0m \u001b[1;32mfor\u001b[0m \u001b[0mpage\u001b[0m \u001b[1;32min\u001b[0m \u001b[0mrange\u001b[0m\u001b[1;33m(\u001b[0m\u001b[1;36m1\u001b[0m\u001b[1;33m,\u001b[0m \u001b[0mtotalPage\u001b[0m \u001b[1;33m+\u001b[0m \u001b[1;36m1\u001b[0m\u001b[1;33m)\u001b[0m\u001b[1;33m:\u001b[0m\u001b[1;33m\u001b[0m\u001b[1;33m\u001b[0m\u001b[0m\n\u001b[1;32m----> 2\u001b[1;33m     \u001b[0mdriver\u001b[0m\u001b[1;33m.\u001b[0m\u001b[0mexecute_script\u001b[0m\u001b[1;33m(\u001b[0m\u001b[1;34m\"searchModule.SetCategoryList(%d, '')\"\u001b[0m \u001b[1;33m%\u001b[0m\u001b[0mpage\u001b[0m\u001b[1;33m)\u001b[0m\u001b[1;33m\u001b[0m\u001b[1;33m\u001b[0m\u001b[0m\n\u001b[0m\u001b[0;32m      3\u001b[0m     \u001b[0mprint\u001b[0m\u001b[1;33m(\u001b[0m\u001b[1;34m'===%d 페이지==='\u001b[0m \u001b[1;33m%\u001b[0m\u001b[0mpage\u001b[0m\u001b[1;33m)\u001b[0m\u001b[1;33m\u001b[0m\u001b[1;33m\u001b[0m\u001b[0m\n\u001b[0;32m      4\u001b[0m     \u001b[0mtime\u001b[0m\u001b[1;33m.\u001b[0m\u001b[0msleep\u001b[0m\u001b[1;33m(\u001b[0m\u001b[1;36m3\u001b[0m\u001b[1;33m)\u001b[0m\u001b[1;33m\u001b[0m\u001b[1;33m\u001b[0m\u001b[0m\n\u001b[0;32m      5\u001b[0m \u001b[1;33m\u001b[0m\u001b[0m\n",
      "\u001b[1;32m~\\Miniconda3\\lib\\site-packages\\selenium\\webdriver\\remote\\webdriver.py\u001b[0m in \u001b[0;36mexecute_script\u001b[1;34m(self, script, *args)\u001b[0m\n\u001b[0;32m    634\u001b[0m         return self.execute(command, {\n\u001b[0;32m    635\u001b[0m             \u001b[1;34m'script'\u001b[0m\u001b[1;33m:\u001b[0m \u001b[0mscript\u001b[0m\u001b[1;33m,\u001b[0m\u001b[1;33m\u001b[0m\u001b[1;33m\u001b[0m\u001b[0m\n\u001b[1;32m--> 636\u001b[1;33m             'args': converted_args})['value']\n\u001b[0m\u001b[0;32m    637\u001b[0m \u001b[1;33m\u001b[0m\u001b[0m\n\u001b[0;32m    638\u001b[0m     \u001b[1;32mdef\u001b[0m \u001b[0mexecute_async_script\u001b[0m\u001b[1;33m(\u001b[0m\u001b[0mself\u001b[0m\u001b[1;33m,\u001b[0m \u001b[0mscript\u001b[0m\u001b[1;33m,\u001b[0m \u001b[1;33m*\u001b[0m\u001b[0margs\u001b[0m\u001b[1;33m)\u001b[0m\u001b[1;33m:\u001b[0m\u001b[1;33m\u001b[0m\u001b[1;33m\u001b[0m\u001b[0m\n",
      "\u001b[1;32m~\\Miniconda3\\lib\\site-packages\\selenium\\webdriver\\remote\\webdriver.py\u001b[0m in \u001b[0;36mexecute\u001b[1;34m(self, driver_command, params)\u001b[0m\n\u001b[0;32m    319\u001b[0m         \u001b[0mresponse\u001b[0m \u001b[1;33m=\u001b[0m \u001b[0mself\u001b[0m\u001b[1;33m.\u001b[0m\u001b[0mcommand_executor\u001b[0m\u001b[1;33m.\u001b[0m\u001b[0mexecute\u001b[0m\u001b[1;33m(\u001b[0m\u001b[0mdriver_command\u001b[0m\u001b[1;33m,\u001b[0m \u001b[0mparams\u001b[0m\u001b[1;33m)\u001b[0m\u001b[1;33m\u001b[0m\u001b[1;33m\u001b[0m\u001b[0m\n\u001b[0;32m    320\u001b[0m         \u001b[1;32mif\u001b[0m \u001b[0mresponse\u001b[0m\u001b[1;33m:\u001b[0m\u001b[1;33m\u001b[0m\u001b[1;33m\u001b[0m\u001b[0m\n\u001b[1;32m--> 321\u001b[1;33m             \u001b[0mself\u001b[0m\u001b[1;33m.\u001b[0m\u001b[0merror_handler\u001b[0m\u001b[1;33m.\u001b[0m\u001b[0mcheck_response\u001b[0m\u001b[1;33m(\u001b[0m\u001b[0mresponse\u001b[0m\u001b[1;33m)\u001b[0m\u001b[1;33m\u001b[0m\u001b[1;33m\u001b[0m\u001b[0m\n\u001b[0m\u001b[0;32m    322\u001b[0m             response['value'] = self._unwrap_value(\n\u001b[0;32m    323\u001b[0m                 response.get('value', None))\n",
      "\u001b[1;32m~\\Miniconda3\\lib\\site-packages\\selenium\\webdriver\\remote\\errorhandler.py\u001b[0m in \u001b[0;36mcheck_response\u001b[1;34m(self, response)\u001b[0m\n\u001b[0;32m    240\u001b[0m                 \u001b[0malert_text\u001b[0m \u001b[1;33m=\u001b[0m \u001b[0mvalue\u001b[0m\u001b[1;33m[\u001b[0m\u001b[1;34m'alert'\u001b[0m\u001b[1;33m]\u001b[0m\u001b[1;33m.\u001b[0m\u001b[0mget\u001b[0m\u001b[1;33m(\u001b[0m\u001b[1;34m'text'\u001b[0m\u001b[1;33m)\u001b[0m\u001b[1;33m\u001b[0m\u001b[1;33m\u001b[0m\u001b[0m\n\u001b[0;32m    241\u001b[0m             \u001b[1;32mraise\u001b[0m \u001b[0mexception_class\u001b[0m\u001b[1;33m(\u001b[0m\u001b[0mmessage\u001b[0m\u001b[1;33m,\u001b[0m \u001b[0mscreen\u001b[0m\u001b[1;33m,\u001b[0m \u001b[0mstacktrace\u001b[0m\u001b[1;33m,\u001b[0m \u001b[0malert_text\u001b[0m\u001b[1;33m)\u001b[0m\u001b[1;33m\u001b[0m\u001b[1;33m\u001b[0m\u001b[0m\n\u001b[1;32m--> 242\u001b[1;33m         \u001b[1;32mraise\u001b[0m \u001b[0mexception_class\u001b[0m\u001b[1;33m(\u001b[0m\u001b[0mmessage\u001b[0m\u001b[1;33m,\u001b[0m \u001b[0mscreen\u001b[0m\u001b[1;33m,\u001b[0m \u001b[0mstacktrace\u001b[0m\u001b[1;33m)\u001b[0m\u001b[1;33m\u001b[0m\u001b[1;33m\u001b[0m\u001b[0m\n\u001b[0m\u001b[0;32m    243\u001b[0m \u001b[1;33m\u001b[0m\u001b[0m\n\u001b[0;32m    244\u001b[0m     \u001b[1;32mdef\u001b[0m \u001b[0m_value_or_default\u001b[0m\u001b[1;33m(\u001b[0m\u001b[0mself\u001b[0m\u001b[1;33m,\u001b[0m \u001b[0mobj\u001b[0m\u001b[1;33m,\u001b[0m \u001b[0mkey\u001b[0m\u001b[1;33m,\u001b[0m \u001b[0mdefault\u001b[0m\u001b[1;33m)\u001b[0m\u001b[1;33m:\u001b[0m\u001b[1;33m\u001b[0m\u001b[1;33m\u001b[0m\u001b[0m\n",
      "\u001b[1;31mJavascriptException\u001b[0m: Message: javascript error: searchModule is not defined\n  (Session info: chrome=79.0.3945.117)\n"
     ]
    }
   ],
   "source": [
    "for page in range(1, totalPage + 1):\n",
    "    driver.execute_script(\"searchModule.SetCategoryList(%d, '')\" %page)\n",
    "    print('===%d 페이지===' %page)\n",
    "    time.sleep(3)\n",
    "    \n",
    "    travel_list = driver.find_elements_by_css_selector('li.boxItem')\n",
    "    for travel in travel_list:\n",
    "        img = travel.find_element_by_css_selector('a > img').get_attribute('src')\n",
    "        title = travel.find_element_by_css_selector('.boxTables > .title-row > div > h5').text\n",
    "        price = travel.find_element_by_css_selector('strong.proPrice').text\n",
    "        detail = travel.find_element_by_css_selector('.boxTables > .title-row > div > p').text\n",
    "        period = travel.find_element_by_css_selector('.info-row > div:nth-child(1) > p:nth-child(1)').text\n",
    "        startdate = travel.find_element_by_css_selector('.info-row > div:nth-child(1) > p:nth-child(2)').text\n",
    "        rate = travel.find_element_by_css_selector('div.info-row > div:nth-child(2) > p:nth-child(2)').text\n",
    "        evaluate = travel.find_element_by_css_selector('div.info-row > div:nth-child(2) > p:nth-child(3)').text\n",
    "        \n",
    "        print(img)\n",
    "        print('상품명 : ', title)\n",
    "        print('가격 : ', price)\n",
    "        print('추가설명 : ', detail)\n",
    "        print('여행기간 : ', period)\n",
    "        print('출발 가능 기간 : ', startdate)\n",
    "        print('평점 : ', rate)\n",
    "        print('상품평 : ', evaluate)\n",
    "        print('==================')\n",
    "\n",
    "\n",
    "driver.close()"
   ]
  },
  {
   "cell_type": "markdown",
   "metadata": {},
   "source": [
    "##### 문제풀이 3\n",
    "> 대통령 선거 통계 시스템에서 정보 가져오기"
   ]
  },
  {
   "cell_type": "code",
   "execution_count": 1,
   "metadata": {},
   "outputs": [],
   "source": [
    "from selenium.webdriver.common.by import By\n",
    "from selenium.webdriver.support.ui import WebDriverWait\n",
    "from selenium.webdriver.support import expected_conditions as EC\n",
    "import time\n",
    "\n",
    "from selenium import webdriver as wd\n",
    "driver = wd.Chrome(executable_path='chromedriver.exe')\n",
    "\n",
    "driver.get(' http://info.nec.go.kr/main/showDocument.xhtml?electionId=0000000000&topMenuId=VC&secondMenuId=VCCP09')\n",
    "driver.implicitly_wait(10)\n",
    "driver.find_element_by_id('electionType1').click()\n",
    "driver.implicitly_wait(10)\n",
    "driver.find_element_by_id('electionName').send_keys('제19대')\n",
    "time.sleep(1)\n",
    "driver.find_element_by_id('electionCode').send_keys('대통령선거')\n",
    "time.sleep(1)\n",
    "location = driver.find_element_by_css_selector('#cityCode > option:nth-child(2)').text\n",
    "time.sleep(1)\n",
    "driver.find_element_by_id('cityCode').send_keys(location)\n",
    "time.sleep(1)\n",
    "driver.find_element_by_id('searchBtn').click()\n",
    "driver.implicitly_wait(2)"
   ]
  },
  {
   "cell_type": "code",
   "execution_count": 8,
   "metadata": {},
   "outputs": [
    {
     "name": "stdout",
     "output_type": "stream",
     "text": [
      "2,781,345\n",
      "(42.34)\n",
      "=====\n",
      "2781345\n",
      "\n",
      "1,365,285\n",
      "(20.78)\n",
      "=====\n",
      "1365285\n",
      "\n",
      "1,492,767\n",
      "(22.72)\n",
      "=====\n",
      "1492767\n",
      "\n",
      "872,127\n",
      "(38.71)\n",
      "=====\n",
      "872127\n",
      "\n",
      "720,484\n",
      "(31.98)\n",
      "=====\n",
      "720484\n",
      "\n",
      "378,907\n",
      "(16.82)\n",
      "=====\n",
      "378907\n",
      "\n",
      "342,620\n",
      "(21.76)\n",
      "=====\n",
      "342620\n",
      "\n",
      "714,205\n",
      "(45.36)\n",
      "=====\n",
      "714205\n",
      "\n",
      "235,757\n",
      "(14.97)\n",
      "=====\n",
      "235757\n",
      "\n",
      "747,090\n",
      "(41.20)\n",
      "=====\n",
      "747090\n",
      "\n",
      "379,191\n",
      "(20.91)\n",
      "=====\n",
      "379191\n",
      "\n",
      "428,888\n",
      "(23.65)\n",
      "=====\n",
      "428888\n",
      "\n",
      "583,847\n",
      "(61.14)\n",
      "=====\n",
      "583847\n",
      "\n",
      "14,882\n",
      "(1.55)\n",
      "=====\n",
      "14882\n",
      "\n",
      "287,222\n",
      "(30.08)\n",
      "=====\n",
      "287222\n",
      "\n",
      "404,545\n",
      "(42.93)\n",
      "=====\n",
      "404545\n",
      "\n",
      "191,376\n",
      "(20.30)\n",
      "=====\n",
      "191376\n",
      "\n",
      "218,769\n",
      "(23.21)\n",
      "=====\n",
      "218769\n",
      "\n"
     ]
    }
   ],
   "source": [
    "tr_list = [2,3,4,5,6,7]\n",
    "td_list = [4,5,6]\n",
    "\n",
    "for tr in tr_list:\n",
    "    votes = driver.find_element_by_css_selector('#table01 > tbody > tr:nth-child(%d)' %tr)\n",
    "    for td in td_list:\n",
    "        result = votes.find_element_by_css_selector('td:nth-child(%d)' %td).text\n",
    "        print(result)\n",
    "        print('=====')\n",
    "        print(result.split('(')[0].replace(',',''))"
   ]
  }
 ],
 "metadata": {
  "kernelspec": {
   "display_name": "Python 3",
   "language": "python",
   "name": "python3"
  },
  "language_info": {
   "codemirror_mode": {
    "name": "ipython",
    "version": 3
   },
   "file_extension": ".py",
   "mimetype": "text/x-python",
   "name": "python",
   "nbconvert_exporter": "python",
   "pygments_lexer": "ipython3",
   "version": "3.7.4"
  }
 },
 "nbformat": 4,
 "nbformat_minor": 2
}
