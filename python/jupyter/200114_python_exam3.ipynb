{
 "cells": [
  {
   "cell_type": "code",
   "execution_count": 5,
   "metadata": {},
   "outputs": [],
   "source": [
    "file = open('c:/dev/gugudan.txt', 'wt')\n",
    "for a in range(2, 6):\n",
    "    for b in range(1, 10):\n",
    "        file.write(\"%d * %d = %d\" %(a,b,a*b))\n",
    "file.close()"
   ]
  },
  {
   "cell_type": "code",
   "execution_count": 7,
   "metadata": {},
   "outputs": [],
   "source": [
    "file = open('c:/dev/list.bin','wb')\n",
    "list1 = [1,2,3,4,5]\n",
    "file.write(bytes(list1))\n",
    "file.close()"
   ]
  },
  {
   "cell_type": "code",
   "execution_count": 8,
   "metadata": {},
   "outputs": [
    {
     "data": {
      "text/plain": [
       "bytes"
      ]
     },
     "execution_count": 8,
     "metadata": {},
     "output_type": "execute_result"
    }
   ],
   "source": [
    "file = open('c:/dev/list.bin','rb')\n",
    "data = file.read()\n",
    "file.close()\n",
    "type(data)"
   ]
  },
  {
   "cell_type": "code",
   "execution_count": 11,
   "metadata": {},
   "outputs": [],
   "source": [
    "import pickle\n",
    "file = open('c:/dev/list.bin','wb')\n",
    "list1 = ['1', 2, 3, 4, 5]\n",
    "# file.write(bytes(list1))\n",
    "pickle.dump(list1, file)\n",
    "file.close()"
   ]
  },
  {
   "cell_type": "code",
   "execution_count": 12,
   "metadata": {},
   "outputs": [
    {
     "name": "stdout",
     "output_type": "stream",
     "text": [
      "['1', 2, 3, 4, 5]\n"
     ]
    }
   ],
   "source": [
    "import pickle\n",
    "file = open('c:/dev/list.bin','rb')\n",
    "# data = file.read()\n",
    "result = pickle.load(file)\n",
    "file.close()\n",
    "print(result)"
   ]
  },
  {
   "cell_type": "code",
   "execution_count": 13,
   "metadata": {
    "scrolled": true
   },
   "outputs": [
    {
     "name": "stdout",
     "output_type": "stream",
     "text": [
      "2 * 1 = 22 * 2 = 42 * 3 = 62 * 4 = 82 * 5 = 102 * 6 = 122 * 7 = 142 * 8 = 162 * 9 = 183 * 1 = 33 * 2 = 63 * 3 = 93 * 4 = 123 * 5 = 153 * 6 = 183 * 7 = 213 * 8 = 243 * 9 = 274 * 1 = 44 * 2 = 84 * 3 = 124 * 4 = 164 * 5 = 204 * 6 = 244 * 7 = 284 * 8 = 324 * 9 = 365 * 1 = 55 * 2 = 105 * 3 = 155 * 4 = 205 * 5 = 255 * 6 = 305 * 7 = 355 * 8 = 405 * 9 = 45\n"
     ]
    }
   ],
   "source": [
    "file = open('c:/dev/gugudan.txt')\n",
    "while True:\n",
    "    data = file.readline()\n",
    "    if not data:\n",
    "        break\n",
    "    print(data)\n",
    "file.close()"
   ]
  },
  {
   "cell_type": "code",
   "execution_count": 13,
   "metadata": {
    "scrolled": true
   },
   "outputs": [
    {
     "name": "stdout",
     "output_type": "stream",
     "text": [
      "2 * 1 = 22 * 2 = 42 * 3 = 62 * 4 = 82 * 5 = 102 * 6 = 122 * 7 = 142 * 8 = 162 * 9 = 183 * 1 = 33 * 2 = 63 * 3 = 93 * 4 = 123 * 5 = 153 * 6 = 183 * 7 = 213 * 8 = 243 * 9 = 274 * 1 = 44 * 2 = 84 * 3 = 124 * 4 = 164 * 5 = 204 * 6 = 244 * 7 = 284 * 8 = 324 * 9 = 365 * 1 = 55 * 2 = 105 * 3 = 155 * 4 = 205 * 5 = 255 * 6 = 305 * 7 = 355 * 8 = 405 * 9 = 45\n"
     ]
    }
   ],
   "source": [
    "file = open('c:/dev/gugudan.txt')\n",
    "while True:\n",
    "    data = file.readline()\n",
    "    if not data:\n",
    "        break\n",
    "    print(data)\n",
    "file.close()"
   ]
  },
  {
   "cell_type": "code",
   "execution_count": 14,
   "metadata": {
    "scrolled": false
   },
   "outputs": [
    {
     "name": "stdout",
     "output_type": "stream",
     "text": [
      "['2 * 1 = 22 * 2 = 42 * 3 = 62 * 4 = 82 * 5 = 102 * 6 = 122 * 7 = 142 * 8 = 162 * 9 = 183 * 1 = 33 * 2 = 63 * 3 = 93 * 4 = 123 * 5 = 153 * 6 = 183 * 7 = 213 * 8 = 243 * 9 = 274 * 1 = 44 * 2 = 84 * 3 = 124 * 4 = 164 * 5 = 204 * 6 = 244 * 7 = 284 * 8 = 324 * 9 = 365 * 1 = 55 * 2 = 105 * 3 = 155 * 4 = 205 * 5 = 255 * 6 = 305 * 7 = 355 * 8 = 405 * 9 = 45']\n"
     ]
    }
   ],
   "source": [
    "file = open('c:/dev/gugudan.txt')\n",
    "data = file.readlines()\n",
    "for line in data:\n",
    "    print(data)\n",
    "file.close()"
   ]
  },
  {
   "cell_type": "code",
   "execution_count": 15,
   "metadata": {
    "scrolled": false
   },
   "outputs": [
    {
     "name": "stdout",
     "output_type": "stream",
     "text": [
      "['2 * 1 = 22 * 2 = 42 * 3 = 62 * 4 = 82 * 5 = 102 * 6 = 122 * 7 = 142 * 8 = 162 * 9 = 183 * 1 = 33 * 2 = 63 * 3 = 93 * 4 = 123 * 5 = 153 * 6 = 183 * 7 = 213 * 8 = 243 * 9 = 274 * 1 = 44 * 2 = 84 * 3 = 124 * 4 = 164 * 5 = 204 * 6 = 244 * 7 = 284 * 8 = 324 * 9 = 365 * 1 = 55 * 2 = 105 * 3 = 155 * 4 = 205 * 5 = 255 * 6 = 305 * 7 = 355 * 8 = 405 * 9 = 45']\n"
     ]
    }
   ],
   "source": [
    "file = open('c:/dev/gugudan.txt')\n",
    "data = file.readlines()\n",
    "with file:\n",
    "    for line in data:\n",
    "        print(data)\n",
    "# file.close()"
   ]
  },
  {
   "cell_type": "code",
   "execution_count": 16,
   "metadata": {},
   "outputs": [],
   "source": [
    "class MyFile:\n",
    "    def __init__(self):\n",
    "        print(\"생성\")\n",
    "    def __enter__(self):\n",
    "        print(\"열림\")\n",
    "    def __exit__(self, type, value, traceback):\n",
    "        print(\"닫힘\")\n",
    "        self.close()\n",
    "    def close():\n",
    "        pass"
   ]
  },
  {
   "cell_type": "code",
   "execution_count": 17,
   "metadata": {},
   "outputs": [
    {
     "name": "stdout",
     "output_type": "stream",
     "text": [
      "생성\n",
      "열림\n",
      "닫힘\n"
     ]
    }
   ],
   "source": [
    "m = MyFile()\n",
    "with m:\n",
    "    pass"
   ]
  },
  {
   "cell_type": "code",
   "execution_count": 20,
   "metadata": {},
   "outputs": [
    {
     "name": "stdout",
     "output_type": "stream",
     "text": [
      "3\n",
      "6\n",
      "9\n"
     ]
    }
   ],
   "source": [
    "data = ([1,2,3],[4,5,6],[7,8,9])\n",
    "for a,b,c in data:\n",
    "    print(c)"
   ]
  },
  {
   "cell_type": "code",
   "execution_count": 21,
   "metadata": {},
   "outputs": [
    {
     "name": "stdout",
     "output_type": "stream",
     "text": [
      "[6, 12]\n"
     ]
    }
   ],
   "source": [
    "list1 = [1,2,3,4]\n",
    "result = [n * 3 for n in list1 if n % 2 == 0]\n",
    "print(result)"
   ]
  },
  {
   "cell_type": "code",
   "execution_count": 26,
   "metadata": {},
   "outputs": [
    {
     "name": "stdout",
     "output_type": "stream",
     "text": [
      "가나다라카타파하\n",
      "ABCDWXYZ\n"
     ]
    }
   ],
   "source": [
    "class Letter:\n",
    "     # 변수 선언 및 초기화\n",
    "    letter = \"\"\n",
    "     # write 메소드(함수) 작성\n",
    "    def write(self, word):\n",
    "        self.letter += word\n",
    "     # show 메소드(함수) 작성\n",
    "    def show(self):\n",
    "        return self.letter\n",
    "\n",
    "#생성된 인스턴스의 주소 저장\n",
    "letter1 = Letter()\n",
    "#write 호출시 주소가 self로 전달\n",
    "letter1.write('가나다라')\n",
    "letter1.write('카타파하')\n",
    "letter2 = Letter()\n",
    "letter2.write('ABCD')\n",
    "letter2.write('WXYZ')\n",
    "print(letter1.show())\n",
    "print(letter2.show())"
   ]
  },
  {
   "cell_type": "code",
   "execution_count": 29,
   "metadata": {},
   "outputs": [
    {
     "name": "stdout",
     "output_type": "stream",
     "text": [
      "Python 10000\n",
      "Java 10000\n"
     ]
    }
   ],
   "source": [
    "class Book:\n",
    "     # 코드 작성\n",
    "    title = \"\"\n",
    "    price = 0\n",
    "    def setTitle(self, name):\n",
    "        self.title = name\n",
    "    def setPrice(self, num):\n",
    "        self.price = num\n",
    "\n",
    "\n",
    "book1 = Book()\n",
    "book1.setTitle('Python')\n",
    "book1.setPrice(10000)\n",
    "book2 = Book()\n",
    "book2.setTitle('Java')\n",
    "book2.setPrice(10000)\n",
    "print(book1.title, book1.price)\n",
    "print(book2.title, book2.price)"
   ]
  },
  {
   "cell_type": "code",
   "execution_count": null,
   "metadata": {},
   "outputs": [],
   "source": [
    "class Product:\n",
    "     # 코드 작성\n",
    "    def show_info(self):\n",
    "    return 'name=' + self.name + ', code=' + self.code + ', count=' + str(self.count)\n",
    "\n",
    "\n",
    "\n",
    "p1 = Product('clock', 'c0001', 500)\n",
    "print(p1.show_info())\n",
    "p2 = Product('tv', 't0001', 1500)\n",
    "print(p2.show_info())"
   ]
  },
  {
   "cell_type": "code",
   "execution_count": 31,
   "metadata": {},
   "outputs": [
    {
     "name": "stdout",
     "output_type": "stream",
     "text": [
      "['전동 트렁크', '통풍 시트']\n",
      "['뒷자리 에어백', '하이패스']\n"
     ]
    }
   ],
   "source": [
    "class Car:\n",
    "     # 생성자 작성\n",
    "    def __init__(self):\n",
    "        self.result = []\n",
    "     # add_option 메소드 작성\n",
    "    def add_option(self, option):\n",
    "        self.result.append(option)\n",
    "     # show_option 메소드 작성\n",
    "    def show_option(self):\n",
    "        return self.result\n",
    "\n",
    "car1 = Car()\n",
    "car2 = Car()\n",
    "car1.add_option('전동 트렁크')\n",
    "car1.add_option('통풍 시트')\n",
    "car2.add_option('뒷자리 에어백')\n",
    "car2.add_option('하이패스')\n",
    "print(car1.show_option())\n",
    "print(car2.show_option())"
   ]
  },
  {
   "cell_type": "code",
   "execution_count": 33,
   "metadata": {},
   "outputs": [
    {
     "name": "stdout",
     "output_type": "stream",
     "text": [
      "['치즈', '베이컨', '고구마']\n",
      "['불고기', '피망']\n"
     ]
    }
   ],
   "source": [
    "class Pizza:\n",
    "     # 생성자 작성\n",
    "    def __init__(self):\n",
    "        self.topping = []\n",
    "     # add_topping 메소드 작성\n",
    "    def add_topping(self, topping):\n",
    "        self.topping.append(topping)\n",
    "     # remove 메소드 작성\n",
    "    def remove(self, topping):\n",
    "        self.topping.remove(topping)\n",
    "     # show_topping 메소드 작성\n",
    "    def show_topping(self):\n",
    "        return self.topping\n",
    "    \n",
    "    \n",
    "p1 = Pizza()\n",
    "p1.add_topping('치즈')\n",
    "p1.add_topping('베이컨')\n",
    "p1.add_topping('고구마')\n",
    "p2 = Pizza()\n",
    "p2.add_topping('소시지')\n",
    "p2.add_topping('불고기')\n",
    "p2.add_topping('피망')\n",
    "p2.remove('소시지')\n",
    "print(p1.show_topping())\n",
    "print(p2.show_topping())"
   ]
  },
  {
   "cell_type": "code",
   "execution_count": 35,
   "metadata": {},
   "outputs": [
    {
     "name": "stdout",
     "output_type": "stream",
     "text": [
      "20\n",
      "홍길동의 나이는 25\n"
     ]
    }
   ],
   "source": [
    "class Data:\n",
    "    def __init__(self, data):\n",
    "        words = data.split('|')\n",
    "        self.idx = words[0]\n",
    "        self.name = words[1]\n",
    "        self.age = words[2]\n",
    "        self.grade = words[3]\n",
    "\n",
    "    def print_age(self):\n",
    "        print('%s의 나이는 %s' % (self.name, self.age))\n",
    "        \n",
    "        \n",
    "data1 = Data('1|김길동|20|A')\n",
    "age1 = data1.age;\n",
    "print(age1)\n",
    "data2 = Data('2|홍길동|25|B')\n",
    "data2.print_age()"
   ]
  },
  {
   "cell_type": "code",
   "execution_count": 40,
   "metadata": {},
   "outputs": [
    {
     "name": "stdout",
     "output_type": "stream",
     "text": [
      "합계 15\n"
     ]
    }
   ],
   "source": [
    "class EachSum:\n",
    "    def __init__(self):\n",
    "        self.total = 0\n",
    "    def compute(self, num):\n",
    "        num = str(num)\n",
    "        for n in num:\n",
    "            self.total += int(n)\n",
    "        return self.total\n",
    "\n",
    " # 코드 작성\n",
    "each = EachSum()\n",
    "total = each.compute(12345)\n",
    "print('합계', total)"
   ]
  },
  {
   "cell_type": "code",
   "execution_count": 63,
   "metadata": {},
   "outputs": [
    {
     "name": "stdout",
     "output_type": "stream",
     "text": [
      "쌀국수\n"
     ]
    }
   ],
   "source": [
    "import random\n",
    "class SelectMenu:\n",
    "    def __init__(self, menus):\n",
    "        self.menus = menus\n",
    "    def get_menu(self):\n",
    "        option = random.randint(0,len(self.menus)-1)\n",
    "        return self.menus[option]\n",
    "\n",
    "\n",
    "\n",
    "menu = SelectMenu(['짬뽕', '초밥', '쌀국수', '주꾸미'])\n",
    "print(menu.get_menu())"
   ]
  },
  {
   "cell_type": "code",
   "execution_count": 72,
   "metadata": {},
   "outputs": [],
   "source": [
    "import Calendar as cal"
   ]
  },
  {
   "cell_type": "code",
   "execution_count": 73,
   "metadata": {},
   "outputs": [
    {
     "data": {
      "text/plain": [
       "3"
      ]
     },
     "execution_count": 73,
     "metadata": {},
     "output_type": "execute_result"
    }
   ],
   "source": [
    "cal.plus(1,2)"
   ]
  },
  {
   "cell_type": "code",
   "execution_count": 75,
   "metadata": {},
   "outputs": [
    {
     "data": {
      "text/plain": [
       "2"
      ]
     },
     "execution_count": 75,
     "metadata": {},
     "output_type": "execute_result"
    }
   ],
   "source": [
    "from Calendar import minus\n",
    "minus(4,2)"
   ]
  },
  {
   "cell_type": "code",
   "execution_count": 92,
   "metadata": {},
   "outputs": [
    {
     "data": {
      "text/plain": [
       "11"
      ]
     },
     "execution_count": 92,
     "metadata": {},
     "output_type": "execute_result"
    }
   ],
   "source": [
    "from random import randint as ran\n",
    "ran(1,100)"
   ]
  },
  {
   "cell_type": "code",
   "execution_count": 93,
   "metadata": {},
   "outputs": [
    {
     "data": {
      "text/plain": [
       "3"
      ]
     },
     "execution_count": 93,
     "metadata": {},
     "output_type": "execute_result"
    }
   ],
   "source": [
    "from mymod import myfunc\n",
    "myfunc(1, 2)"
   ]
  },
  {
   "cell_type": "code",
   "execution_count": 97,
   "metadata": {},
   "outputs": [
    {
     "name": "stdout",
     "output_type": "stream",
     "text": [
      "A\n",
      "A\n"
     ]
    }
   ],
   "source": [
    "from mod_class import MyClass as mc\n",
    "\n",
    "my_class = mc('A')\n",
    "my_class.show()\n",
    "print(my_class.get_name())"
   ]
  },
  {
   "cell_type": "code",
   "execution_count": 100,
   "metadata": {},
   "outputs": [],
   "source": [
    "import driver.sound.mp3\n",
    "from driver.sound.wav import *"
   ]
  },
  {
   "cell_type": "code",
   "execution_count": 102,
   "metadata": {},
   "outputs": [
    {
     "name": "stdout",
     "output_type": "stream",
     "text": [
      "vga nvidia!\n"
     ]
    }
   ],
   "source": [
    "import driver.vga.ati\n",
    "from driver.vga.nvidia import *"
   ]
  },
  {
   "cell_type": "code",
   "execution_count": 105,
   "metadata": {},
   "outputs": [],
   "source": [
    "from driver.vga import *\n",
    "from driver.sound import *"
   ]
  },
  {
   "cell_type": "code",
   "execution_count": 2,
   "metadata": {},
   "outputs": [
    {
     "name": "stdout",
     "output_type": "stream",
     "text": [
      "barcode reader: 1234\n",
      "qrcode reader: 5678\n",
      "====================\n",
      "barcode print: 1234\n",
      "qrcode print: 5678\n",
      "barcode screen: 1234\n",
      "qrcode screen: 5678\n"
     ]
    }
   ],
   "source": [
    "# package.py (주피터 노트북)\n",
    "from com.ggoreb.python.reader import *\n",
    "import com.ggoreb.python.writer.file as file\n",
    "import com.ggoreb.python.writer.print as printer\n",
    "import com.ggoreb.python.writer.screen as screen\n",
    "\n",
    "barcode.read(1234)\n",
    "qrcode.read(5678)\n",
    "print('='*20)\n",
    "file.write()\n",
    "printer.write()\n",
    "screen.write()"
   ]
  },
  {
   "cell_type": "code",
   "execution_count": 1,
   "metadata": {
    "scrolled": true
   },
   "outputs": [
    {
     "data": {
      "text/plain": [
       "dict_items([('Python', 61), ('is', 8), ('an', 4), ('easy', 1), ('to', 38), ('learn,', 1), ('powerful', 1), ('programming', 1), ('language.', 2), ('It', 3), ('has', 1), ('efficient', 2), ('high-level', 1), ('data', 11), ('structures', 1), ('and', 83), ('a', 13), ('simple', 1), ('but', 2), ('effective', 1), ('approach', 1), ('object-oriented', 1), ('programming.', 2), ('Python’s', 4), ('elegant', 1), ('syntax', 2), ('dynamic', 1), ('typing,', 1), ('together', 1), ('with', 22), ('its', 1), ('interpreted', 1), ('nature,', 1), ('make', 1), ('it', 3), ('ideal', 1), ('language', 3), ('for', 63), ('scripting', 1), ('rapid', 1), ('application', 3), ('development', 2), ('in', 14), ('many', 5), ('areas', 1), ('on', 9), ('most', 3), ('platforms.', 1), ('The', 28), ('interpreter', 4), ('the', 42), ('extensive', 1), ('standard', 6), ('library', 13), ('are', 5), ('freely', 2), ('available', 2), ('source', 3), ('or', 7), ('binary', 3), ('form', 1), ('all', 3), ('major', 1), ('platforms', 1), ('from', 6), ('Web', 1), ('site,', 1), ('http://www.python.org/,', 1), ('may', 2), ('be', 7), ('distributed.', 1), ('same', 1), ('site', 3), ('also', 6), ('contains', 2), ('distributions', 1), ('of', 30), ('pointers', 1), ('free', 1), ('third', 1), ('party', 1), ('modules,', 2), ('programs', 4), ('tools,', 1), ('additional', 2), ('documentation.', 1), ('easily', 1), ('extended', 1), ('new', 2), ('functions', 13), ('types', 5), ('implemented', 1), ('C', 3), ('C++', 1), ('(or', 1), ('other', 1), ('languages', 1), ('callable', 2), ('C).', 1), ('suitable', 1), ('as', 14), ('extension', 3), ('customizable', 1), ('applications.', 1), ('This', 2), ('tutorial', 3), ('introduces', 2), ('reader', 1), ('informally', 1), ('basic', 2), ('concepts', 1), ('features', 2), ('system.', 1), ('helps', 1), ('have', 1), ('handy', 1), ('hands-on', 1), ('experience,', 1), ('examples', 2), ('self-contained,', 1), ('so', 2), ('can', 1), ('read', 3), ('off-line', 1), ('well.', 1), ('For', 2), ('description', 1), ('objects', 14), ('see', 1), ('Standard', 7), ('Library.', 2), ('Language', 3), ('Reference', 4), ('gives', 1), ('more', 2), ('formal', 1), ('definition', 1), ('To', 1), ('write', 9), ('extensions', 1), ('C++,', 1), ('Extending', 1), ('Embedding', 1), ('Interpreter', 7), ('Python/C', 1), ('API', 3), ('Manual.', 1), ('There', 1), ('several', 2), ('books', 1), ('covering', 1), ('depth.', 1), ('does', 1), ('not', 2), ('attempt', 1), ('comprehensive', 1), ('cover', 1), ('every', 2), ('single', 1), ('feature,', 1), ('even', 1), ('commonly', 2), ('used', 10), ('feature.', 1), ('Instead,', 1), ('noteworthy', 1), ('features,', 1), ('will', 3), ('give', 1), ('you', 3), ('good', 1), ('idea', 1), ('language’s', 1), ('flavor', 1), ('style.', 1), ('After', 1), ('reading', 1), ('it,', 1), ('able', 1), ('modules', 14), ('programs,', 1), ('ready', 1), ('learn', 1), ('about', 1), ('various', 2), ('described', 1), ('Glossary', 1), ('worth', 1), ('going', 1), ('through.', 1), ('1.', 2), ('Whetting', 1), ('Your', 1), ('Appetite', 1), ('2.', 2), ('Using', 5), ('2.1.', 1), ('Invoking', 1), ('2.1.1.', 1), ('Argument', 4), ('Passing', 1), ('2.1.2.', 1), ('Interactive', 5), ('Mode', 1), ('2.2.', 1), ('Its', 1), ('Environment', 1), ('2.2.1.', 1), ('Error', 3), ('Handling', 3), ('2.2.2.', 1), ('Executable', 1), ('Scripts', 1), ('2.2.3.', 1), ('Source', 1), ('Code', 1), ('Encoding', 1), ('2.2.4.', 1), ('Startup', 1), ('File', 8), ('2.2.5.', 1), ('Customization', 1), ('Modules', 10), ('3.', 2), ('An', 2), ('Informal', 1), ('Introduction', 2), ('3.1.', 1), ('Calculator', 1), ('3.1.1.', 1), ('Numbers', 1), ('3.1.2.', 1), ('Strings', 3), ('3.1.3.', 1), ('Unicode', 2), ('3.1.4.', 1), ('Lists', 7), ('3.2.', 1), ('First', 2), ('Steps', 1), ('Towards', 1), ('Programming', 2), ('4.', 2), ('More', 5), ('Control', 2), ('Flow', 1), ('Tools', 7), ('4.1.', 2), ('if', 1), ('Statements', 3), ('4.2.', 1), ('4.3.', 1), ('range()', 1), ('Function', 3), ('4.4.', 1), ('break', 1), ('continue', 1), ('Statements,', 1), ('else', 1), ('Clauses', 1), ('Loops', 1), ('4.5.', 1), ('pass', 1), ('4.6.', 1), ('Defining', 3), ('Functions', 6), ('4.7.', 1), ('4.7.1.', 1), ('Default', 1), ('Values', 1), ('4.7.2.', 1), ('Keyword', 1), ('Arguments', 2), ('4.7.3.', 1), ('Arbitrary', 1), ('4.7.4.', 1), ('Unpacking', 1), ('4.7.5.', 1), ('Lambda', 1), ('Expressions', 2), ('4.7.6.', 1), ('Documentation', 2), ('4.8.', 1), ('Intermezzo:', 1), ('Coding', 1), ('Style', 1), ('5.', 2), ('Data', 9), ('Structures', 1), ('5.1.', 2), ('5.1.1.', 1), ('Stacks', 1), ('5.1.2.', 1), ('Queues', 1), ('5.1.3.', 1), ('Functional', 1), ('5.1.4.', 1), ('List', 2), ('Comprehensions', 2), ('5.1.4.1.', 1), ('Nested', 1), ('5.2.', 2), ('del', 1), ('statement', 3), ('5.3.', 2), ('Tuples', 1), ('Sequences', 2), ('5.4.', 2), ('Sets', 1), ('5.5.', 2), ('Dictionaries', 1), ('5.6.', 2), ('Looping', 1), ('Techniques', 1), ('5.7.', 2), ('Conditions', 1), ('5.8.', 2), ('Comparing', 1), ('Other', 3), ('Types', 10), ('6.', 2), ('6.1.', 2), ('6.1.1.', 1), ('Executing', 1), ('scripts', 2), ('6.1.2.', 1), ('Module', 1), ('Search', 1), ('Path', 1), ('6.1.3.', 1), ('“Compiled”', 1), ('files', 16), ('6.2.', 1), ('6.3.', 1), ('dir()', 1), ('6.4.', 1), ('Packages', 3), ('6.4.1.', 1), ('Importing', 2), ('*', 1), ('From', 1), ('Package', 3), ('6.4.2.', 1), ('Intra-package', 1), ('References', 3), ('6.4.3.', 1), ('Multiple', 3), ('Directories', 1), ('7.', 2), ('Input', 2), ('Output', 4), ('7.1.', 2), ('Fancier', 1), ('Formatting', 2), ('7.1.1.', 1), ('Old', 1), ('string', 4), ('formatting', 2), ('7.2.', 2), ('Reading', 2), ('Writing', 2), ('Files', 1), ('7.2.1.', 1), ('Methods', 1), ('Objects', 6), ('7.2.2.', 1), ('Saving', 1), ('structured', 1), ('json', 2), ('8.', 2), ('Errors', 2), ('Exceptions', 7), ('8.1.', 2), ('Syntax', 4), ('8.2.', 2), ('8.3.', 2), ('8.4.', 2), ('Raising', 1), ('8.5.', 2), ('User-defined', 1), ('8.6.', 2), ('Clean-up', 2), ('Actions', 2), ('8.7.', 2), ('Predefined', 1), ('9.', 2), ('Classes', 4), ('9.1.', 2), ('A', 8), ('Word', 1), ('About', 1), ('Names', 2), ('9.2.', 2), ('Scopes', 1), ('Namespaces', 1), ('9.3.', 2), ('Look', 1), ('at', 1), ('9.3.1.', 1), ('Class', 5), ('Definition', 1), ('9.3.2.', 1), ('9.3.3.', 1), ('Instance', 1), ('9.3.4.', 1), ('Method', 1), ('9.4.', 2), ('Random', 2), ('Remarks', 1), ('9.5.', 2), ('Inheritance', 2), ('9.5.1.', 1), ('9.6.', 2), ('Private', 1), ('Variables', 1), ('Class-local', 1), ('9.7.', 2), ('Odds', 1), ('Ends', 1), ('9.8.', 2), ('Are', 1), ('Too', 1), ('9.9.', 2), ('Iterators', 1), ('9.10.', 1), ('Generators', 1), ('9.11.', 1), ('Generator', 1), ('10.', 2), ('Brief', 2), ('Tour', 2), ('Library', 3), ('10.1.', 2), ('Operating', 3), ('System', 3), ('Interface', 7), ('10.2.', 2), ('Wildcards', 1), ('10.3.', 2), ('Command', 1), ('Line', 2), ('10.4.', 2), ('Redirection', 1), ('Program', 2), ('Termination', 1), ('10.5.', 2), ('String', 3), ('Pattern', 1), ('Matching', 1), ('10.6.', 2), ('Mathematics', 1), ('10.7.', 2), ('Internet', 5), ('Access', 11), ('10.8.', 2), ('Dates', 1), ('Times', 1), ('10.9.', 2), ('Compression', 4), ('10.10.', 2), ('Performance', 1), ('Measurement', 1), ('10.11.', 2), ('Quality', 1), ('10.12.', 2), ('Batteries', 1), ('Included', 1), ('11.', 2), ('-', 291), ('Part', 1), ('II', 1), ('11.1.', 2), ('11.2.', 2), ('Templating', 1), ('11.3.', 2), ('Working', 2), ('Binary', 1), ('Record', 1), ('Layouts', 1), ('11.4.', 2), ('Multi-threading', 1), ('11.5.', 2), ('Logging', 4), ('11.6.', 2), ('Weak', 2), ('11.7.', 2), ('11.8.', 2), ('Decimal', 2), ('Floating', 4), ('Point', 2), ('Arithmetic', 1), ('12.', 2), ('What', 1), ('Now-', 1), ('13.', 2), ('Editing', 2), ('History', 2), ('Substitution', 2), ('13.1.', 2), ('13.2.', 2), ('13.3.', 2), ('Key', 1), ('Bindings', 1), ('13.4.', 2), ('Alternatives', 1), ('14.', 2), ('Arithmetic:', 1), ('Issues', 1), ('Limitations', 2), ('14.1.', 2), ('Representation', 1), ('While', 1), ('describes', 3), ('exact', 1), ('semantics', 1), ('language,', 1), ('this', 1), ('reference', 1), ('manual', 1), ('that', 6), ('distributed', 1), ('Python.', 1), ('some', 2), ('optional', 2), ('components', 3), ('included', 1), ('distributions.', 1), ('very', 1), ('extensive,', 1), ('offering', 1), ('wide', 1), ('range', 1), ('facilities', 1), ('indicated', 1), ('by', 5), ('long', 1), ('table', 1), ('contents', 1), ('listed', 1), ('below.', 1), ('built-in', 2), ('(written', 1), ('C)', 1), ('provide', 2), ('access', 9), ('system', 7), ('functionality', 1), ('such', 1), ('file', 9), ('I/O', 3), ('would', 1), ('otherwise', 1), ('inaccessible', 1), ('programmers,', 1), ('well', 1), ('written', 1), ('standardized', 1), ('solutions', 1), ('problems', 1), ('occur', 1), ('everyday', 1), ('Some', 1), ('these', 1), ('explicitly', 1), ('designed', 1), ('encourage', 1), ('enhance', 1), ('portability', 1), ('abstracting', 1), ('away', 1), ('platform-specifics', 1), ('into', 2), ('platform-neutral', 1), ('APIs.', 1), ('installers', 1), ('Windows', 4), ('platform', 2), ('usually', 1), ('includes', 1), ('entire', 2), ('often', 1), ('include', 1), ('components.', 2), ('Unix-like', 1), ('operating', 3), ('systems', 3), ('normally', 1), ('provided', 2), ('collection', 2), ('packages,', 1), ('necessary', 1), ('use', 1), ('packaging', 1), ('tools', 2), ('obtain', 1), ('In', 1), ('addition', 1), ('library,', 1), ('there', 1), ('growing', 1), ('thousand', 1), ('(from', 1), ('individual', 1), ('packages', 2), ('frameworks),', 1), ('Index.', 1), ('Built-in', 7), ('Non-essential', 1), ('Constants', 10), ('added', 1), ('module', 8), ('Truth', 1), ('Value', 1), ('Testing', 2), ('Boolean', 1), ('Operations', 1), ('and,', 1), ('or,', 1), ('Comparisons', 2), ('Numeric', 3), ('int,', 1), ('float,', 1), ('long,', 1), ('complex', 2), ('Iterator', 1), ('Sequence', 1), ('str,', 1), ('unicode,', 1), ('list,', 1), ('tuple,', 1), ('bytearray,', 1), ('buffer,', 1), ('xrange', 1), ('Set', 2), ('set,', 1), ('frozenset', 1), ('Mapping', 1), ('dict', 1), ('5.9.', 1), ('5.10.', 1), ('memoryview', 1), ('type', 3), ('5.11.', 1), ('Context', 1), ('Manager', 2), ('5.12.', 1), ('5.13.', 1), ('Special', 1), ('Attributes', 1), ('Exception', 1), ('hierarchy', 1), ('Services', 12), ('Common', 3), ('operations', 5), ('re', 1), ('Regular', 1), ('expression', 1), ('7.3.', 1), ('struct', 1), ('Interpret', 1), ('strings', 2), ('packed', 1), ('7.4.', 1), ('difflib', 1), ('Helpers', 1), ('computing', 1), ('deltas', 1), ('7.5.', 1), ('StringIO', 2), ('Read', 8), ('7.6.', 1), ('cStringIO', 1), ('Faster', 1), ('version', 1), ('7.7.', 1), ('textwrap', 1), ('Text', 3), ('wrapping', 1), ('filling', 1), ('7.8.', 1), ('codecs', 1), ('Codec', 1), ('registry', 2), ('base', 3), ('classes', 4), ('7.9.', 1), ('unicodedata', 1), ('Database', 1), ('7.10.', 1), ('stringprep', 1), ('Preparation', 1), ('7.11.', 1), ('fpformat', 1), ('point', 4), ('conversions', 2), ('datetime', 1), ('Basic', 4), ('date', 1), ('time', 3), ('calendar', 1), ('General', 1), ('calendar-related', 1), ('collections', 2), ('High-performance', 1), ('container', 1), ('datatypes', 1), ('heapq', 1), ('Heap', 1), ('queue', 2), ('algorithm', 4), ('bisect', 1), ('Array', 1), ('bisection', 1), ('array', 1), ('Efficient', 1), ('arrays', 1), ('numeric', 1), ('values', 1), ('sets', 1), ('Unordered', 1), ('unique', 1), ('elements', 1), ('8.8.', 1), ('sched', 1), ('Event', 1), ('scheduler', 1), ('8.9.', 1), ('mutex', 1), ('Mutual', 1), ('exclusion', 1), ('support', 8), ('8.10.', 1), ('Queue', 1), ('synchronized', 1), ('class', 2), ('8.11.', 1), ('weakref', 1), ('references', 1), ('8.12.', 1), ('UserDict', 1), ('wrapper', 4), ('dictionary', 1), ('8.13.', 1), ('UserList', 1), ('list', 1), ('8.14.', 1), ('UserString', 1), ('8.15.', 1), ('8.16.', 1), ('Creation', 1), ('runtime', 2), ('internal', 1), ('8.17.', 1), ('copy', 2), ('Shallow', 1), ('deep', 1), ('8.18.', 1), ('pprint', 1), ('pretty', 1), ('printer', 1), ('8.19.', 1), ('repr', 1), ('Alternate', 1), ('repr()', 1), ('implementation', 3), ('Mathematical', 3), ('numbers', 4), ('abstract', 1), ('math', 1), ('cmath', 1), ('decimal', 1), ('fixed', 1), ('floating', 1), ('arithmetic', 1), ('fractions', 1), ('Rational', 1), ('random', 1), ('Generate', 4), ('pseudo-random', 1), ('itertools', 1), ('creating', 1), ('iterators', 1), ('looping', 1), ('functools', 1), ('Higher-order', 1), ('operator', 1), ('operators', 1), ('Directory', 2), ('os.path', 1), ('pathname', 2), ('manipulations', 1), ('fileinput', 1), ('Iterate', 1), ('over', 1), ('lines', 2), ('multiple', 1), ('input', 3), ('streams', 3), ('stat', 1), ('Interpreting', 1), ('stat()', 1), ('results', 1), ('statvfs', 1), ('os.statvfs()', 1), ('filecmp', 1), ('tempfile', 1), ('temporary', 1), ('directories', 1), ('glob', 1), ('Unix', 5), ('style', 2), ('pattern', 2), ('expansion', 1), ('fnmatch', 1), ('filename', 1), ('matching', 1), ('linecache', 1), ('text', 1), ('shutil', 1), ('High-level', 1), ('dircache', 1), ('Cached', 1), ('directory', 1), ('listings', 1), ('macpath', 1), ('Mac', 7), ('OS', 7), ('9', 1), ('path', 1), ('manipulation', 2), ('Persistence', 1), ('pickle', 4), ('object', 3), ('serialization', 2), ('cPickle', 1), ('faster', 1), ('copy_reg', 1), ('Register', 1), ('shelve', 1), ('persistence', 1), ('marshal', 1), ('Internal', 1), ('anydbm', 1), ('Generic', 4), ('DBM-style', 2), ('databases', 2), ('whichdb', 1), ('Guess', 1), ('which', 1), ('DBM', 2), ('created', 1), ('database', 5), ('dbm', 2), ('Simple', 5), ('“database”', 1), ('interface', 14), ('11.9.', 1), ('gdbm', 1), ('GNU’s', 1), ('reinterpretation', 1), ('11.10.', 1), ('dbhash', 1), ('BSD', 1), ('11.11.', 1), ('bsddb', 1), ('Berkeley', 1), ('DB', 1), ('11.12.', 1), ('dumbdbm', 1), ('Portable', 2), ('11.13.', 1), ('sqlite3', 1), ('DB-API', 1), ('2.0', 1), ('SQLite', 1), ('Archiving', 1), ('12.1.', 1), ('zlib', 1), ('compatible', 2), ('gzip', 3), ('12.2.', 1), ('Support', 7), ('12.3.', 1), ('bz2', 1), ('bzip2', 1), ('12.4.', 1), ('zipfile', 1), ('Work', 1), ('ZIP', 1), ('archives', 2), ('12.5.', 1), ('tarfile', 1), ('tar', 1), ('archive', 1), ('Formats', 1), ('csv', 1), ('CSV', 1), ('ConfigParser', 1), ('Configuration', 1), ('parser', 6), ('robotparser', 1), ('Parser', 3), ('robots.txt', 1), ('netrc', 2), ('processing', 2), ('13.5.', 1), ('xdrlib', 1), ('Encode', 4), ('decode', 4), ('XDR', 1), ('13.6.', 1), ('plistlib', 1), ('parse', 4), ('X', 3), ('.plist', 1), ('Cryptographic', 1), ('hashlib', 1), ('Secure', 1), ('hashes', 1), ('message', 3), ('digests', 1), ('14.2.', 1), ('hmac', 1), ('Keyed-Hashing', 1), ('Message', 1), ('Authentication', 1), ('14.3.', 1), ('md5', 1), ('MD5', 1), ('digest', 2), ('14.4.', 1), ('sha', 1), ('SHA-1', 1), ('15.', 1), ('15.1.', 1), ('os', 1), ('Miscellaneous', 3), ('interfaces', 2), ('15.2.', 1), ('io', 1), ('Core', 1), ('working', 1), ('15.3.', 1), ('Time', 1), ('15.4.', 1), ('argparse', 1), ('command-line', 1), ('options,', 1), ('arguments', 1), ('sub-commands', 1), ('15.5.', 1), ('optparse', 1), ('command', 3), ('line', 2), ('options', 2), ('15.6.', 1), ('getopt', 1), ('C-style', 1), ('15.7.', 1), ('logging', 2), ('facility', 1), ('15.8.', 1), ('logging.config', 1), ('configuration', 4), ('15.9.', 1), ('logging.handlers', 1), ('handlers', 4), ('15.10.', 1), ('getpass', 1), ('password', 3), ('15.11.', 1), ('curses', 3), ('Terminal', 2), ('handling', 5), ('character-cell', 1), ('displays', 1), ('15.12.', 1), ('curses.textpad', 1), ('widget', 1), ('15.13.', 1), ('curses.ascii', 1), ('Utilities', 5), ('ASCII', 2), ('characters', 1), ('15.14.', 1), ('curses.panel', 1), ('panel', 1), ('stack', 2), ('15.15.', 1), ('underlying', 1), ('platform’s', 1), ('identifying', 1), ('15.16.', 1), ('errno', 2), ('symbols', 1), ('15.17.', 1), ('ctypes', 1), ('foreign', 1), ('function', 2), ('16.', 1), ('Optional', 1), ('16.1.', 1), ('select', 1), ('Waiting', 1), ('completion', 1), ('16.2.', 1), ('threading', 3), ('Higher-level', 1), ('16.3.', 1), ('thread', 2), ('threads', 1), ('control', 5), ('16.4.', 1), ('dummy_threading', 1), ('Drop-in', 2), ('replacement', 2), ('16.5.', 1), ('dummy_thread', 1), ('16.6.', 1), ('multiprocessing', 1), ('Process-based', 1), ('“threading”', 1), ('16.7.', 1), ('mmap', 1), ('Memory-mapped', 1), ('16.8.', 1), ('readline', 3), ('GNU', 2), ('16.9.', 1), ('rlcompleter', 1), ('Completion', 1), ('17.', 1), ('Interprocess', 1), ('Communication', 1), ('Networking', 1), ('17.1.', 1), ('subprocess', 1), ('Subprocess', 1), ('management', 2), ('17.2.', 1), ('socket', 4), ('Low-level', 1), ('networking', 1), ('17.3.', 1), ('ssl', 1), ('TLS/SSL', 1), ('17.4.', 1), ('signal', 1), ('asynchronous', 1), ('events', 1), ('17.5.', 1), ('popen2', 1), ('Subprocesses', 1), ('accessible', 1), ('17.6.', 1), ('asyncore', 1), ('Asynchronous', 2), ('handler', 4), ('17.7.', 1), ('asynchat', 1), ('command/response', 1), ('18.', 1), ('18.1.', 1), ('email', 2), ('MIME', 6), ('package', 3), ('18.2.', 1), ('JSON', 1), ('encoder', 1), ('decoder', 1), ('18.3.', 1), ('mailcap', 1), ('Mailcap', 1), ('18.4.', 1), ('mailbox', 1), ('Manipulate', 3), ('mailboxes', 2), ('formats', 1), ('18.5.', 1), ('mhlib', 1), ('MH', 1), ('18.6.', 1), ('mimetools', 1), ('parsing', 2), ('messages', 2), ('18.7.', 1), ('mimetypes', 1), ('Map', 1), ('filenames', 1), ('18.8.', 1), ('MimeWriter', 1), ('writer', 1), ('18.9.', 1), ('mimify', 1), ('mail', 2), ('18.10.', 1), ('multifile', 1), ('containing', 1), ('distinct', 1), ('parts', 1), ('18.11.', 1), ('rfc822', 1), ('Parse', 2), ('RFC', 3), ('2822', 1), ('headers', 1), ('18.12.', 1), ('base64', 1), ('3548:', 1), ('Base16,', 1), ('Base32,', 1), ('Base64', 1), ('Encodings', 1), ('18.13.', 1), ('binhex', 1), ('binhex4', 1), ('18.14.', 1), ('binascii', 1), ('Convert', 1), ('between', 3), ('18.15.', 1), ('quopri', 1), ('quoted-printable', 1), ('18.16.', 1), ('uu', 1), ('uuencode', 1), ('19.', 1), ('Structured', 1), ('Markup', 1), ('Processing', 2), ('19.1.', 1), ('HTMLParser', 1), ('HTML', 3), ('XHTML', 1), ('19.2.', 1), ('sgmllib', 1), ('SGML', 1), ('19.3.', 1), ('htmllib', 1), ('documents', 1), ('19.4.', 1), ('htmlentitydefs', 1), ('Definitions', 1), ('general', 1), ('entities', 1), ('19.5.', 1), ('XML', 5), ('19.6.', 1), ('vulnerabilities', 1), ('19.7.', 1), ('xml.etree.ElementTree', 1), ('ElementTree', 1), ('19.8.', 1), ('xml.dom', 1), ('Document', 1), ('Object', 1), ('Model', 1), ('19.9.', 1), ('xml.dom.minidom', 1), ('Minimal', 1), ('DOM', 2), ('19.10.', 1), ('xml.dom.pulldom', 1), ('building', 1), ('partial', 1), ('trees', 4), ('19.11.', 1), ('xml.sax', 1), ('SAX2', 1), ('parsers', 2), ('19.12.', 1), ('xml.sax.handler', 1), ('Base', 2), ('SAX', 2), ('19.13.', 1), ('xml.sax.saxutils', 1), ('19.14.', 1), ('xml.sax.xmlreader', 1), ('19.15.', 1), ('xml.parsers.expat', 1), ('Fast', 1), ('using', 1), ('Expat', 1), ('20.', 1), ('Protocols', 1), ('20.1.', 1), ('webbrowser', 1), ('Convenient', 1), ('Web-browser', 1), ('controller', 1), ('20.2.', 1), ('cgi', 1), ('Gateway', 1), ('20.3.', 1), ('cgitb', 1), ('Traceback', 1), ('manager', 1), ('CGI', 1), ('20.4.', 1), ('wsgiref', 1), ('WSGI', 1), ('Implementation', 1), ('20.5.', 1), ('urllib', 1), ('Open', 2), ('arbitrary', 1), ('resources', 1), ('URL', 1), ('20.6.', 1), ('urllib2', 1), ('extensible', 1), ('opening', 1), ('URLs', 2), ('20.7.', 1), ('httplib', 1), ('HTTP', 6), ('protocol', 6), ('client', 9), ('20.8.', 1), ('ftplib', 1), ('FTP', 1), ('20.9.', 1), ('poplib', 1), ('POP3', 1), ('20.10.', 1), ('imaplib', 1), ('IMAP4', 1), ('20.11.', 1), ('nntplib', 1), ('NNTP', 1), ('20.12.', 1), ('smtplib', 1), ('SMTP', 2), ('20.13.', 1), ('smtpd', 1), ('Server', 1), ('20.14.', 1), ('telnetlib', 1), ('Telnet', 1), ('20.15.', 1), ('uuid', 1), ('UUID', 1), ('according', 1), ('4122', 1), ('20.16.', 1), ('urlparse', 1), ('20.17.', 1), ('SocketServer', 1), ('framework', 5), ('network', 1), ('servers', 1), ('20.18.', 1), ('BaseHTTPServer', 1), ('server', 4), ('20.19.', 1), ('SimpleHTTPServer', 1), ('request', 2), ('20.20.', 1), ('CGIHTTPServer', 1), ('CGI-capable', 1), ('20.21.', 1), ('cookielib', 1), ('Cookie', 2), ('clients', 1), ('20.22.', 1), ('state', 1), ('20.23.', 1), ('xmlrpclib', 1), ('XML-RPC', 3), ('20.24.', 1), ('SimpleXMLRPCServer', 1), ('20.25.', 1), ('DocXMLRPCServer', 1), ('Self-documenting', 1), ('21.', 1), ('Multimedia', 2), ('21.1.', 1), ('audioop', 1), ('raw', 2), ('audio', 3), ('21.2.', 1), ('imageop', 1), ('image', 2), ('21.3.', 1), ('aifc', 1), ('AIFF', 1), ('AIFC', 1), ('21.4.', 1), ('sunau', 1), ('Sun', 2), ('AU', 1), ('21.5.', 1), ('wave', 1), ('WAV', 1), ('21.6.', 1), ('chunk', 1), ('IFF', 1), ('chunked', 1), ('21.7.', 1), ('colorsys', 1), ('Conversions', 1), ('color', 1), ('21.8.', 1), ('imghdr', 1), ('Determine', 2), ('21.9.', 1), ('sndhdr', 1), ('sound', 1), ('21.10.', 1), ('ossaudiodev', 1), ('OSS-compatible', 1), ('devices', 1), ('22.', 1), ('Internationalization', 2), ('22.1.', 1), ('gettext', 1), ('Multilingual', 1), ('internationalization', 1), ('services', 3), ('22.2.', 1), ('locale', 1), ('23.', 1), ('Frameworks', 1), ('23.1.', 1), ('cmd', 1), ('line-oriented', 1), ('interpreters', 1), ('23.2.', 1), ('shlex', 1), ('lexical', 1), ('analysis', 1), ('24.', 1), ('Graphical', 2), ('User', 2), ('Interfaces', 1), ('Tk', 4), ('24.1.', 1), ('Tkinter', 1), ('Tcl/Tk', 1), ('24.2.', 1), ('ttk', 1), ('themed', 1), ('widgets', 2), ('24.3.', 1), ('Tix', 1), ('Extension', 2), ('24.4.', 1), ('ScrolledText', 1), ('Scrolled', 1), ('Widget', 1), ('24.5.', 1), ('turtle', 1), ('Turtle', 1), ('graphics', 1), ('24.6.', 1), ('IDLE', 1), ('24.7.', 1), ('25.', 1), ('Development', 1), ('25.1.', 1), ('pydoc', 1), ('generator', 1), ('online', 1), ('help', 1), ('25.2.', 1), ('doctest', 1), ('Test', 1), ('interactive', 1), ('25.3.', 1), ('unittest', 1), ('Unit', 1), ('testing', 1), ('25.4.', 1), ('2to3', 1), ('Automated', 1), ('2', 1), ('3', 2), ('code', 4), ('translation', 1), ('25.5.', 1), ('test', 1), ('Regression', 1), ('tests', 2), ('25.6.', 1), ('test.test_support', 1), ('Utility', 1), ('26.', 1), ('Debugging', 1), ('Profiling', 1), ('26.1.', 1), ('bdb', 1), ('Debugger', 3), ('26.2.', 1), ('pdb', 1), ('26.3.', 1), ('Commands', 1), ('26.4.', 1), ('Profilers', 1), ('26.5.', 1), ('hotshot', 1), ('High', 1), ('performance', 1), ('profiler', 1), ('26.6.', 1), ('timeit', 1), ('Measure', 1), ('execution', 3), ('small', 1), ('snippets', 1), ('26.7.', 1), ('trace', 1), ('Trace', 1), ('track', 1), ('27.', 1), ('Runtime', 1), ('27.1.', 1), ('sys', 1), ('System-specific', 1), ('parameters', 1), ('27.2.', 1), ('sysconfig', 1), ('Provide', 1), ('information', 2), ('27.3.', 1), ('__builtin__', 1), ('27.4.', 1), ('future_builtins', 1), ('builtins', 1), ('27.5.', 1), ('__main__', 1), ('Top-level', 1), ('script', 2), ('environment', 1), ('27.6.', 1), ('warnings', 1), ('Warning', 1), ('27.7.', 1), ('contextlib', 1), ('with-statement', 1), ('contexts', 1), ('27.8.', 1), ('abc', 1), ('Abstract', 3), ('27.9.', 1), ('atexit', 1), ('Exit', 1), ('27.10.', 1), ('traceback', 2), ('Print', 1), ('retrieve', 1), ('27.11.', 1), ('__future__', 1), ('Future', 1), ('definitions', 1), ('27.12.', 1), ('gc', 1), ('Garbage', 1), ('Collector', 1), ('27.13.', 1), ('inspect', 1), ('Inspect', 1), ('live', 1), ('27.14.', 1), ('Site-specific', 1), ('hook', 2), ('27.15.', 1), ('user', 2), ('User-specific', 1), ('27.16.', 1), ('fpectl', 1), ('exception', 1), ('27.17.', 1), ('distutils', 1), ('Building', 1), ('installing', 1), ('28.', 1), ('Custom', 1), ('Interpreters', 1), ('28.1.', 1), ('28.2.', 1), ('codeop', 1), ('Compile', 2), ('29.', 1), ('Restricted', 2), ('Execution', 1), ('29.1.', 1), ('rexec', 1), ('29.2.', 1), ('Bastion', 1), ('Restricting', 1), ('30.', 1), ('30.1.', 1), ('imp', 1), ('import', 1), ('internals', 1), ('30.2.', 1), ('importlib', 1), ('Convenience', 2), ('wrappers', 1), ('__import__()', 1), ('30.3.', 1), ('imputil', 1), ('Import', 2), ('utilities', 3), ('30.4.', 1), ('zipimport', 1), ('Zip', 1), ('30.5.', 1), ('pkgutil', 1), ('utility', 1), ('30.6.', 1), ('modulefinder', 1), ('Find', 1), ('30.7.', 1), ('runpy', 1), ('Locating', 1), ('executing', 1), ('31.', 1), ('31.1.', 1), ('31.2.', 1), ('ast', 1), ('Trees', 1), ('31.3.', 1), ('symtable', 1), ('compiler’s', 1), ('symbol', 2), ('tables', 1), ('31.4.', 1), ('31.5.', 1), ('token', 1), ('31.6.', 1), ('keyword', 1), ('keywords', 1), ('31.7.', 1), ('tokenize', 1), ('Tokenizer', 1), ('31.8.', 1), ('tabnanny', 1), ('Detection', 1), ('ambiguous', 1), ('indentation', 1), ('31.9.', 1), ('pyclbr', 1), ('browser', 1), ('31.10.', 1), ('py_compile', 1), ('31.11.', 1), ('compileall', 1), ('Byte-compile', 1), ('libraries', 1), ('31.12.', 1), ('dis', 1), ('Disassembler', 1), ('bytecode', 1), ('31.13.', 1), ('pickletools', 1), ('developers', 1), ('32.', 1), ('compiler', 1), ('32.1.', 1), ('32.2.', 1), ('32.3.', 1), ('32.4.', 1), ('Visitors', 1), ('Walk', 1), ('ASTs', 1), ('32.5.', 1), ('Bytecode', 1), ('Generation', 1), ('33.', 1), ('33.1.', 1), ('formatter', 1), ('output', 1), ('34.', 1), ('MS', 2), ('Specific', 4), ('34.1.', 1), ('msilib', 1), ('Microsoft', 1), ('Installer', 1), ('34.2.', 1), ('msvcrt', 1), ('Useful', 1), ('routines', 3), ('VC++', 1), ('34.3.', 1), ('_winreg', 1), ('34.4.', 1), ('winsound', 1), ('Sound-playing', 1), ('35.', 1), ('35.1.', 1), ('posix', 1), ('common', 1), ('POSIX', 2), ('calls', 2), ('35.2.', 1), ('pwd', 1), ('35.3.', 1), ('spwd', 1), ('shadow', 1), ('35.4.', 1), ('grp', 1), ('group', 1), ('35.5.', 1), ('crypt', 1), ('check', 1), ('passwords', 1), ('35.6.', 1), ('dl', 1), ('Call', 1), ('shared', 1), ('35.7.', 1), ('termios', 1), ('tty', 2), ('35.8.', 1), ('35.9.', 1), ('pty', 1), ('Pseudo-terminal', 1), ('35.10.', 1), ('fcntl', 2), ('ioctl', 1), ('35.11.', 1), ('pipes', 1), ('shell', 1), ('pipelines', 1), ('35.12.', 1), ('posixfile', 1), ('File-like', 1), ('locking', 1), ('35.13.', 1), ('resource', 1), ('Resource', 1), ('usage', 1), ('35.14.', 1), ('nis', 1), ('Sun’s', 1), ('NIS', 1), ('(Yellow', 1), ('Pages)', 1), ('35.15.', 1), ('syslog', 2), ('35.16.', 1), ('commands', 2), ('running', 1), ('36.', 1), ('specific', 2), ('36.1.', 1), ('ic', 1), ('Config', 1), ('36.2.', 1), ('MacOS', 1), ('36.3.', 1), ('macostools', 1), ('36.4.', 1), ('findertools', 1), ('finder‘s', 1), ('Apple', 1), ('Events', 1), ('36.5.', 1), ('EasyDialogs', 1), ('Macintosh', 1), ('dialogs', 1), ('36.6.', 1), ('FrameWork', 1), ('36.7.', 1), ('autoGIL', 1), ('Global', 1), ('Lock', 1), ('event', 1), ('loops', 1), ('36.8.', 1), ('Toolbox', 1), ('36.9.', 1), ('ColorPicker', 1), ('Color', 1), ('selection', 1), ('dialog', 1), ('37.', 1), ('MacPython', 1), ('OSA', 3), ('37.1.', 1), ('gensuitemodule', 1), ('stub', 1), ('37.2.', 1), ('aetools', 1), ('37.3.', 1), ('aepack', 1), ('Conversion', 1), ('variables', 1), ('AppleEvent', 2), ('containers', 1), ('37.4.', 1), ('aetypes', 1), ('37.5.', 1), ('MiniAEFrame', 1), ('Scripting', 1), ('Architecture', 1), ('38.', 1), ('SGI', 4), ('IRIX', 1), ('38.1.', 1), ('al', 2), ('Audio', 1), ('38.2.', 1), ('AL', 1), ('38.3.', 1), ('cd', 1), ('CD-ROM', 1), ('38.4.', 1), ('fl', 2), ('FORMS', 2), ('graphical', 1), ('38.5.', 1), ('FL', 1), ('38.6.', 1), ('flp', 1), ('loading', 1), ('stored', 1), ('designs', 1), ('38.7.', 1), ('fm', 1), ('Font', 1), ('38.8.', 1), ('gl', 3), ('Graphics', 1), ('38.9.', 1), ('DEVICE', 1), ('38.10.', 1), ('GL', 1), ('38.11.', 1), ('imgfile', 1), ('imglib', 1), ('38.12.', 1), ('jpeg', 1), ('JPEG', 1), ('39.', 1), ('SunOS', 1), ('39.1.', 1), ('sunaudiodev', 2), ('hardware', 1), ('39.2.', 1), ('SUNAUDIODEV', 1), ('40.', 1), ('Undocumented', 2), ('40.1.', 1), ('useful', 1), ('40.2.', 1), ('Platform', 1), ('40.3.', 1), ('40.4.', 1), ('40.5.', 1), ('Obsolete', 1), ('40.6.', 1), ('SGI-specific', 1)])"
      ]
     },
     "execution_count": 1,
     "metadata": {},
     "output_type": "execute_result"
    }
   ],
   "source": [
    "file = open('c:/dev/document.txt')\n",
    "data = file.read().split()\n",
    "file.close()\n",
    "wordDict = {}\n",
    "for word in data:\n",
    "    wordDict[word] = data.count(word)\n",
    "wordDict.items()"
   ]
  },
  {
   "cell_type": "code",
   "execution_count": 14,
   "metadata": {},
   "outputs": [
    {
     "data": {
      "text/plain": [
       "[('-', 291), ('and', 83), ('for', 63), ('Python', 61), ('the', 42)]"
      ]
     },
     "execution_count": 14,
     "metadata": {},
     "output_type": "execute_result"
    }
   ],
   "source": [
    "import operator\n",
    "\n",
    "words = sorted(wordDict.items(), key = operator.itemgetter(1), reverse=True)\n",
    "words[:5]"
   ]
  }
 ],
 "metadata": {
  "kernelspec": {
   "display_name": "Python 3",
   "language": "python",
   "name": "python3"
  },
  "language_info": {
   "codemirror_mode": {
    "name": "ipython",
    "version": 3
   },
   "file_extension": ".py",
   "mimetype": "text/x-python",
   "name": "python",
   "nbconvert_exporter": "python",
   "pygments_lexer": "ipython3",
   "version": "3.7.4"
  }
 },
 "nbformat": 4,
 "nbformat_minor": 2
}
