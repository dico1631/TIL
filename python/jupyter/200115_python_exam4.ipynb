{
 "cells": [
  {
   "cell_type": "code",
   "execution_count": 4,
   "metadata": {},
   "outputs": [
    {
     "name": "stdout",
     "output_type": "stream",
     "text": [
      "Python is an easy to learn, powerful programming language. It has efficient high-level data structures and a simple but effective approach to object-oriented programming. Python’s elegant syntax and dynamic typing, together with its interpreted nature, make it an ideal language for scripting and rapid application development in many areas on most platforms.\n",
      "\n",
      "The Python interpreter and the extensive standard library are freely available in source or binary form for all major platforms from the Python Web site, http://www.python.org/, and may be freely distributed. The same site also contains distributions of and pointers to many free third party Python modules, programs and tools, and additional documentation.\n",
      "\n",
      "The Python interpreter is easily extended with new functions and data types implemented in C or C++ (or other languages callable from C). Python is also suitable as an extension language for customizable applications.\n",
      "\n",
      "This tutorial introduces the reader informally to the basic concepts and features of the Python language and system. It helps to have a Python interpreter handy for hands-on experience, but all examples are self-contained, so the tutorial can be read off-line as well.\n",
      "\n",
      "For a description of standard objects and modules, see The Python Standard Library. The Python Language Reference gives a more formal definition of the language. To write extensions in C or C++, read Extending and Embedding the Python Interpreter and Python/C API Reference Manual. There are also several books covering Python in depth.\n",
      "\n",
      "This tutorial does not attempt to be comprehensive and cover every single feature, or even every commonly used feature. Instead, it introduces many of Python’s most noteworthy features, and will give you a good idea of the language’s flavor and style. After reading it, you will be able to read and write Python modules and programs, and you will be ready to learn more about the various Python library modules described in The Python Standard Library.\n",
      "\n",
      "The Glossary is also worth going through.\n",
      "\n",
      "1. Whetting Your Appetite\n",
      "2. Using the Python Interpreter\n",
      "2.1. Invoking the Interpreter\n",
      "2.1.1. Argument Passing\n",
      "2.1.2. Interactive Mode\n",
      "2.2. The Interpreter and Its Environment\n",
      "2.2.1. Error Handling\n",
      "2.2.2. Executable Python Scripts\n",
      "2.2.3. Source Code Encoding\n",
      "2.2.4. The Interactive Startup File\n",
      "2.2.5. The Customization Modules\n",
      "3. An Informal Introduction to Python\n",
      "3.1. Using Python as a Calculator\n",
      "3.1.1. Numbers\n",
      "3.1.2. Strings\n",
      "3.1.3. Unicode Strings\n",
      "3.1.4. Lists\n",
      "3.2. First Steps Towards Programming\n",
      "4. More Control Flow Tools\n",
      "4.1. if Statements\n",
      "4.2. for Statements\n",
      "4.3. The range() Function\n",
      "4.4. break and continue Statements, and else Clauses on Loops\n",
      "4.5. pass Statements\n",
      "4.6. Defining Functions\n",
      "4.7. More on Defining Functions\n",
      "4.7.1. Default Argument Values\n",
      "4.7.2. Keyword Arguments\n",
      "4.7.3. Arbitrary Argument Lists\n",
      "4.7.4. Unpacking Argument Lists\n",
      "4.7.5. Lambda Expressions\n",
      "4.7.6. Documentation Strings\n",
      "4.8. Intermezzo: Coding Style\n",
      "5. Data Structures\n",
      "5.1. More on Lists\n",
      "5.1.1. Using Lists as Stacks\n",
      "5.1.2. Using Lists as Queues\n",
      "5.1.3. Functional Programming Tools\n",
      "5.1.4. List Comprehensions\n",
      "5.1.4.1. Nested List Comprehensions\n",
      "5.2. The del statement\n",
      "5.3. Tuples and Sequences\n",
      "5.4. Sets\n",
      "5.5. Dictionaries\n",
      "5.6. Looping Techniques\n",
      "5.7. More on Conditions\n",
      "5.8. Comparing Sequences and Other Types\n",
      "6. Modules\n",
      "6.1. More on Modules\n",
      "6.1.1. Executing modules as scripts\n",
      "6.1.2. The Module Search Path\n",
      "6.1.3. “Compiled” Python files\n",
      "6.2. Standard Modules\n",
      "6.3. The dir() Function\n",
      "6.4. Packages\n",
      "6.4.1. Importing * From a Package\n",
      "6.4.2. Intra-package References\n",
      "6.4.3. Packages in Multiple Directories\n",
      "7. Input and Output\n",
      "7.1. Fancier Output Formatting\n",
      "7.1.1. Old string formatting\n",
      "7.2. Reading and Writing Files\n",
      "7.2.1. Methods of File Objects\n",
      "7.2.2. Saving structured data with json\n",
      "8. Errors and Exceptions\n",
      "8.1. Syntax Errors\n",
      "8.2. Exceptions\n",
      "8.3. Handling Exceptions\n",
      "8.4. Raising Exceptions\n",
      "8.5. User-defined Exceptions\n",
      "8.6. Defining Clean-up Actions\n",
      "8.7. Predefined Clean-up Actions\n",
      "9. Classes\n",
      "9.1. A Word About Names and Objects\n",
      "9.2. Python Scopes and Namespaces\n",
      "9.3. A First Look at Classes\n",
      "9.3.1. Class Definition Syntax\n",
      "9.3.2. Class Objects\n",
      "9.3.3. Instance Objects\n",
      "9.3.4. Method Objects\n",
      "9.4. Random Remarks\n",
      "9.5. Inheritance\n",
      "9.5.1. Multiple Inheritance\n",
      "9.6. Private Variables and Class-local References\n",
      "9.7. Odds and Ends\n",
      "9.8. Exceptions Are Classes Too\n",
      "9.9. Iterators\n",
      "9.10. Generators\n",
      "9.11. Generator Expressions\n",
      "10. Brief Tour of the Standard Library\n",
      "10.1. Operating System Interface\n",
      "10.2. File Wildcards\n",
      "10.3. Command Line Arguments\n",
      "10.4. Error Output Redirection and Program Termination\n",
      "10.5. String Pattern Matching\n",
      "10.6. Mathematics\n",
      "10.7. Internet Access\n",
      "10.8. Dates and Times\n",
      "10.9. Data Compression\n",
      "10.10. Performance Measurement\n",
      "10.11. Quality Control\n",
      "10.12. Batteries Included\n",
      "11. Brief Tour of the Standard Library - Part II\n",
      "11.1. Output Formatting\n",
      "11.2. Templating\n",
      "11.3. Working with Binary Data Record Layouts\n",
      "11.4. Multi-threading\n",
      "11.5. Logging\n",
      "11.6. Weak References\n",
      "11.7. Tools for Working with Lists\n",
      "11.8. Decimal Floating Point Arithmetic\n",
      "12. What Now-\n",
      "13. Interactive Input Editing and History Substitution\n",
      "13.1. Line Editing\n",
      "13.2. History Substitution\n",
      "13.3. Key Bindings\n",
      "13.4. Alternatives to the Interactive Interpreter\n",
      "14. Floating Point Arithmetic: Issues and Limitations\n",
      "14.1. Representation Error\n",
      "\n",
      "While The Python Language Reference describes the exact syntax and semantics of the Python language, this library reference manual describes the standard library that is distributed with Python. It also describes some of the optional components that are commonly included in Python distributions.\n",
      "\n",
      "Python’s standard library is very extensive, offering a wide range of facilities as indicated by the long table of contents listed below. The library contains built-in modules (written in C) that provide access to system functionality such as file I/O that would otherwise be inaccessible to Python programmers, as well as modules written in Python that provide standardized solutions for many problems that occur in everyday programming. Some of these modules are explicitly designed to encourage and enhance the portability of Python programs by abstracting away platform-specifics into platform-neutral APIs.\n",
      "\n",
      "The Python installers for the Windows platform usually includes the entire standard library and often also include many additional components. For Unix-like operating systems Python is normally provided as a collection of packages, so it may be necessary to use the packaging tools provided with the operating system to obtain some or all of the optional components.\n",
      "\n",
      "In addition to the standard library, there is a growing collection of several thousand components (from individual programs and modules to packages and entire application development frameworks), available from the Python Package Index.\n",
      "\n",
      "1. Introduction\n",
      "2. Built-in Functions\n",
      "3. Non-essential Built-in Functions\n",
      "4. Built-in Constants\n",
      "4.1. Constants added by the site module\n",
      "5. Built-in Types\n",
      "5.1. Truth Value Testing\n",
      "5.2. Boolean Operations - and, or, not\n",
      "5.3. Comparisons\n",
      "5.4. Numeric Types - int, float, long, complex\n",
      "5.5. Iterator Types\n",
      "5.6. Sequence Types - str, unicode, list, tuple, bytearray, buffer, xrange\n",
      "5.7. Set Types - set, frozenset\n",
      "5.8. Mapping Types - dict\n",
      "5.9. File Objects\n",
      "5.10. memoryview type\n",
      "5.11. Context Manager Types\n",
      "5.12. Other Built-in Types\n",
      "5.13. Special Attributes\n",
      "6. Built-in Exceptions\n",
      "6.1. Exception hierarchy\n",
      "7. String Services\n",
      "7.1. string - Common string operations\n",
      "7.2. re - Regular expression operations\n",
      "7.3. struct - Interpret strings as packed binary data\n",
      "7.4. difflib - Helpers for computing deltas\n",
      "7.5. StringIO - Read and write strings as files\n",
      "7.6. cStringIO - Faster version of StringIO\n",
      "7.7. textwrap - Text wrapping and filling\n",
      "7.8. codecs - Codec registry and base classes\n",
      "7.9. unicodedata - Unicode Database\n",
      "7.10. stringprep - Internet String Preparation\n",
      "7.11. fpformat - Floating point conversions\n",
      "8. Data Types\n",
      "8.1. datetime - Basic date and time types\n",
      "8.2. calendar - General calendar-related functions\n",
      "8.3. collections - High-performance container datatypes\n",
      "8.4. heapq - Heap queue algorithm\n",
      "8.5. bisect - Array bisection algorithm\n",
      "8.6. array - Efficient arrays of numeric values\n",
      "8.7. sets - Unordered collections of unique elements\n",
      "8.8. sched - Event scheduler\n",
      "8.9. mutex - Mutual exclusion support\n",
      "8.10. Queue - A synchronized queue class\n",
      "8.11. weakref - Weak references\n",
      "8.12. UserDict - Class wrapper for dictionary objects\n",
      "8.13. UserList - Class wrapper for list objects\n",
      "8.14. UserString - Class wrapper for string objects\n",
      "8.15. types - Names for built-in types\n",
      "8.16. new - Creation of runtime internal objects\n",
      "8.17. copy - Shallow and deep copy operations\n",
      "8.18. pprint - Data pretty printer\n",
      "8.19. repr - Alternate repr() implementation\n",
      "9. Numeric and Mathematical Modules\n",
      "9.1. numbers - Numeric abstract base classes\n",
      "9.2. math - Mathematical functions\n",
      "9.3. cmath - Mathematical functions for complex numbers\n",
      "9.4. decimal - Decimal fixed point and floating point arithmetic\n",
      "9.5. fractions - Rational numbers\n",
      "9.6. random - Generate pseudo-random numbers\n",
      "9.7. itertools - Functions creating iterators for efficient looping\n",
      "9.8. functools - Higher-order functions and operations on callable objects\n",
      "9.9. operator - Standard operators as functions\n",
      "10. File and Directory Access\n",
      "10.1. os.path - Common pathname manipulations\n",
      "10.2. fileinput - Iterate over lines from multiple input streams\n",
      "10.3. stat - Interpreting stat() results\n",
      "10.4. statvfs - Constants used with os.statvfs()\n",
      "10.5. filecmp - File and Directory Comparisons\n",
      "10.6. tempfile - Generate temporary files and directories\n",
      "10.7. glob - Unix style pathname pattern expansion\n",
      "10.8. fnmatch - Unix filename pattern matching\n",
      "10.9. linecache - Random access to text lines\n",
      "10.10. shutil - High-level file operations\n",
      "10.11. dircache - Cached directory listings\n",
      "10.12. macpath - Mac OS 9 path manipulation functions\n",
      "11. Data Persistence\n",
      "11.1. pickle - Python object serialization\n",
      "11.2. cPickle - A faster pickle\n",
      "11.3. copy_reg - Register pickle support functions\n",
      "11.4. shelve - Python object persistence\n",
      "11.5. marshal - Internal Python object serialization\n",
      "11.6. anydbm - Generic access to DBM-style databases\n",
      "11.7. whichdb - Guess which DBM module created a database\n",
      "11.8. dbm - Simple “database” interface\n",
      "11.9. gdbm - GNU’s reinterpretation of dbm\n",
      "11.10. dbhash - DBM-style interface to the BSD database library\n",
      "11.11. bsddb - Interface to Berkeley DB library\n",
      "11.12. dumbdbm - Portable DBM implementation\n",
      "11.13. sqlite3 - DB-API 2.0 interface for SQLite databases\n",
      "12. Data Compression and Archiving\n",
      "12.1. zlib - Compression compatible with gzip\n",
      "12.2. gzip - Support for gzip files\n",
      "12.3. bz2 - Compression compatible with bzip2\n",
      "12.4. zipfile - Work with ZIP archives\n",
      "12.5. tarfile - Read and write tar archive files\n",
      "13. File Formats\n",
      "13.1. csv - CSV File Reading and Writing\n",
      "13.2. ConfigParser - Configuration file parser\n",
      "13.3. robotparser - Parser for robots.txt\n",
      "13.4. netrc - netrc file processing\n",
      "13.5. xdrlib - Encode and decode XDR data\n",
      "13.6. plistlib - Generate and parse Mac OS X .plist files\n",
      "14. Cryptographic Services\n",
      "14.1. hashlib - Secure hashes and message digests\n",
      "14.2. hmac - Keyed-Hashing for Message Authentication\n",
      "14.3. md5 - MD5 message digest algorithm\n",
      "14.4. sha - SHA-1 message digest algorithm\n",
      "15. Generic Operating System Services\n",
      "15.1. os - Miscellaneous operating system interfaces\n",
      "15.2. io - Core tools for working with streams\n",
      "15.3. time - Time access and conversions\n",
      "15.4. argparse - Parser for command-line options, arguments and sub-commands\n",
      "15.5. optparse - Parser for command line options\n",
      "15.6. getopt - C-style parser for command line options\n",
      "15.7. logging - Logging facility for Python\n",
      "15.8. logging.config - Logging configuration\n",
      "15.9. logging.handlers - Logging handlers\n",
      "15.10. getpass - Portable password input\n",
      "15.11. curses - Terminal handling for character-cell displays\n",
      "15.12. curses.textpad - Text input widget for curses programs\n",
      "15.13. curses.ascii - Utilities for ASCII characters\n",
      "15.14. curses.panel - A panel stack extension for curses\n",
      "15.15. platform - Access to underlying platform’s identifying data\n",
      "15.16. errno - Standard errno system symbols\n",
      "15.17. ctypes - A foreign function library for Python\n",
      "16. Optional Operating System Services\n",
      "16.1. select - Waiting for I/O completion\n",
      "16.2. threading - Higher-level threading interface\n",
      "16.3. thread - Multiple threads of control\n",
      "16.4. dummy_threading - Drop-in replacement for the threading module\n",
      "16.5. dummy_thread - Drop-in replacement for the thread module\n",
      "16.6. multiprocessing - Process-based “threading” interface\n",
      "16.7. mmap - Memory-mapped file support\n",
      "16.8. readline - GNU readline interface\n",
      "16.9. rlcompleter - Completion function for GNU readline\n",
      "17. Interprocess Communication and Networking\n",
      "17.1. subprocess - Subprocess management\n",
      "17.2. socket - Low-level networking interface\n",
      "17.3. ssl - TLS/SSL wrapper for socket objects\n",
      "17.4. signal - Set handlers for asynchronous events\n",
      "17.5. popen2 - Subprocesses with accessible I/O streams\n",
      "17.6. asyncore - Asynchronous socket handler\n",
      "17.7. asynchat - Asynchronous socket command/response handler\n",
      "18. Internet Data Handling\n",
      "18.1. email - An email and MIME handling package\n",
      "18.2. json - JSON encoder and decoder\n",
      "18.3. mailcap - Mailcap file handling\n",
      "18.4. mailbox - Manipulate mailboxes in various formats\n",
      "18.5. mhlib - Access to MH mailboxes\n",
      "18.6. mimetools - Tools for parsing MIME messages\n",
      "18.7. mimetypes - Map filenames to MIME types\n",
      "18.8. MimeWriter - Generic MIME file writer\n",
      "18.9. mimify - MIME processing of mail messages\n",
      "18.10. multifile - Support for files containing distinct parts\n",
      "18.11. rfc822 - Parse RFC 2822 mail headers\n",
      "18.12. base64 - RFC 3548: Base16, Base32, Base64 Data Encodings\n",
      "18.13. binhex - Encode and decode binhex4 files\n",
      "18.14. binascii - Convert between binary and ASCII\n",
      "18.15. quopri - Encode and decode MIME quoted-printable data\n",
      "18.16. uu - Encode and decode uuencode files\n",
      "19. Structured Markup Processing Tools\n",
      "19.1. HTMLParser - Simple HTML and XHTML parser\n",
      "19.2. sgmllib - Simple SGML parser\n",
      "19.3. htmllib - A parser for HTML documents\n",
      "19.4. htmlentitydefs - Definitions of HTML general entities\n",
      "19.5. XML Processing Modules\n",
      "19.6. XML vulnerabilities\n",
      "19.7. xml.etree.ElementTree - The ElementTree XML API\n",
      "19.8. xml.dom - The Document Object Model API\n",
      "19.9. xml.dom.minidom - Minimal DOM implementation\n",
      "19.10. xml.dom.pulldom - Support for building partial DOM trees\n",
      "19.11. xml.sax - Support for SAX2 parsers\n",
      "19.12. xml.sax.handler - Base classes for SAX handlers\n",
      "19.13. xml.sax.saxutils - SAX Utilities\n",
      "19.14. xml.sax.xmlreader - Interface for XML parsers\n",
      "19.15. xml.parsers.expat - Fast XML parsing using Expat\n",
      "20. Internet Protocols and Support\n",
      "20.1. webbrowser - Convenient Web-browser controller\n",
      "20.2. cgi - Common Gateway Interface support\n",
      "20.3. cgitb - Traceback manager for CGI scripts\n",
      "20.4. wsgiref - WSGI Utilities and Reference Implementation\n",
      "20.5. urllib - Open arbitrary resources by URL\n",
      "20.6. urllib2 - extensible library for opening URLs\n",
      "20.7. httplib - HTTP protocol client\n",
      "20.8. ftplib - FTP protocol client\n",
      "20.9. poplib - POP3 protocol client\n",
      "20.10. imaplib - IMAP4 protocol client\n",
      "20.11. nntplib - NNTP protocol client\n",
      "20.12. smtplib - SMTP protocol client\n",
      "20.13. smtpd - SMTP Server\n",
      "20.14. telnetlib - Telnet client\n",
      "20.15. uuid - UUID objects according to RFC 4122\n",
      "20.16. urlparse - Parse URLs into components\n",
      "20.17. SocketServer - A framework for network servers\n",
      "20.18. BaseHTTPServer - Basic HTTP server\n",
      "20.19. SimpleHTTPServer - Simple HTTP request handler\n",
      "20.20. CGIHTTPServer - CGI-capable HTTP request handler\n",
      "20.21. cookielib - Cookie handling for HTTP clients\n",
      "20.22. Cookie - HTTP state management\n",
      "20.23. xmlrpclib - XML-RPC client access\n",
      "20.24. SimpleXMLRPCServer - Basic XML-RPC server\n",
      "20.25. DocXMLRPCServer - Self-documenting XML-RPC server\n",
      "21. Multimedia Services\n",
      "21.1. audioop - Manipulate raw audio data\n",
      "21.2. imageop - Manipulate raw image data\n",
      "21.3. aifc - Read and write AIFF and AIFC files\n",
      "21.4. sunau - Read and write Sun AU files\n",
      "21.5. wave - Read and write WAV files\n",
      "21.6. chunk - Read IFF chunked data\n",
      "21.7. colorsys - Conversions between color systems\n",
      "21.8. imghdr - Determine the type of an image\n",
      "21.9. sndhdr - Determine type of sound file\n",
      "21.10. ossaudiodev - Access to OSS-compatible audio devices\n",
      "22. Internationalization\n",
      "22.1. gettext - Multilingual internationalization services\n",
      "22.2. locale - Internationalization services\n",
      "23. Program Frameworks\n",
      "23.1. cmd - Support for line-oriented command interpreters\n",
      "23.2. shlex - Simple lexical analysis\n",
      "24. Graphical User Interfaces with Tk\n",
      "24.1. Tkinter - Python interface to Tcl/Tk\n",
      "24.2. ttk - Tk themed widgets\n",
      "24.3. Tix - Extension widgets for Tk\n",
      "24.4. ScrolledText - Scrolled Text Widget\n",
      "24.5. turtle - Turtle graphics for Tk\n",
      "24.6. IDLE\n",
      "24.7. Other Graphical User Interface Packages\n",
      "25. Development Tools\n",
      "25.1. pydoc - Documentation generator and online help system\n",
      "25.2. doctest - Test interactive Python examples\n",
      "25.3. unittest - Unit testing framework\n",
      "25.4. 2to3 - Automated Python 2 to 3 code translation\n",
      "25.5. test - Regression tests package for Python\n",
      "25.6. test.test_support - Utility functions for tests\n",
      "26. Debugging and Profiling\n",
      "26.1. bdb - Debugger framework\n",
      "26.2. pdb - The Python Debugger\n",
      "26.3. Debugger Commands\n",
      "26.4. The Python Profilers\n",
      "26.5. hotshot - High performance logging profiler\n",
      "26.6. timeit - Measure execution time of small code snippets\n",
      "26.7. trace - Trace or track Python statement execution\n",
      "27. Python Runtime Services\n",
      "27.1. sys - System-specific parameters and functions\n",
      "27.2. sysconfig - Provide access to Python’s configuration information\n",
      "27.3. __builtin__ - Built-in objects\n",
      "27.4. future_builtins - Python 3 builtins\n",
      "27.5. __main__ - Top-level script environment\n",
      "27.6. warnings - Warning control\n",
      "27.7. contextlib - Utilities for with-statement contexts\n",
      "27.8. abc - Abstract Base Classes\n",
      "27.9. atexit - Exit handlers\n",
      "27.10. traceback - Print or retrieve a stack traceback\n",
      "27.11. __future__ - Future statement definitions\n",
      "27.12. gc - Garbage Collector interface\n",
      "27.13. inspect - Inspect live objects\n",
      "27.14. site - Site-specific configuration hook\n",
      "27.15. user - User-specific configuration hook\n",
      "27.16. fpectl - Floating point exception control\n",
      "27.17. distutils - Building and installing Python modules\n",
      "28. Custom Python Interpreters\n",
      "28.1. code - Interpreter base classes\n",
      "28.2. codeop - Compile Python code\n",
      "29. Restricted Execution\n",
      "29.1. rexec - Restricted execution framework\n",
      "29.2. Bastion - Restricting access to objects\n",
      "30. Importing Modules\n",
      "30.1. imp - Access the import internals\n",
      "30.2. importlib - Convenience wrappers for __import__()\n",
      "30.3. imputil - Import utilities\n",
      "30.4. zipimport - Import modules from Zip archives\n",
      "30.5. pkgutil - Package extension utility\n",
      "30.6. modulefinder - Find modules used by a script\n",
      "30.7. runpy - Locating and executing Python modules\n",
      "31. Python Language Services\n",
      "31.1. parser - Access Python parse trees\n",
      "31.2. ast - Abstract Syntax Trees\n",
      "31.3. symtable - Access to the compiler’s symbol tables\n",
      "31.4. symbol - Constants used with Python parse trees\n",
      "31.5. token - Constants used with Python parse trees\n",
      "31.6. keyword - Testing for Python keywords\n",
      "31.7. tokenize - Tokenizer for Python source\n",
      "31.8. tabnanny - Detection of ambiguous indentation\n",
      "31.9. pyclbr - Python class browser support\n",
      "31.10. py_compile - Compile Python source files\n",
      "31.11. compileall - Byte-compile Python libraries\n",
      "31.12. dis - Disassembler for Python bytecode\n",
      "31.13. pickletools - Tools for pickle developers\n",
      "32. Python compiler package\n",
      "32.1. The basic interface\n",
      "32.2. Limitations\n",
      "32.3. Python Abstract Syntax\n",
      "32.4. Using Visitors to Walk ASTs\n",
      "32.5. Bytecode Generation\n",
      "33. Miscellaneous Services\n",
      "33.1. formatter - Generic output formatting\n",
      "34. MS Windows Specific Services\n",
      "34.1. msilib - Read and write Microsoft Installer files\n",
      "34.2. msvcrt - Useful routines from the MS VC++ runtime\n",
      "34.3. _winreg - Windows registry access\n",
      "34.4. winsound - Sound-playing interface for Windows\n",
      "35. Unix Specific Services\n",
      "35.1. posix - The most common POSIX system calls\n",
      "35.2. pwd - The password database\n",
      "35.3. spwd - The shadow password database\n",
      "35.4. grp - The group database\n",
      "35.5. crypt - Function to check Unix passwords\n",
      "35.6. dl - Call C functions in shared objects\n",
      "35.7. termios - POSIX style tty control\n",
      "35.8. tty - Terminal control functions\n",
      "35.9. pty - Pseudo-terminal utilities\n",
      "35.10. fcntl - The fcntl and ioctl system calls\n",
      "35.11. pipes - Interface to shell pipelines\n",
      "35.12. posixfile - File-like objects with locking support\n",
      "35.13. resource - Resource usage information\n",
      "35.14. nis - Interface to Sun’s NIS (Yellow Pages)\n",
      "35.15. syslog - Unix syslog library routines\n",
      "35.16. commands - Utilities for running commands\n",
      "36. Mac OS X specific services\n",
      "36.1. ic - Access to the Mac OS X Internet Config\n",
      "36.2. MacOS - Access to Mac OS interpreter features\n",
      "36.3. macostools - Convenience routines for file manipulation\n",
      "36.4. findertools - The finder‘s Apple Events interface\n",
      "36.5. EasyDialogs - Basic Macintosh dialogs\n",
      "36.6. FrameWork - Interactive application framework\n",
      "36.7. autoGIL - Global Interpreter Lock handling in event loops\n",
      "36.8. Mac OS Toolbox Modules\n",
      "36.9. ColorPicker - Color selection dialog\n",
      "37. MacPython OSA Modules\n",
      "37.1. gensuitemodule - Generate OSA stub packages\n",
      "37.2. aetools - OSA client support\n",
      "37.3. aepack - Conversion between Python variables and AppleEvent data containers\n",
      "37.4. aetypes - AppleEvent objects\n",
      "37.5. MiniAEFrame - Open Scripting Architecture server support\n",
      "38. SGI IRIX Specific Services\n",
      "38.1. al - Audio functions on the SGI\n",
      "38.2. AL - Constants used with the al module\n",
      "38.3. cd - CD-ROM access on SGI systems\n",
      "38.4. fl - FORMS library for graphical user interfaces\n",
      "38.5. FL - Constants used with the fl module\n",
      "38.6. flp - Functions for loading stored FORMS designs\n",
      "38.7. fm - Font Manager interface\n",
      "38.8. gl - Graphics Library interface\n",
      "38.9. DEVICE - Constants used with the gl module\n",
      "38.10. GL - Constants used with the gl module\n",
      "38.11. imgfile - Support for SGI imglib files\n",
      "38.12. jpeg - Read and write JPEG files\n",
      "39. SunOS Specific Services\n",
      "39.1. sunaudiodev - Access to Sun audio hardware\n",
      "39.2. SUNAUDIODEV - Constants used with sunaudiodev\n",
      "40. Undocumented Modules\n",
      "40.1. Miscellaneous useful utilities\n",
      "40.2. Platform specific modules\n",
      "40.3. Multimedia\n",
      "40.4. Undocumented Mac OS modules\n",
      "40.5. Obsolete\n",
      "40.6. SGI-specific Extension modules\n",
      "\n"
     ]
    }
   ],
   "source": [
    "file_name = 'document.txt'\n",
    "try:\n",
    "    with open('c:/dev/%s' %file_name) as file:\n",
    "        text = file.read()\n",
    "except FileNotFoundError:\n",
    "    print('%s 파일이 존재하지 않음' %file_name)\n",
    "else:\n",
    "    print(text)\n",
    "finally:\n",
    "    file.close()"
   ]
  },
  {
   "cell_type": "code",
   "execution_count": 8,
   "metadata": {},
   "outputs": [
    {
     "name": "stdout",
     "output_type": "stream",
     "text": [
      "dx: 4 dy: 2\n"
     ]
    }
   ],
   "source": [
    "def distance(start, end):\n",
    "    dx1 = abs(start[0])\n",
    "    dy1 = abs(start[1])\n",
    "    dx2 = abs(end[0])\n",
    "    dy2 = abs(end[1])\n",
    "    return abs(dx1-dx2), abs(dy1-dy2)\n",
    "    \n",
    "start = (1, 1)\n",
    "end = (5, 3)\n",
    "dx, dy = distance(start, end)\n",
    "print('dx:', dx, 'dy:', dy)"
   ]
  },
  {
   "cell_type": "code",
   "execution_count": 1,
   "metadata": {},
   "outputs": [
    {
     "name": "stdout",
     "output_type": "stream",
     "text": [
      "컴파일 언어가 아닌 것은?\n",
      "1. C 2. C# 3. Python 4. swift => 0\n",
      "보기에 없습니다. 다시 입력하세요.\n",
      "1. C 2. C# 3. Python 4. swift => 9\n",
      "보기에 없습니다. 다시 입력하세요.\n",
      "1. C 2. C# 3. Python 4. swift => 100\n",
      "보기에 없습니다. 다시 입력하세요.\n",
      "1. C 2. C# 3. Python 4. swift => 1\n",
      "컴퓨터 장치가 아닌 것은?\n",
      "1. HDD 2. SDD 3. RAM 4. CPU => 50\n",
      "보기에 없습니다. 다시 입력하세요.\n",
      "1. HDD 2. SDD 3. RAM 4. CPU => 1\n",
      "파이썬의 자료형이 아닌 것은?\n",
      "1. str 2. tuple 3. list 4. Map => 2\n",
      "제출완료\n"
     ]
    }
   ],
   "source": [
    "print('컴파일 언어가 아닌 것은?')\n",
    "\n",
    "while True:\n",
    "    answer1 = int(input('1. C 2. C# 3. Python 4. swift => '))\n",
    "    if answer1 >= 1 and answer1 <= 4:\n",
    "        break\n",
    "    else:\n",
    "        print('보기에 없습니다. 다시 입력하세요.')\n",
    "    \n",
    "print('컴퓨터 장치가 아닌 것은?')\n",
    "\n",
    "while True:\n",
    "    answer2 = int(input('1. HDD 2. SDD 3. RAM 4. CPU => '))\n",
    "    if answer2 >= 1 and answer2 <= 4:\n",
    "        break\n",
    "    else:\n",
    "        print('보기에 없습니다. 다시 입력하세요.')\n",
    "    \n",
    "    \n",
    "print('파이썬의 자료형이 아닌 것은?')\n",
    "while True:\n",
    "    answer3 = int(input('1. str 2. tuple 3. list 4. Map => '))\n",
    "    if answer3 >= 1 and answer3 <= 4:\n",
    "        break\n",
    "    else:\n",
    "        print('보기에 없습니다. 다시 입력하세요.')\n",
    "    \n",
    "answer_list = list()\n",
    "answer_list.append(answer1)\n",
    "answer_list.append(answer2)\n",
    "answer_list.append(answer3)\n",
    "\n",
    "if all(answer_list):\n",
    "    print('제출완료')\n",
    "else:\n",
    "    print('재입력')\n"
   ]
  },
  {
   "cell_type": "code",
   "execution_count": 3,
   "metadata": {},
   "outputs": [
    {
     "name": "stdout",
     "output_type": "stream",
     "text": [
      "몫 7\n",
      "나머지 11\n"
     ]
    }
   ],
   "source": [
    "a = 123\n",
    "b = 16\n",
    "\n",
    "quotient, remainder = divmod(a,b)\n",
    "\n",
    "print('몫', quotient)\n",
    "print('나머지', remainder)"
   ]
  },
  {
   "cell_type": "code",
   "execution_count": 5,
   "metadata": {},
   "outputs": [
    {
     "name": "stdout",
     "output_type": "stream",
     "text": [
      "{1: 'a', 2: 'b', 3: 'c', 4: 'd', 5: 'e', 6: 'f', 7: 'g'}\n"
     ]
    }
   ],
   "source": [
    "char_list = ['a', 'b', 'c', 'd', 'e', 'f', 'g']\n",
    "char_dict = {}\n",
    "\n",
    "for i, e in enumerate(char_list):\n",
    "    char_dict[i+1] = e\n",
    "\n",
    "print(char_dict)"
   ]
  },
  {
   "cell_type": "code",
   "execution_count": 11,
   "metadata": {},
   "outputs": [
    {
     "name": "stdout",
     "output_type": "stream",
     "text": [
      "[2, 4, 6]\n"
     ]
    }
   ],
   "source": [
    "def even(n):\n",
    "    return n % 2 == 0\n",
    "\n",
    "\n",
    "print( list( filter( lambda n : n % 2 == 0, (1, 2, 3, 4, 5, 6) ) ) )"
   ]
  },
  {
   "cell_type": "code",
   "execution_count": 14,
   "metadata": {},
   "outputs": [
    {
     "name": "stdout",
     "output_type": "stream",
     "text": [
      "[2, 4, 6]\n"
     ]
    }
   ],
   "source": [
    "print( list( filter( even, (1, 2, 3, 4, 5, 6) ) ) )"
   ]
  },
  {
   "cell_type": "code",
   "execution_count": 15,
   "metadata": {},
   "outputs": [
    {
     "name": "stdout",
     "output_type": "stream",
     "text": [
      "[1, 3, 8]\n"
     ]
    }
   ],
   "source": [
    "num_list = [1, -2, 3, -5, 8, -3]\n",
    "\n",
    "print(list(filter(lambda n : n >= 0, num_list)))"
   ]
  },
  {
   "cell_type": "code",
   "execution_count": 16,
   "metadata": {},
   "outputs": [
    {
     "name": "stdout",
     "output_type": "stream",
     "text": [
      "0xbe 0x42 0xcd\n"
     ]
    }
   ],
   "source": [
    "red = 190\n",
    "green = 66\n",
    "blue = 205\n",
    "\n",
    "r = hex(red)\n",
    "g = hex(green)\n",
    "b = hex(blue)\n",
    "\n",
    "print(r, g, b)"
   ]
  },
  {
   "cell_type": "code",
   "execution_count": 26,
   "metadata": {},
   "outputs": [
    {
     "name": "stdout",
     "output_type": "stream",
     "text": [
      "HELLO\n",
      "GGOREB\n"
     ]
    }
   ],
   "source": [
    "hexa_string1 = '48 45 4C 4C 4F'\n",
    "hexa_string2 = '47 47 4F 52 45 42'\n",
    "\n",
    "def show_hex_to_ch(hexa_string):\n",
    "    nums = [ int(n, 16) for n in hexa_string.split(\" \")]\n",
    "    for n in nums:\n",
    "        print(chr(n), end = '')\n",
    "    print()\n",
    "    \n",
    "show_hex_to_ch(hexa_string1)\n",
    "show_hex_to_ch(hexa_string2)"
   ]
  },
  {
   "cell_type": "code",
   "execution_count": 32,
   "metadata": {},
   "outputs": [
    {
     "name": "stdout",
     "output_type": "stream",
     "text": [
      "28.04\n"
     ]
    }
   ],
   "source": [
    "values = [10, 'a', True, {}, [], -4, 23.24, (1,), -1.2]\n",
    "result = 0\n",
    "\n",
    "for i in values:\n",
    "    if not isinstance(i, bool) and isinstance(i,int) or isinstance(i, float):\n",
    "        result += i\n",
    "\n",
    "\n",
    "print(result) # 28.04"
   ]
  },
  {
   "cell_type": "code",
   "execution_count": 33,
   "metadata": {},
   "outputs": [
    {
     "data": {
      "text/plain": [
       "[False, True, False, True]"
      ]
     },
     "execution_count": 33,
     "metadata": {},
     "output_type": "execute_result"
    }
   ],
   "source": [
    "def two_times(x): return x % 2 == 0\n",
    "\n",
    "list(map(two_times, [1, 2, 3, 4]))"
   ]
  },
  {
   "cell_type": "code",
   "execution_count": 34,
   "metadata": {},
   "outputs": [
    {
     "data": {
      "text/plain": [
       "[3, 6, 9, 12]"
      ]
     },
     "execution_count": 34,
     "metadata": {},
     "output_type": "execute_result"
    }
   ],
   "source": [
    "num_list = [1, 2, 3, 4]\n",
    "\n",
    "list(map(lambda n : n * 3, num_list))"
   ]
  },
  {
   "cell_type": "code",
   "execution_count": 35,
   "metadata": {},
   "outputs": [
    {
     "data": {
      "text/plain": [
       "[3, 6, 9, 12]"
      ]
     },
     "execution_count": 35,
     "metadata": {},
     "output_type": "execute_result"
    }
   ],
   "source": [
    "def three(n):\n",
    "    return n * 3\n",
    "\n",
    "num_list = [1, 2, 3, 4]\n",
    "list(map(three, num_list))"
   ]
  },
  {
   "cell_type": "code",
   "execution_count": 36,
   "metadata": {},
   "outputs": [
    {
     "data": {
      "text/plain": [
       "[1, 4, 27, 256]"
      ]
     },
     "execution_count": 36,
     "metadata": {},
     "output_type": "execute_result"
    }
   ],
   "source": [
    "num_list = [1, 2, 3, 4]\n",
    "\n",
    "list(map(lambda n : n ** n, num_list))"
   ]
  },
  {
   "cell_type": "code",
   "execution_count": 37,
   "metadata": {},
   "outputs": [
    {
     "name": "stdout",
     "output_type": "stream",
     "text": [
      "7\n",
      "-8\n"
     ]
    }
   ],
   "source": [
    "num_list = [-8, 2, 7, 5, -3, 5, 0, 1]\n",
    "\n",
    "print(max(num_list))\n",
    "print(min(num_list))"
   ]
  },
  {
   "cell_type": "code",
   "execution_count": 49,
   "metadata": {},
   "outputs": [
    {
     "name": "stdout",
     "output_type": "stream",
     "text": [
      "65 83 67 73 73 32 84 65 66 76 69 \n",
      "80 89 84 72 79 78 \n"
     ]
    }
   ],
   "source": [
    "string1 = 'ASCII TABLE'\n",
    "string2 = 'PYTHON'\n",
    "def show_ch_to_ascii(string):\n",
    "    for i in string:\n",
    "        print(ord(i), end = \" \")\n",
    "    print()\n",
    "    \n",
    "show_ch_to_ascii(string1)\n",
    "show_ch_to_ascii(string2)"
   ]
  },
  {
   "cell_type": "code",
   "execution_count": 55,
   "metadata": {},
   "outputs": [
    {
     "data": {
      "text/plain": [
       "[(1, 4, 8, 10), (2, 5, 9, 11), (3, 6, 7, 12)]"
      ]
     },
     "execution_count": 55,
     "metadata": {},
     "output_type": "execute_result"
    }
   ],
   "source": [
    "list(zip([1, 2, 3], (4, 5, 6), {7, 8, 9}, [10, 11, 12, 13]))"
   ]
  },
  {
   "cell_type": "code",
   "execution_count": 64,
   "metadata": {},
   "outputs": [
    {
     "data": {
      "text/plain": [
       "[(1, 4, 8, 10), (2, 5, 6, 11), (3, 6, 7, 12)]"
      ]
     },
     "execution_count": 64,
     "metadata": {},
     "output_type": "execute_result"
    }
   ],
   "source": [
    "set1 = {6,7,8}\n",
    "# set1 = {1, 2, 3}\n",
    "list(zip([1, 2, 3], (4, 5, 6), set1, [10, 11, 12, 13]))"
   ]
  },
  {
   "cell_type": "code",
   "execution_count": 51,
   "metadata": {},
   "outputs": [
    {
     "data": {
      "text/plain": [
       "[(1, 'a', '가'), (2, 'b', '나'), (3, 'c', '다'), (4, 'd', '라')]"
      ]
     },
     "execution_count": 51,
     "metadata": {},
     "output_type": "execute_result"
    }
   ],
   "source": [
    "list1 = [1, 2, 3, 4]\n",
    "list2 = ['a', 'b', 'c', 'd']\n",
    "list3 = ['가', '나', '다', '라']\n",
    "list(zip(list1, list2, list3))"
   ]
  },
  {
   "cell_type": "code",
   "execution_count": 66,
   "metadata": {},
   "outputs": [
    {
     "name": "stdout",
     "output_type": "stream",
     "text": [
      "['C:\\\\Users\\\\student', 'C:\\\\Users\\\\student\\\\Miniconda3\\\\python37.zip', 'C:\\\\Users\\\\student\\\\Miniconda3\\\\DLLs', 'C:\\\\Users\\\\student\\\\Miniconda3\\\\lib', 'C:\\\\Users\\\\student\\\\Miniconda3', '', 'C:\\\\Users\\\\student\\\\Miniconda3\\\\lib\\\\site-packages', 'C:\\\\Users\\\\student\\\\Miniconda3\\\\lib\\\\site-packages\\\\win32', 'C:\\\\Users\\\\student\\\\Miniconda3\\\\lib\\\\site-packages\\\\win32\\\\lib', 'C:\\\\Users\\\\student\\\\Miniconda3\\\\lib\\\\site-packages\\\\Pythonwin', 'C:\\\\Users\\\\student\\\\Miniconda3\\\\lib\\\\site-packages\\\\IPython\\\\extensions', 'C:\\\\Users\\\\student\\\\.ipython']\n"
     ]
    }
   ],
   "source": [
    "import sys\n",
    "print(sys.path)"
   ]
  },
  {
   "cell_type": "code",
   "execution_count": 68,
   "metadata": {},
   "outputs": [],
   "source": [
    "import pickle\n",
    "class NowData:\n",
    "    def __init__(self):\n",
    "        self.x = 0\n",
    "        self.y = 0\n",
    "    def move(self, x, y):\n",
    "        self.x = x\n",
    "        self.y = y\n",
    "    def get_location(self):\n",
    "        return self.x, self.y\n",
    "    \n",
    "data = NowData()\n",
    "data.move(100, 200)\n",
    "file = open('data.bin', 'wb')\n",
    "pickle.dump(data,file)\n",
    "file.close()"
   ]
  },
  {
   "cell_type": "code",
   "execution_count": 69,
   "metadata": {},
   "outputs": [
    {
     "data": {
      "text/plain": [
       "(100, 200)"
      ]
     },
     "execution_count": 69,
     "metadata": {},
     "output_type": "execute_result"
    }
   ],
   "source": [
    "import pickle\n",
    "file = open('data.bin', 'rb')\n",
    "data = pickle.load(file)\n",
    "data.get_location()"
   ]
  },
  {
   "cell_type": "code",
   "execution_count": 71,
   "metadata": {},
   "outputs": [
    {
     "ename": "FileExistsError",
     "evalue": "[WinError 183] 파일이 이미 있으므로 만들 수 없습니다: 'python_dir'",
     "output_type": "error",
     "traceback": [
      "\u001b[1;31m---------------------------------------------------------------------------\u001b[0m",
      "\u001b[1;31mFileExistsError\u001b[0m                           Traceback (most recent call last)",
      "\u001b[1;32m<ipython-input-71-097b14662288>\u001b[0m in \u001b[0;36m<module>\u001b[1;34m\u001b[0m\n\u001b[0;32m      1\u001b[0m \u001b[1;32mimport\u001b[0m \u001b[0mos\u001b[0m\u001b[1;33m\u001b[0m\u001b[1;33m\u001b[0m\u001b[0m\n\u001b[1;32m----> 2\u001b[1;33m \u001b[0mos\u001b[0m\u001b[1;33m.\u001b[0m\u001b[0mmkdir\u001b[0m\u001b[1;33m(\u001b[0m\u001b[1;34m'python_dir'\u001b[0m\u001b[1;33m)\u001b[0m\u001b[1;33m\u001b[0m\u001b[1;33m\u001b[0m\u001b[0m\n\u001b[0m\u001b[0;32m      3\u001b[0m \u001b[0mos\u001b[0m\u001b[1;33m.\u001b[0m\u001b[0mmkdir\u001b[0m\u001b[1;33m(\u001b[0m\u001b[1;34m'python_dir/a'\u001b[0m\u001b[1;33m)\u001b[0m\u001b[1;33m\u001b[0m\u001b[1;33m\u001b[0m\u001b[0m\n\u001b[0;32m      4\u001b[0m \u001b[0mfile\u001b[0m \u001b[1;33m=\u001b[0m \u001b[0mopen\u001b[0m\u001b[1;33m(\u001b[0m\u001b[1;34m'python_dir/a/a.txt'\u001b[0m\u001b[1;33m,\u001b[0m \u001b[1;34m'wt'\u001b[0m\u001b[1;33m)\u001b[0m\u001b[1;33m\u001b[0m\u001b[1;33m\u001b[0m\u001b[0m\n\u001b[0;32m      5\u001b[0m \u001b[0mfile\u001b[0m\u001b[1;33m.\u001b[0m\u001b[0mclose\u001b[0m\u001b[1;33m(\u001b[0m\u001b[1;33m)\u001b[0m\u001b[1;33m\u001b[0m\u001b[1;33m\u001b[0m\u001b[0m\n",
      "\u001b[1;31mFileExistsError\u001b[0m: [WinError 183] 파일이 이미 있으므로 만들 수 없습니다: 'python_dir'"
     ]
    }
   ],
   "source": [
    "import os\n",
    "os.mkdir('python_dir')\n",
    "os.mkdir('python_dir/a')\n",
    "file = open('python_dir/a/a.txt', 'wt')\n",
    "file.close()\n",
    "\n",
    "os.mkdir('python_dir/b')\n",
    "file = open('python_dir/b/b.txt', 'wt')"
   ]
  },
  {
   "cell_type": "code",
   "execution_count": 74,
   "metadata": {
    "scrolled": true
   },
   "outputs": [
    {
     "name": "stdout",
     "output_type": "stream",
     "text": [
      "['C:/Windows\\\\addins', 'C:/Windows\\\\appcompat', 'C:/Windows\\\\apppatch', 'C:/Windows\\\\AppReadiness', 'C:/Windows\\\\assembly']\n"
     ]
    }
   ],
   "source": [
    "import glob\n",
    "fileList = glob.glob('C:/Windows/a*')\n",
    "print(fileList)"
   ]
  },
  {
   "cell_type": "code",
   "execution_count": 77,
   "metadata": {},
   "outputs": [
    {
     "data": {
      "text/plain": [
       "'python_dir/hosts'"
      ]
     },
     "execution_count": 77,
     "metadata": {},
     "output_type": "execute_result"
    }
   ],
   "source": [
    "import shutil\n",
    "\n",
    "shutil.copy('c:/Windows/System32/drivers/etc/hosts','python_dir/hosts')"
   ]
  },
  {
   "cell_type": "code",
   "execution_count": 2,
   "metadata": {},
   "outputs": [],
   "source": [
    "import time"
   ]
  },
  {
   "cell_type": "code",
   "execution_count": 81,
   "metadata": {},
   "outputs": [
    {
     "data": {
      "text/plain": [
       "'Wed Jan 15 16:17:36 2020'"
      ]
     },
     "execution_count": 81,
     "metadata": {},
     "output_type": "execute_result"
    }
   ],
   "source": [
    "time.asctime(time.localtime(time.time()))"
   ]
  },
  {
   "cell_type": "code",
   "execution_count": 85,
   "metadata": {},
   "outputs": [
    {
     "data": {
      "text/plain": [
       "'2020 01 15'"
      ]
     },
     "execution_count": 85,
     "metadata": {},
     "output_type": "execute_result"
    }
   ],
   "source": [
    "time.strftime('%Y %m %d',time.localtime(time.time()))"
   ]
  },
  {
   "cell_type": "code",
   "execution_count": null,
   "metadata": {},
   "outputs": [],
   "source": [
    "minute = 1.5\n",
    "time.sleep(minute*60*60*24)"
   ]
  },
  {
   "cell_type": "code",
   "execution_count": 3,
   "metadata": {},
   "outputs": [
    {
     "data": {
      "text/plain": [
       "time.struct_time(tm_year=2020, tm_mon=4, tm_mday=24, tm_hour=16, tm_min=30, tm_sec=36, tm_wday=4, tm_yday=115, tm_isdst=0)"
      ]
     },
     "execution_count": 3,
     "metadata": {},
     "output_type": "execute_result"
    }
   ],
   "source": [
    "time.localtime(time.time()+60*60*24*100)"
   ]
  },
  {
   "cell_type": "code",
   "execution_count": 4,
   "metadata": {},
   "outputs": [
    {
     "data": {
      "text/plain": [
       "'화'"
      ]
     },
     "execution_count": 4,
     "metadata": {},
     "output_type": "execute_result"
    }
   ],
   "source": [
    "import calendar\n",
    "week_dict = { 0 : '월', 1 : '화', 2 : '수', 3 : '목', 4 : '금', 5 : '토', 6 : '일' }\n",
    "week_dict[calendar.weekday(2017,5,9)]"
   ]
  },
  {
   "cell_type": "code",
   "execution_count": 11,
   "metadata": {},
   "outputs": [
    {
     "name": "stdout",
     "output_type": "stream",
     "text": [
      "2\n",
      "9\n",
      "16\n",
      "23\n",
      "30\n"
     ]
    }
   ],
   "source": [
    "import calendar\n",
    "mrange = calendar.monthrange(2004,8)\n",
    "for d in range(1,mrange[1]+1):\n",
    "    if calendar.weekday(2004,8,d) == 0:\n",
    "        print(d)"
   ]
  }
 ],
 "metadata": {
  "kernelspec": {
   "display_name": "Python 3",
   "language": "python",
   "name": "python3"
  },
  "language_info": {
   "codemirror_mode": {
    "name": "ipython",
    "version": 3
   },
   "file_extension": ".py",
   "mimetype": "text/x-python",
   "name": "python",
   "nbconvert_exporter": "python",
   "pygments_lexer": "ipython3",
   "version": "3.7.4"
  }
 },
 "nbformat": 4,
 "nbformat_minor": 2
}
