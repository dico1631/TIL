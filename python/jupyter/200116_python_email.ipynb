{
 "cells": [
  {
   "cell_type": "markdown",
   "metadata": {},
   "source": [
    "## 이메일 보내는 코드"
   ]
  },
  {
   "cell_type": "code",
   "execution_count": null,
   "metadata": {},
   "outputs": [],
   "source": [
    "import smtplib\n",
    "from email.mime.text import MIMEText\n",
    " \n",
    "def sendMail(from_email, to_email, msg):\n",
    "    smtp = smtplib.SMTP_SSL('smtp.gmail.com', 465)\n",
    "    smtp.login(from_email, '비밀번호') \n",
    "    msg = MIMEText(msg)\n",
    "    msg['Subject'] = '가입인사'\n",
    "    msg['To'] = to_email\n",
    "    smtp.sendmail(from_email, to_email, msg.as_string())\n",
    "    smtp.quit()\n",
    "\n",
    "\n",
    "sendMail('dicoqnfkrzl@gmail.com', '904k@naver.com', '환영합니다.')"
   ]
  }
 ],
 "metadata": {
  "kernelspec": {
   "display_name": "Python 3",
   "language": "python",
   "name": "python3"
  },
  "language_info": {
   "codemirror_mode": {
    "name": "ipython",
    "version": 3
   },
   "file_extension": ".py",
   "mimetype": "text/x-python",
   "name": "python",
   "nbconvert_exporter": "python",
   "pygments_lexer": "ipython3",
   "version": "3.7.4"
  }
 },
 "nbformat": 4,
 "nbformat_minor": 2
}
