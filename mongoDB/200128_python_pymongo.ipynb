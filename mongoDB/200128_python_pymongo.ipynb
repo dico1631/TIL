{
 "cells": [
  {
   "cell_type": "code",
   "execution_count": 1,
   "metadata": {},
   "outputs": [],
   "source": [
    "from pymongo import MongoClient"
   ]
  },
  {
   "cell_type": "code",
   "execution_count": 2,
   "metadata": {},
   "outputs": [],
   "source": [
    "client = MongoClient(host='localhost', port=27017)"
   ]
  },
  {
   "cell_type": "code",
   "execution_count": 3,
   "metadata": {},
   "outputs": [],
   "source": [
    "db = client['test']"
   ]
  },
  {
   "cell_type": "code",
   "execution_count": 4,
   "metadata": {},
   "outputs": [],
   "source": [
    "cursor = db.score.find()"
   ]
  },
  {
   "cell_type": "code",
   "execution_count": 5,
   "metadata": {},
   "outputs": [
    {
     "name": "stdout",
     "output_type": "stream",
     "text": [
      "99.0\n",
      "0.0\n",
      "1.0\n",
      "2.0\n",
      "3.0\n",
      "4.0\n",
      "5.0\n"
     ]
    }
   ],
   "source": [
    "for data in list(cursor):\n",
    "    print(data['a'])"
   ]
  },
  {
   "cell_type": "code",
   "execution_count": 6,
   "metadata": {},
   "outputs": [
    {
     "name": "stderr",
     "output_type": "stream",
     "text": [
      "C:\\Users\\student\\Miniconda3\\lib\\site-packages\\ipykernel_launcher.py:1: DeprecationWarning: save is deprecated. Use insert_one or replace_one instead\n",
      "  \"\"\"Entry point for launching an IPython kernel.\n"
     ]
    },
    {
     "data": {
      "text/plain": [
       "ObjectId('5e2ff20f2d81b353437fb22e')"
      ]
     },
     "execution_count": 6,
     "metadata": {},
     "output_type": "execute_result"
    }
   ],
   "source": [
    "db.score.save( { 'a' : 5, 'exam' : 6 } )"
   ]
  },
  {
   "cell_type": "code",
   "execution_count": 7,
   "metadata": {},
   "outputs": [],
   "source": [
    "# 아무것도 안 나옴\n",
    "# cursor는 위치를 옮기면서 data를 뽑아냈던거라서(위에서 이미 실행)\n",
    "# 다시 위로 위치를 옮겨줘야 함.\n",
    "for data in list(cursor):\n",
    "    print(data['a'])"
   ]
  },
  {
   "cell_type": "code",
   "execution_count": 8,
   "metadata": {},
   "outputs": [
    {
     "name": "stdout",
     "output_type": "stream",
     "text": [
      "99.0\n",
      "0.0\n",
      "1.0\n",
      "2.0\n",
      "3.0\n",
      "4.0\n",
      "5.0\n",
      "5\n"
     ]
    }
   ],
   "source": [
    "cursor.rewind()\n",
    "\n",
    "for data in list(cursor):\n",
    "    print(data['a'])"
   ]
  },
  {
   "cell_type": "markdown",
   "metadata": {},
   "source": [
    "# 셀레니움으로 가져온 자료를 mongoDB에 넣기"
   ]
  },
  {
   "cell_type": "code",
   "execution_count": 12,
   "metadata": {},
   "outputs": [],
   "source": [
    "from selenium import webdriver as wd\n",
    "driver = wd.Chrome(executable_path='chromedriver.exe')\n",
    "\n",
    "from selenium.webdriver.common.by import By\n",
    "from selenium.webdriver.support.ui import WebDriverWait\n",
    "from selenium.webdriver.support import expected_conditions as EC\n",
    "import time\n",
    "\n",
    "driver.get('http://tour.interpark.com')\n",
    "\n",
    "driver.implicitly_wait(10)\n",
    "\n",
    "driver.find_element_by_id('SearchGNBText').send_keys('달랏')\n",
    "\n",
    "driver.find_element_by_css_selector('button.search-btn').click()\n",
    "\n",
    "WebDriverWait(driver, 10).until(\n",
    "    EC.presence_of_element_located((By.CLASS_NAME, 'oTravelBox'))\n",
    ")\n",
    "\n",
    "driver.find_element_by_css_selector('.oTravelBox .moreBtn').click()"
   ]
  },
  {
   "cell_type": "code",
   "execution_count": 13,
   "metadata": {},
   "outputs": [],
   "source": [
    "from pymongo import MongoClient\n",
    "client = MongoClient(host='localhost', port=27017)\n",
    "db = client['test']"
   ]
  },
  {
   "cell_type": "code",
   "execution_count": 14,
   "metadata": {},
   "outputs": [
    {
     "name": "stderr",
     "output_type": "stream",
     "text": [
      "C:\\Users\\student\\Miniconda3\\lib\\site-packages\\ipykernel_launcher.py:12: DeprecationWarning: save is deprecated. Use insert_one or replace_one instead\n",
      "  if sys.path[0] == '':\n"
     ]
    },
    {
     "name": "stdout",
     "output_type": "stream",
     "text": [
      "여행 기간 : 3박4일\n",
      "출발 가능 기간 : 2020.01.29~2020.05.03\n",
      "평점 0.0\n",
      "0개의 상품평\n",
      "====================\n",
      "여행 기간 : 3박5일\n",
      "출발 가능 기간 : 2020.01.28~2020.06.30\n",
      "평점 10.0\n",
      "1개의 상품평\n",
      "====================\n",
      "여행 기간 : 3박5일\n",
      "출발 가능 기간 : 2020.01.28~2020.03.28\n",
      "평점 0.0\n",
      "0개의 상품평\n",
      "====================\n",
      "여행 기간 : 3박5일\n",
      "출발 가능 기간 : 2020.01.28~2020.03.28\n",
      "평점 10.0\n",
      "1개의 상품평\n",
      "====================\n",
      "여행 기간 : 3박5일\n",
      "출발 가능 기간 : 2020.01.28~2020.07.31\n",
      "평점 6.3\n",
      "2개의 상품평\n",
      "====================\n",
      "여행 기간 : 3박5일\n",
      "출발 가능 기간 : 2020.01.28~2020.03.31\n",
      "평점 4.0\n",
      "1개의 상품평\n",
      "====================\n",
      "여행 기간 : 3박4일\n",
      "출발 가능 기간 : 2020.01.29~2020.06.28\n",
      "평점 0.0\n",
      "0개의 상품평\n",
      "====================\n",
      "여행 기간 : 3박4일\n",
      "출발 가능 기간 : 2020.01.28~2020.07.31\n",
      "평점 0.0\n",
      "0개의 상품평\n",
      "====================\n",
      "여행 기간 : 3박4일\n",
      "출발 가능 기간 : 2020.01.28~2020.07.31\n",
      "평점 10.0\n",
      "1개의 상품평\n",
      "====================\n",
      "여행 기간 : 3박5일\n",
      "출발 가능 기간 : 2020.01.28~2020.06.27\n",
      "평점 0.0\n",
      "0개의 상품평\n",
      "====================\n"
     ]
    }
   ],
   "source": [
    "for page in range(1, 2):\n",
    "    driver.execute_script(\"searchModule.SetCategoryList(%s, '')\" % page)\n",
    "    time.sleep(2)\n",
    "    boxItems = driver.find_elements_by_css_selector(\n",
    "    '.panelZone > .oTravelBox > .boxList > li')\n",
    "    for li in boxItems:\n",
    "        db.tour.save( { \n",
    "            'img' : li.find_element_by_css_selector('img.img').get_attribute('src'), \n",
    "            'link' : li.find_element_by_css_selector('a').get_attribute('onclick'), \n",
    "            'title' : li.find_element_by_css_selector('h5.proTit').text, \n",
    "            'desc' : li.find_element_by_css_selector('.proSub').text, \n",
    "            'price' : li.find_element_by_css_selector('strong.proPrice').text} )\n",
    "        for info in li.find_elements_by_css_selector('.info-row .proInfo'):\n",
    "            print(info.text)\n",
    "        print('=' * 20)\n",
    "driver.close()"
   ]
  }
 ],
 "metadata": {
  "kernelspec": {
   "display_name": "Python 3",
   "language": "python",
   "name": "python3"
  },
  "language_info": {
   "codemirror_mode": {
    "name": "ipython",
    "version": 3
   },
   "file_extension": ".py",
   "mimetype": "text/x-python",
   "name": "python",
   "nbconvert_exporter": "python",
   "pygments_lexer": "ipython3",
   "version": "3.7.4"
  }
 },
 "nbformat": 4,
 "nbformat_minor": 2
}
